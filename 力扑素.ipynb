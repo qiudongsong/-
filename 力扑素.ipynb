{
 "cells": [
  {
   "cell_type": "code",
   "execution_count": 1,
   "id": "ba6a664f-3c97-4f86-b4a7-1e3cc600d50a",
   "metadata": {},
   "outputs": [],
   "source": [
    "import numpy as np\n",
    "import pandas as pd\n",
    "import os\n",
    "from openpyxl import utils\n",
    "import warnings\n",
    "\n",
    "warnings.filterwarnings(\"ignore\", category=UserWarning)\n",
    "\n",
    "基本信息 = pd.read_excel('C:/Users/NC-O10/Dropbox/云蜚科技/脂质紫杉醇/力扑素.xlsx', sheet_name='基本信息')"
   ]
  },
  {
   "cell_type": "code",
   "execution_count": 2,
   "id": "bd3c709c",
   "metadata": {},
   "outputs": [
    {
     "name": "stdout",
     "output_type": "stream",
     "text": [
      "   病例编号 入组状态  来源团队 领衔医生 姓名拼音缩写         医院  住院号 性别        出生日期\n",
      "0     1  已入组  镇江一院   丁浩    KYH  镇江市第一人民医院  NaN  男  1950-09-23\n",
      "1     2  已入组  肿三倪健   倪健    YLG    上海市肺科医院  NaN  男  1952-05-27\n"
     ]
    }
   ],
   "source": [
    "print(基本信息.head(2))\n"
   ]
  },
  {
   "cell_type": "code",
   "execution_count": 3,
   "id": "1f4107ab",
   "metadata": {},
   "outputs": [],
   "source": [
    "入选标准 = pd.read_excel('C:/Users/NC-O10/Dropbox/云蜚科技/脂质紫杉醇/力扑素.xlsx', sheet_name='入选标准')"
   ]
  },
  {
   "cell_type": "code",
   "execution_count": 4,
   "id": "d5084c95",
   "metadata": {},
   "outputs": [],
   "source": [
    "排除标准 = pd.read_excel('C:/Users/NC-O10/Dropbox/云蜚科技/脂质紫杉醇/力扑素.xlsx', sheet_name='排除标准')"
   ]
  },
  {
   "cell_type": "code",
   "execution_count": 5,
   "id": "cbabe37a-761f-4476-a4dc-7e4e8d6b0d50",
   "metadata": {},
   "outputs": [],
   "source": [
    "首次确诊 = pd.read_excel('C:/Users/NC-O10/Dropbox/云蜚科技/脂质紫杉醇/力扑素.xlsx', sheet_name='首次确诊')"
   ]
  },
  {
   "cell_type": "code",
   "execution_count": 6,
   "id": "a96b759d",
   "metadata": {},
   "outputs": [],
   "source": [
    "最新分期 = pd.read_excel('C:/Users/NC-O10/Dropbox/云蜚科技/脂质紫杉醇/力扑素.xlsx', sheet_name='最新分期')"
   ]
  },
  {
   "cell_type": "code",
   "execution_count": 7,
   "id": "8d957336",
   "metadata": {},
   "outputs": [],
   "source": [
    "基因 = pd.read_excel('C:/Users/NC-O10/Dropbox/云蜚科技/脂质紫杉醇/力扑素.xlsx', sheet_name='基因')"
   ]
  },
  {
   "cell_type": "code",
   "execution_count": 8,
   "id": "a8e88b50",
   "metadata": {},
   "outputs": [],
   "source": [
    "免疫组化=pd.read_excel('C:/Users/NC-O10/Dropbox/云蜚科技/脂质紫杉醇/力扑素.xlsx', sheet_name='免疫组化')"
   ]
  },
  {
   "cell_type": "code",
   "execution_count": 11,
   "id": "462af318",
   "metadata": {},
   "outputs": [],
   "source": [
    "紫杉醇=pd.read_excel('C:/Users/NC-O10/Dropbox/云蜚科技/脂质紫杉醇/力扑素.xlsx', sheet_name='紫杉醇脂质体用药信息')"
   ]
  },
  {
   "cell_type": "code",
   "execution_count": 12,
   "id": "3fc8bc66",
   "metadata": {},
   "outputs": [],
   "source": [
    "联合免疫=pd.read_excel('C:/Users/NC-O10/Dropbox/云蜚科技/脂质紫杉醇/力扑素.xlsx', sheet_name='联合免疫用药信息')"
   ]
  },
  {
   "cell_type": "code",
   "execution_count": 13,
   "id": "d51b5851",
   "metadata": {},
   "outputs": [],
   "source": [
    "其他联合=pd.read_excel('C:/Users/NC-O10/Dropbox/云蜚科技/脂质紫杉醇/力扑素.xlsx', sheet_name='其他联合用药信息')"
   ]
  },
  {
   "cell_type": "code",
   "execution_count": null,
   "id": "db74994c",
   "metadata": {},
   "outputs": [],
   "source": [
    "联合免疫=pd.read_excel('C:/Users/NC-O10/Dropbox/云蜚科技/脂质紫杉醇/力扑素.xlsx', sheet_name='联合免疫用药信息')"
   ]
  },
  {
   "cell_type": "code",
   "execution_count": 14,
   "id": "2ad0d72f",
   "metadata": {},
   "outputs": [],
   "source": [
    "既往放疗=pd.read_excel('C:/Users/NC-O10/Dropbox/云蜚科技/脂质紫杉醇/力扑素.xlsx', sheet_name='既往放疗信息')"
   ]
  },
  {
   "cell_type": "code",
   "execution_count": 15,
   "id": "896459e3",
   "metadata": {},
   "outputs": [],
   "source": [
    "既往手术=pd.read_excel('C:/Users/NC-O10/Dropbox/云蜚科技/脂质紫杉醇/力扑素.xlsx', sheet_name='既往手术信息')"
   ]
  },
  {
   "cell_type": "code",
   "execution_count": 16,
   "id": "7f508061",
   "metadata": {},
   "outputs": [],
   "source": [
    "既往用药=pd.read_excel('C:/Users/NC-O10/Dropbox/云蜚科技/脂质紫杉醇/力扑素.xlsx', sheet_name='既往用药信息')"
   ]
  },
  {
   "cell_type": "code",
   "execution_count": 17,
   "id": "3778f07b",
   "metadata": {},
   "outputs": [],
   "source": [
    "疗效评价记录=pd.read_excel('C:/Users/NC-O10/Dropbox/云蜚科技/脂质紫杉醇/力扑素.xlsx', sheet_name='疗效评价记录')"
   ]
  },
  {
   "cell_type": "code",
   "execution_count": 18,
   "id": "110efbc8",
   "metadata": {},
   "outputs": [],
   "source": [
    "疗效评价总结=pd.read_excel('C:/Users/NC-O10/Dropbox/云蜚科技/脂质紫杉醇/力扑素.xlsx', sheet_name='疗效评价总结')"
   ]
  },
  {
   "cell_type": "code",
   "execution_count": null,
   "id": "f211c29d",
   "metadata": {},
   "outputs": [],
   "source": [
    "不良事件=pd.read_excel('C:/Users/NC-O10/Dropbox/云蜚科技/脂质紫杉醇/力扑素.xlsx', sheet_name='不良事件')"
   ]
  },
  {
   "cell_type": "code",
   "execution_count": 19,
   "id": "5b052b7a",
   "metadata": {},
   "outputs": [],
   "source": [
    "随访信息=pd.read_excel('C:/Users/NC-O10/Dropbox/云蜚科技/脂质紫杉醇/力扑素.xlsx', sheet_name='随访信息')"
   ]
  }
 ],
 "metadata": {
  "kernelspec": {
   "display_name": "Python 3 (ipykernel)",
   "language": "python",
   "name": "python3"
  },
  "language_info": {
   "codemirror_mode": {
    "name": "ipython",
    "version": 3
   },
   "file_extension": ".py",
   "mimetype": "text/x-python",
   "name": "python",
   "nbconvert_exporter": "python",
   "pygments_lexer": "ipython3",
   "version": "3.10.8"
  }
 },
 "nbformat": 4,
 "nbformat_minor": 5
}
