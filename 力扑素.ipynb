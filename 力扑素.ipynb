{
 "cells": [
  {
   "cell_type": "code",
   "execution_count": 12,
   "id": "ba6a664f-3c97-4f86-b4a7-1e3cc600d50a",
   "metadata": {},
   "outputs": [],
   "source": [
    "import numpy as np\n",
    "import pandas as pd\n",
    "import os\n",
    "from openpyxl import utils\n",
    "import warnings\n",
    "\n",
    "warnings.filterwarnings(\"ignore\", category=UserWarning)\n",
    "\n",
    "基本信息 = pd.read_excel('C:/Users/NC-O10/Dropbox/云蜚科技/脂质紫杉醇/力扑素.xlsx', sheet_name='基本信息')"
   ]
  },
  {
   "cell_type": "code",
   "execution_count": 24,
   "id": "bd3c709c",
   "metadata": {},
   "outputs": [
    {
     "name": "stdout",
     "output_type": "stream",
     "text": [
      "   病例编号 入组状态  来源团队 领衔医生 姓名拼音缩写         医院  住院号 性别        出生日期\n",
      "0     1  已入组  镇江一院   丁浩    KYH  镇江市第一人民医院  NaN  男  1950-09-23\n",
      "1     2  已入组  肿三倪健   倪健    YLG    上海市肺科医院  NaN  男  1952-05-27\n"
     ]
    }
   ],
   "source": [
    "print(基本信息.head(2))\n"
   ]
  },
  {
   "cell_type": "code",
   "execution_count": 26,
   "id": "98b05d1b",
   "metadata": {},
   "outputs": [
    {
     "name": "stdout",
     "output_type": "stream",
     "text": [
      "   病例编号 入组状态  来源团队 领衔医生 姓名拼音缩写         医院  住院号 性别        出生日期\n",
      "0     1  已入组  镇江一院   丁浩    KYH  镇江市第一人民医院  NaN  男  1950-09-23\n",
      "1     2  已入组  肿三倪健   倪健    YLG    上海市肺科医院  NaN  男  1952-05-27\n",
      "2     3  已入组  肿三倪健   倪健    LBC    上海市肺科医院  NaN  男  1956-09-04\n",
      "3     4  已入组  肿三倪健   倪健     ZW    上海市肺科医院  NaN  男  1951-01-18\n"
     ]
    }
   ],
   "source": [
    "print(基本信息.head(4))"
   ]
  },
  {
   "cell_type": "code",
   "execution_count": 8,
   "id": "c784f1c0-9a89-43e8-86d2-9edfb797e403",
   "metadata": {},
   "outputs": [],
   "source": [
    "入选标准 = pd.read_excel('C:/Users/NC-O10/Dropbox/云蜚科技/脂质紫杉醇/力扑素.xlsx', sheet_name='入选标准')"
   ]
  },
  {
   "cell_type": "code",
   "execution_count": 13,
   "id": "03e80fcc-1d9a-4e1c-abbf-0b2f86fe90df",
   "metadata": {},
   "outputs": [
    {
     "name": "stdout",
     "output_type": "stream",
     "text": [
      "   病例编号 入组状态  来源团队 领衔医生 姓名拼音缩写         医院  住院号 性别        出生日期\n",
      "0     1  已入组  镇江一院   丁浩    KYH  镇江市第一人民医院  NaN  男  1950-09-23\n",
      "1     2  已入组  肿三倪健   倪健    YLG    上海市肺科医院  NaN  男  1952-05-27\n",
      "2     3  已入组  肿三倪健   倪健    LBC    上海市肺科医院  NaN  男  1956-09-04\n",
      "3     4  已入组  肿三倪健   倪健     ZW    上海市肺科医院  NaN  男  1951-01-18\n",
      "4     5  已剔除  肿三倪健   倪健    DTX    上海市肺科医院  NaN  男  1947-09-19\n",
      "   病例编号 入组状态  来源团队 领衔医生 1.经组织学证实的晚期非小细胞肺癌患者，包括肺鳞癌和非鳞非小细胞肺癌  \\\n",
      "0     1  已入组  镇江一院   丁浩                                NaN   \n",
      "1     2  已入组  肿三倪健   倪健                                NaN   \n",
      "2     3  已入组  肿三倪健   倪健                                NaN   \n",
      "3     4  已入组  肿三倪健   倪健                                NaN   \n",
      "4     5  已剔除  肿三倪健   倪健                                NaN   \n",
      "\n",
      "  2.确诊晚期肺癌后未接受过系统的抗肿瘤治疗；曾因非转移性疾病接受过新辅助化疗、辅助化疗或同步放化疗的患者，距上一次治疗结束间隔至少 6 个月  \\\n",
      "0                                                NaN                       \n",
      "1                                                NaN                       \n",
      "2                                                NaN                       \n",
      "3                                                NaN                       \n",
      "4                                                NaN                       \n",
      "\n",
      "  3.确诊晚期肺癌后一线接受包含紫杉醇脂质体和免疫的联合治疗方案，其中免疫治疗包含 PD-1 单抗、PD-L1 单抗、CTLA-4 单抗以及各类免疫双特异性抗体  \\\n",
      "0                                                NaN                                \n",
      "1                                                NaN                                \n",
      "2                                                NaN                                \n",
      "3                                                NaN                                \n",
      "4                                                NaN                                \n",
      "\n",
      "  4.至少连续使用过2 个周期的紫杉醇脂质体联合免疫治疗 5.根据 RECIST V1.1 标准至少具有一个可测量病灶  \\\n",
      "0                         NaN                            NaN   \n",
      "1                         NaN                            NaN   \n",
      "2                         NaN                            NaN   \n",
      "3                         NaN                            NaN   \n",
      "4                         NaN                            NaN   \n",
      "\n",
      "  6.诊疗记录中需有可评估 PFS、ORR 的治疗前后检查和用药记录 7.诊疗记录中需有紫杉醇脂质体联合免疫治疗的安全性记录  \\\n",
      "0                               NaN                         NaN   \n",
      "1                               NaN                         NaN   \n",
      "2                               NaN                         NaN   \n",
      "3                               NaN                         NaN   \n",
      "4                               NaN                         NaN   \n",
      "\n",
      "  8.有记录可用的人口统计学特征数据 9.有记录可用的疾病特征和治疗模式数据  \n",
      "0               NaN                 NaN  \n",
      "1               NaN                 NaN  \n",
      "2               NaN                 NaN  \n",
      "3               NaN                 NaN  \n",
      "4               NaN                 NaN  \n"
     ]
    }
   ],
   "source": [
    "print(基本信息.head())\n",
    "print(入选标准.head())"
   ]
  },
  {
   "cell_type": "code",
   "execution_count": 10,
   "id": "cbabe37a-761f-4476-a4dc-7e4e8d6b0d50",
   "metadata": {},
   "outputs": [],
   "source": [
    "首次确诊 = pd.read_excel('C:/Users/NC-O10/Dropbox/云蜚科技/脂质紫杉醇/力扑素.xlsx', sheet_name='首次确诊')"
   ]
  },
  {
   "cell_type": "code",
   "execution_count": 14,
   "id": "27b7ce39-7da1-4657-a923-dac0bc194dd2",
   "metadata": {},
   "outputs": [
    {
     "name": "stdout",
     "output_type": "stream",
     "text": [
      "   病例编号 入组状态  来源团队 领衔医生  确诊病理类型  确诊年龄        确诊日期        确诊病理诊断 确诊病理诊断分化程度  \\\n",
      "0     1  已入组  镇江一院   丁浩     NaN   NaN         NaN           NaN        NaN   \n",
      "1     2  已入组  肿三倪健   倪健     NaN   NaN         NaN           NaN        NaN   \n",
      "2     3  已入组  肿三倪健   倪健  活检组织病理  65.0  2021-09-14     鳞状细胞癌/角化性        NaN   \n",
      "3     4  已入组  肿三倪健   倪健     NaN   NaN         NaN           NaN        NaN   \n",
      "4     5  已剔除  肿三倪健   倪健  活检组织病理  75.0  2022-03-03  小细胞癌/复合性小细胞癌          低   \n",
      "\n",
      "                                          确诊病理诊断描述  \n",
      "0                                              NaN  \n",
      "1                                              NaN  \n",
      "2                                              NaN  \n",
      "3                                              NaN  \n",
      "4  肺穿刺示（右下）低分化癌，结合免疫组化结果及HE形态考虑复合性小细胞癌（含少量非小细胞癌成分）  \n"
     ]
    }
   ],
   "source": [
    "print(首次确诊.head())"
   ]
  },
  {
   "cell_type": "code",
   "execution_count": null,
   "id": "10aa7023-4e76-4f69-9d68-c1f3b4814dd7",
   "metadata": {},
   "outputs": [],
   "source": []
  }
 ],
 "metadata": {
  "kernelspec": {
   "display_name": "Python 3 (ipykernel)",
   "language": "python",
   "name": "python3"
  },
  "language_info": {
   "codemirror_mode": {
    "name": "ipython",
    "version": 3
   },
   "file_extension": ".py",
   "mimetype": "text/x-python",
   "name": "python",
   "nbconvert_exporter": "python",
   "pygments_lexer": "ipython3",
   "version": "3.10.9"
  }
 },
 "nbformat": 4,
 "nbformat_minor": 5
}
