{
 "cells": [
  {
   "cell_type": "code",
   "execution_count": 85,
   "id": "ba6a664f-3c97-4f86-b4a7-1e3cc600d50a",
   "metadata": {},
   "outputs": [],
   "source": [
    "import numpy as np\n",
    "import pandas as pd\n",
    "import os\n",
    "from openpyxl import utils\n",
    "import warnings\n",
    "import statistics\n",
    "warnings.filterwarnings(\"ignore\", category=UserWarning)\n",
    "from scipy.stats import fisher_exact"
   ]
  },
  {
   "cell_type": "code",
   "execution_count": 95,
   "id": "bd3c709c",
   "metadata": {},
   "outputs": [],
   "source": [
    "基本信息 = pd.read_excel('C:/Users/NC-O10/Dropbox/云蜚科技/脂质紫杉醇/力扑素.xlsx', sheet_name='基本信息')\n",
    "入选标准 = pd.read_excel('C:/Users/NC-O10/Dropbox/云蜚科技/脂质紫杉醇/力扑素.xlsx', sheet_name='入选标准')\n",
    "排除标准 = pd.read_excel('C:/Users/NC-O10/Dropbox/云蜚科技/脂质紫杉醇/力扑素.xlsx', sheet_name='排除标准')\n",
    "首次确诊 = pd.read_excel('C:/Users/NC-O10/Dropbox/云蜚科技/脂质紫杉醇/力扑素.xlsx', sheet_name='首次确诊')\n",
    "最新分期 = pd.read_excel('C:/Users/NC-O10/Dropbox/云蜚科技/脂质紫杉醇/力扑素.xlsx', sheet_name='最新分期')\n",
    "基因 = pd.read_excel('C:/Users/NC-O10/Dropbox/云蜚科技/脂质紫杉醇/力扑素.xlsx', sheet_name='基因')\n",
    "免疫组化=pd.read_excel('C:/Users/NC-O10/Dropbox/云蜚科技/脂质紫杉醇/力扑素.xlsx', sheet_name='免疫组化')\n",
    "紫杉醇=pd.read_excel('C:/Users/NC-O10/Dropbox/云蜚科技/脂质紫杉醇/力扑素.xlsx', sheet_name='紫杉醇脂质体用药信息')\n",
    "联合免疫=pd.read_excel('C:/Users/NC-O10/Dropbox/云蜚科技/脂质紫杉醇/力扑素.xlsx', sheet_name='联合免疫用药信息')\n",
    "其他联合=pd.read_excel('C:/Users/NC-O10/Dropbox/云蜚科技/脂质紫杉醇/力扑素.xlsx', sheet_name='其他联合用药信息')\n",
    "联合免疫=pd.read_excel('C:/Users/NC-O10/Dropbox/云蜚科技/脂质紫杉醇/力扑素.xlsx', sheet_name='联合免疫用药信息')\n",
    "既往放疗=pd.read_excel('C:/Users/NC-O10/Dropbox/云蜚科技/脂质紫杉醇/力扑素.xlsx', sheet_name='既往放疗信息')\n",
    "既往手术=pd.read_excel('C:/Users/NC-O10/Dropbox/云蜚科技/脂质紫杉醇/力扑素.xlsx', sheet_name='既往手术信息')\n",
    "既往用药=pd.read_excel('C:/Users/NC-O10/Dropbox/云蜚科技/脂质紫杉醇/力扑素.xlsx', sheet_name='既往用药信息')\n",
    "疗效评价记录=pd.read_excel('C:/Users/NC-O10/Dropbox/云蜚科技/脂质紫杉醇/力扑素.xlsx', sheet_name='疗效评价记录')\n",
    "疗效评价总结=pd.read_excel('C:/Users/NC-O10/Dropbox/云蜚科技/脂质紫杉醇/力扑素.xlsx', sheet_name='疗效评价总结')\n",
    "不良事件=pd.read_excel('C:/Users/NC-O10/Dropbox/云蜚科技/脂质紫杉醇/力扑素.xlsx', sheet_name='不良事件')\n",
    "随访信息=pd.read_excel('C:/Users/NC-O10/Dropbox/云蜚科技/脂质紫杉醇/力扑素.xlsx', sheet_name='随访信息')"
   ]
  },
  {
   "cell_type": "code",
   "execution_count": null,
   "id": "15894b45",
   "metadata": {},
   "outputs": [],
   "source": [
    "## 一. 描述性分析"
   ]
  },
  {
   "cell_type": "code",
   "execution_count": 83,
   "id": "50930b83",
   "metadata": {},
   "outputs": [
    {
     "name": "stdout",
     "output_type": "stream",
     "text": [
      "64.61029411764706\n",
      "26\n",
      "83\n",
      "p-value: 0.6955911912117596\n"
     ]
    }
   ],
   "source": [
    "#年龄recoding\n",
    "from datetime import datetime\n",
    "出生日期= 基本信息['出生日期']\n",
    "# Sample data with a column of birth dates\n",
    "birth_dates = 基本信息['出生日期']\n",
    "\n",
    "# Function to calculate age from a birth date\n",
    "def calculate_age(birth_date):\n",
    "    current_date = datetime.now().date()\n",
    "    birth_date = datetime.strptime(birth_date, '%Y-%m-%d').date()\n",
    "    age = current_date.year - birth_date.year\n",
    "\n",
    "    if current_date.month < birth_date.month or (current_date.month == birth_date.month and current_date.day < birth_date.day):\n",
    "        age -= 1\n",
    "\n",
    "    return age\n",
    "\n",
    "# Convert birth dates to ages\n",
    "ages = [calculate_age(birth_date) for birth_date in birth_dates]\n",
    "\n",
    "# Print the resulting ages\n",
    "#print(\"Ages:\", ages)\n",
    "基本信息['年龄']=ages\n",
    "中位数_年龄=statistics.mean(基本信息['年龄'])\n",
    "范围_年龄max=max(基本信息['年龄'])\n",
    "范围_年龄min=min(基本信息['年龄'])\n",
    "print(中位数_年龄)\n",
    "print(范围_年龄min)\n",
    "print(范围_年龄max)\n",
    "#recode 年龄 greater than mean=1, lower than mean=0\n",
    "# Assuming you have a DataFrame with an 'Age' column\n",
    "年龄10 = pd.DataFrame({'Age': 基本信息['年龄']})\n",
    "\n",
    "# Calculate the mean age\n",
    "mean_age = np.mean(年龄10['Age'])\n",
    "\n",
    "# Create a new column for recoded categories\n",
    "年龄10['Age_Category'] = ''\n",
    "\n",
    "# Recode ages based on mean\n",
    "年龄10.loc[年龄10['Age'] > mean_age, 'Age_Category'] = '1'\n",
    "年龄10.loc[年龄10['Age'] < mean_age, 'Age_Category'] = '0'\n",
    "\n",
    "# Print the updated DataFrame\n",
    "#print(年龄10)\n",
    "\n",
    "#calculate the fisher's exact test p-value\n",
    "\n",
    "\n",
    "from scipy.stats import fisher_exact\n",
    "import pandas as pd\n",
    "\n",
    "# Assuming you have a DataFrame with exposure and outcome columns\n",
    "紫杉醇_年龄 = pd.DataFrame({'Exposure': 年龄10['Age_Category'],\n",
    "                   'Outcome': 紫杉醇['紫杉醇脂质体是否一线治疗']})\n",
    "\n",
    "# Extract the exposure and outcome columns as separate variables\n",
    "exposure = 紫杉醇_年龄['Exposure']\n",
    "outcome = 紫杉醇_年龄['Outcome']\n",
    "\n",
    "# Perform Fisher's exact test\n",
    "odds_ratio, p_value = fisher_exact(pd.crosstab(exposure, outcome))\n",
    "\n",
    "# Print the results\n",
    "#print(\"Odds Ratio:\", odds_ratio)\n",
    "print(\"p-value:\", p_value)"
   ]
  },
  {
   "cell_type": "code",
   "execution_count": null,
   "id": "87087974",
   "metadata": {},
   "outputs": [],
   "source": [
    "## 二. 生存分析"
   ]
  },
  {
   "cell_type": "code",
   "execution_count": 130,
   "id": "de786cc1",
   "metadata": {},
   "outputs": [
    {
     "name": "stdout",
     "output_type": "stream",
     "text": [
      "Count of '部分缓解(PR)' in the column '疗效评价': 51\n",
      "Count of '疾病稳定(SD)' in the column '疗效评价': 50\n",
      "Count of '疾病进展(PD)' in the column '疗效评价': 18\n",
      "Count of '完全缓解(CR)' in the column '疗效评价': 13\n"
     ]
    }
   ],
   "source": [
    "## 三. 疗效评估\n",
    "疗效评价=疗效评价记录['疗效评价']\n",
    "\n",
    "# number of PR\n",
    "# Count the occurrences of a specific string in a column\n",
    "PR = '部分缓解(PR)'\n",
    "count = (疗效评价记录['疗效评价'] == PR).sum()\n",
    "# Print the count\n",
    "print(\"Count of '{}' in the column '{}': {}\".format(PR, '疗效评价', count))\n",
    "\n",
    "# number of SD\n",
    "# Count the occurrences of a specific string in a column\n",
    "SD = '疾病稳定(SD)'\n",
    "count = (疗效评价记录['疗效评价'] == SD).sum()\n",
    "# Print the count\n",
    "print(\"Count of '{}' in the column '{}': {}\".format(SD, '疗效评价', count))\n",
    "\n",
    "# number of PD\n",
    "# Count the occurrences of a specific string in a column\n",
    "PD = '疾病进展(PD)'\n",
    "count = (疗效评价记录['疗效评价'] == PD).sum()\n",
    "# Print the count\n",
    "print(\"Count of '{}' in the column '{}': {}\".format(PD, '疗效评价', count))\n",
    "\n",
    "# number of CR\n",
    "# Count the occurrences of a specific string in a column\n",
    "CR = '完全缓解(CR)'\n",
    "count = (疗效评价记录['疗效评价'] == CR).sum()\n",
    "# Print the count\n",
    "print(\"Count of '{}' in the column '{}': {}\".format(CR, '疗效评价', count))"
   ]
  }
 ],
 "metadata": {
  "kernelspec": {
   "display_name": "Python 3 (ipykernel)",
   "language": "python",
   "name": "python3"
  },
  "language_info": {
   "codemirror_mode": {
    "name": "ipython",
    "version": 3
   },
   "file_extension": ".py",
   "mimetype": "text/x-python",
   "name": "python",
   "nbconvert_exporter": "python",
   "pygments_lexer": "ipython3",
   "version": "3.10.8"
  }
 },
 "nbformat": 4,
 "nbformat_minor": 5
}
