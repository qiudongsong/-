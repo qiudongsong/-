{
 "cells": [
  {
   "cell_type": "code",
   "execution_count": 1,
   "id": "ba6a664f-3c97-4f86-b4a7-1e3cc600d50a",
   "metadata": {},
   "outputs": [],
   "source": [
    "import numpy as np\n",
    "import pandas as pd\n",
    "import os\n",
    "from openpyxl import utils\n",
    "import warnings\n",
    "\n",
    "warnings.filterwarnings(\"ignore\", category=UserWarning)\n"
   ]
  },
  {
   "cell_type": "code",
   "execution_count": 2,
   "id": "bd3c709c",
   "metadata": {},
   "outputs": [
    {
     "name": "stdout",
     "output_type": "stream",
     "text": [
      "   病例编号 入组状态  来源团队 领衔医生 姓名拼音缩写         医院  住院号 性别        出生日期\n",
      "0     1  已入组  镇江一院   丁浩    KYH  镇江市第一人民医院  NaN  男  1950-09-23\n",
      "1     2  已入组  肿三倪健   倪健    YLG    上海市肺科医院  NaN  男  1952-05-27\n"
     ]
    }
   ],
   "source": [
    "基本信息 = pd.read_excel('C:/Users/NC-O10/Dropbox/云蜚科技/脂质紫杉醇/力扑素.xlsx', sheet_name='基本信息')\n",
    "入选标准 = pd.read_excel('C:/Users/NC-O10/Dropbox/云蜚科技/脂质紫杉醇/力扑素.xlsx', sheet_name='入选标准')\n",
    "排除标准 = pd.read_excel('C:/Users/NC-O10/Dropbox/云蜚科技/脂质紫杉醇/力扑素.xlsx', sheet_name='排除标准')\n",
    "首次确诊 = pd.read_excel('C:/Users/NC-O10/Dropbox/云蜚科技/脂质紫杉醇/力扑素.xlsx', sheet_name='首次确诊')\n",
    "最新分期 = pd.read_excel('C:/Users/NC-O10/Dropbox/云蜚科技/脂质紫杉醇/力扑素.xlsx', sheet_name='最新分期')\n",
    "基因 = pd.read_excel('C:/Users/NC-O10/Dropbox/云蜚科技/脂质紫杉醇/力扑素.xlsx', sheet_name='基因')\n",
    "免疫组化=pd.read_excel('C:/Users/NC-O10/Dropbox/云蜚科技/脂质紫杉醇/力扑素.xlsx', sheet_name='免疫组化')\n",
    "紫杉醇=pd.read_excel('C:/Users/NC-O10/Dropbox/云蜚科技/脂质紫杉醇/力扑素.xlsx', sheet_name='紫杉醇脂质体用药信息')\n",
    "联合免疫=pd.read_excel('C:/Users/NC-O10/Dropbox/云蜚科技/脂质紫杉醇/力扑素.xlsx', sheet_name='联合免疫用药信息')\n",
    "其他联合=pd.read_excel('C:/Users/NC-O10/Dropbox/云蜚科技/脂质紫杉醇/力扑素.xlsx', sheet_name='其他联合用药信息')\n",
    "联合免疫=pd.read_excel('C:/Users/NC-O10/Dropbox/云蜚科技/脂质紫杉醇/力扑素.xlsx', sheet_name='联合免疫用药信息')\n",
    "既往放疗=pd.read_excel('C:/Users/NC-O10/Dropbox/云蜚科技/脂质紫杉醇/力扑素.xlsx', sheet_name='既往放疗信息')\n",
    "既往手术=pd.read_excel('C:/Users/NC-O10/Dropbox/云蜚科技/脂质紫杉醇/力扑素.xlsx', sheet_name='既往手术信息')\n",
    "既往用药=pd.read_excel('C:/Users/NC-O10/Dropbox/云蜚科技/脂质紫杉醇/力扑素.xlsx', sheet_name='既往用药信息')\n",
    "疗效评价记录=pd.read_excel('C:/Users/NC-O10/Dropbox/云蜚科技/脂质紫杉醇/力扑素.xlsx', sheet_name='疗效评价记录')\n",
    "疗效评价总结=pd.read_excel('C:/Users/NC-O10/Dropbox/云蜚科技/脂质紫杉醇/力扑素.xlsx', sheet_name='疗效评价总结')\n",
    "不良事件=pd.read_excel('C:/Users/NC-O10/Dropbox/云蜚科技/脂质紫杉醇/力扑素.xlsx', sheet_name='不良事件')\n",
    "随访信息=pd.read_excel('C:/Users/NC-O10/Dropbox/云蜚科技/脂质紫杉醇/力扑素.xlsx', sheet_name='随访信息')"
   ]
  },
  {
   "cell_type": "code",
   "execution_count": null,
   "id": "50930b83",
   "metadata": {},
   "outputs": [],
   "source": []
  }
 ],
 "metadata": {
  "kernelspec": {
   "display_name": "Python 3 (ipykernel)",
   "language": "python",
   "name": "python3"
  },
  "language_info": {
   "codemirror_mode": {
    "name": "ipython",
    "version": 3
   },
   "file_extension": ".py",
   "mimetype": "text/x-python",
   "name": "python",
   "nbconvert_exporter": "python",
   "pygments_lexer": "ipython3",
   "version": "3.10.8"
  }
 },
 "nbformat": 4,
 "nbformat_minor": 5
}
