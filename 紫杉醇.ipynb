{
 "cells": [
  {
   "cell_type": "code",
   "execution_count": 4,
   "metadata": {},
   "outputs": [],
   "source": [
    "import numpy as np\n",
    "import pandas as pd\n",
    "import os\n",
    "from openpyxl import utils\n",
    "import warnings\n",
    "import statistics\n",
    "warnings.filterwarnings(\"ignore\", category=UserWarning)\n",
    "from scipy.stats import fisher_exact\n",
    "\n",
    "from lifelines import KaplanMeierFitter\n",
    "import matplotlib.pyplot as plt\n",
    "from lifelines import CoxPHFitter"
   ]
  },
  {
   "cell_type": "code",
   "execution_count": 5,
   "metadata": {},
   "outputs": [],
   "source": [
    "统计 = pd.read_excel('C:/Users/NC-O10/Dropbox/云蜚科技/脂质紫杉醇/紫杉醇干净的数据.xlsx', sheet_name='统计用100例')\n",
    "交差 = pd.read_excel('C:/Users/NC-O10/Dropbox/云蜚科技/脂质紫杉醇/紫杉醇干净的数据.xlsx', sheet_name='交差100例')"
   ]
  },
  {
   "cell_type": "code",
   "execution_count": 6,
   "metadata": {},
   "outputs": [],
   "source": [
    "## 一. 描述性分析"
   ]
  },
  {
   "cell_type": "code",
   "execution_count": 7,
   "metadata": {},
   "outputs": [
    {
     "name": "stdout",
     "output_type": "stream",
     "text": [
      "64.11627906976744\n",
      "38.0\n",
      "81.0\n",
      "p-value: 0.06990355890641184\n"
     ]
    }
   ],
   "source": [
    "#年龄recoding\n",
    "from datetime import datetime\n",
    "确诊年龄= 统计['确诊年龄']\n",
    "df = pd.DataFrame(确诊年龄)\n",
    "\n",
    "# Remove rows with NA values\n",
    "年龄 = df.dropna()\n",
    "#print(年龄)\n",
    "中位数_年龄=np.mean(年龄)\n",
    "年龄max=np.max(年龄)\n",
    "年龄min=np.min(年龄)\n",
    "print(中位数_年龄)\n",
    "print(年龄min)\n",
    "print(年龄max)\n",
    "#recode 年龄 greater than mean=1, lower than mean=0\n",
    "# Assuming you have a DataFrame with an 'Age' column\n",
    "# Sample age values with NA\n",
    "ages = 统计['确诊年龄']\n",
    "年龄_中位 = pd.DataFrame({'Age': ages})\n",
    "# Fill NA values with a specific value (e.g., 0)\n",
    "年龄_中位['Age'] = 年龄_中位['Age'].fillna(64)\n",
    "\n",
    "#print(年龄_中位)\n",
    "年龄recode = pd.DataFrame({'Age': 统计['确诊年龄']})\n",
    "\n",
    "# Calculate the mean age\n",
    "mean_age = 64.1\n",
    "\n",
    "# Create a new column for recoded categories\n",
    "年龄recode['Age_Category'] = ''\n",
    "年龄recode=年龄recode.fillna(0)\n",
    "# Recode ages based on mean\n",
    "年龄recode.loc[年龄recode['Age'] > mean_age, 'Age_Category'] = '1'\n",
    "年龄recode.loc[年龄recode['Age'] < mean_age, 'Age_Category'] = '0'\n",
    "\n",
    "# Print the updated DataFrame\n",
    "#print(年龄recode)\n",
    "ALK=统计['ALK']\n",
    "ALK=统计['ALK'].fillna(0)\n",
    "ALK_recoded = ALK.where(ALK != '阴性', 0)\n",
    "pfs=统计['有无PFS事件']\n",
    "\n",
    "#print(ALK_recoded)\n",
    "#calculate the fisher's exact test p-value\n",
    "from scipy.stats import fisher_exact\n",
    "import pandas as pd\n",
    "# Assuming you have a DataFrame with exposure and outcome columns\n",
    "紫杉醇_年龄 = pd.DataFrame({'Exposure': 年龄recode['Age_Category'],\n",
    "                   'Outcome': pfs})\n",
    "# Use replace() method to recode the variable\n",
    "# Extract the exposure and outcome columns as separate variables\n",
    "exposure = 紫杉醇_年龄['Exposure']\n",
    "outcome = 紫杉醇_年龄['Outcome']\n",
    "# Perform Fisher's exact test\n",
    "odds_ratio, p_value = fisher_exact(pd.crosstab(exposure, outcome))\n",
    "# Print the results\n",
    "#print(\"Odds Ratio:\", odds_ratio)\n",
    "print(\"p-value:\", p_value)"
   ]
  },
  {
   "cell_type": "code",
   "execution_count": 8,
   "metadata": {},
   "outputs": [
    {
     "name": "stdout",
     "output_type": "stream",
     "text": [
      "count     100\n",
      "unique      2\n",
      "top         男\n",
      "freq       98\n",
      "Name: 性别, dtype: object\n",
      "p-value: SignificanceResult(statistic=0.8148148148148148, pvalue=1.0)\n"
     ]
    }
   ],
   "source": [
    "#性别\n",
    "sex=统计['性别'].describe()\n",
    "print(sex)\n",
    "\n",
    "紫杉醇_sex = pd.DataFrame({'Exposure': 统计['性别'],\n",
    "                   'Outcome': pfs})\n",
    "\n",
    "exposure = 紫杉醇_sex['Exposure']\n",
    "outcome = 紫杉醇_sex['Outcome']\n",
    "p_value = fisher_exact(pd.crosstab(exposure, outcome))\n",
    "print(\"p-value:\", p_value)"
   ]
  },
  {
   "cell_type": "code",
   "execution_count": 29,
   "metadata": {},
   "outputs": [
    {
     "name": "stdout",
     "output_type": "stream",
     "text": [
      "清病理\n",
      "鳞状细胞癌    85\n",
      "非小细胞癌    10\n",
      "腺癌        4\n",
      "Name: count, dtype: int64\n",
      "p-value: SignificanceResult(statistic=0.8148148148148148, pvalue=1.0)\n"
     ]
    }
   ],
   "source": [
    "#清病理\n",
    "病理=统计['清病理'].value_counts()\n",
    "print(病理)\n",
    "import numpy as np\n",
    "\n",
    "qbl=pd.DataFrame(统计['清病理'])\n",
    "qblfilled=qbl.fillna(0)\n",
    "\n",
    "def recode(value, mapping):\n",
    "    return np.vectorize(mapping.get)(value, value)\n",
    "\n",
    "# Example usage\n",
    "original_values = qblfilled\n",
    "mapping = {\n",
    "    \"鳞状细胞癌\": 1,\n",
    "    \"非小细胞癌\": 2,\n",
    "    \"腺癌\": 3,\n",
    "}\n",
    "\n",
    "qblrecoded_values = recode(original_values, mapping)\n",
    "#print(qblrecoded_values)\n",
    "#qbl=np.array([qblrecoded_values])\n",
    "#qbl1=np.where(qblrecoded_values==1,1,0)\n",
    "#print(qbl1)\n",
    "#qbl11 = pd.DataFrame(qbl1)\n",
    "#\n",
    "pfsdf = pd.DataFrame(pfs)\n",
    "\n",
    "紫杉醇_病理 = pd.DataFrame({'Exposure': [qblrecoded_values],\n",
    "                   'Outcome': [pfsdf]})\n",
    "\n",
    "\n",
    "exposure = 紫杉醇_sex['Exposure']\n",
    "outcome = 紫杉醇_sex['Outcome']\n",
    "p_value = fisher_exact(pd.crosstab(exposure, outcome))\n",
    "print(\"p-value:\", p_value)"
   ]
  },
  {
   "cell_type": "code",
   "execution_count": 14,
   "metadata": {},
   "outputs": [
    {
     "ename": "NameError",
     "evalue": "name 'qbl1' is not defined",
     "output_type": "error",
     "traceback": [
      "\u001b[1;31m---------------------------------------------------------------------------\u001b[0m",
      "\u001b[1;31mNameError\u001b[0m                                 Traceback (most recent call last)",
      "Cell \u001b[1;32mIn[14], line 1\u001b[0m\n\u001b[1;32m----> 1\u001b[0m 紫杉醇_病理\u001b[39m=\u001b[39m pd\u001b[39m.\u001b[39mDataFrame({\u001b[39m'\u001b[39m\u001b[39mExposure\u001b[39m\u001b[39m'\u001b[39m: qbl1,\n\u001b[0;32m      2\u001b[0m                   \u001b[39m'\u001b[39m\u001b[39mOutcome\u001b[39m\u001b[39m'\u001b[39m: pfs})\n\u001b[0;32m      4\u001b[0m \u001b[39m#exposure = 紫杉醇_病理['Exposure']\u001b[39;00m\n\u001b[0;32m      5\u001b[0m \u001b[39m#outcome = 紫杉醇_病理['Outcome']\u001b[39;00m\n\u001b[0;32m      7\u001b[0m qbl\u001b[39m=\u001b[39mnp\u001b[39m.\u001b[39marray([qblrecoded_values])\n",
      "\u001b[1;31mNameError\u001b[0m: name 'qbl1' is not defined"
     ]
    }
   ],
   "source": [
    "\n",
    "紫杉醇_病理= pd.DataFrame({'Exposure': qbl1,\n",
    "                  'Outcome': pfs})\n",
    "\n",
    "#exposure = 紫杉醇_病理['Exposure']\n",
    "#outcome = 紫杉醇_病理['Outcome']\n",
    "\n"
   ]
  },
  {
   "cell_type": "code",
   "execution_count": null,
   "metadata": {},
   "outputs": [
    {
     "ename": "ValueError",
     "evalue": "Per-column arrays must each be 1-dimensional",
     "output_type": "error",
     "traceback": [
      "\u001b[1;31m---------------------------------------------------------------------------\u001b[0m",
      "\u001b[1;31mValueError\u001b[0m                                Traceback (most recent call last)",
      "Cell \u001b[1;32mIn[50], line 1\u001b[0m\n\u001b[1;32m----> 1\u001b[0m p_value \u001b[39m=\u001b[39m fisher_exact(pd\u001b[39m.\u001b[39;49mcrosstab(pfs, qbl1))\n\u001b[0;32m      2\u001b[0m \u001b[39mprint\u001b[39m(\u001b[39m\"\u001b[39m\u001b[39mp-value:\u001b[39m\u001b[39m\"\u001b[39m, p_value)\n",
      "File \u001b[1;32mc:\\Users\\NC-O10\\AppData\\Local\\Programs\\Python\\Python310\\lib\\site-packages\\pandas\\core\\reshape\\pivot.py:704\u001b[0m, in \u001b[0;36mcrosstab\u001b[1;34m(index, columns, values, rownames, colnames, aggfunc, margins, margins_name, dropna, normalize)\u001b[0m\n\u001b[0;32m    698\u001b[0m \u001b[39mfrom\u001b[39;00m \u001b[39mpandas\u001b[39;00m \u001b[39mimport\u001b[39;00m DataFrame\n\u001b[0;32m    700\u001b[0m data \u001b[39m=\u001b[39m {\n\u001b[0;32m    701\u001b[0m     \u001b[39m*\u001b[39m\u001b[39m*\u001b[39m\u001b[39mdict\u001b[39m(\u001b[39mzip\u001b[39m(unique_rownames, index)),\n\u001b[0;32m    702\u001b[0m     \u001b[39m*\u001b[39m\u001b[39m*\u001b[39m\u001b[39mdict\u001b[39m(\u001b[39mzip\u001b[39m(unique_colnames, columns)),\n\u001b[0;32m    703\u001b[0m }\n\u001b[1;32m--> 704\u001b[0m df \u001b[39m=\u001b[39m DataFrame(data, index\u001b[39m=\u001b[39;49mcommon_idx)\n\u001b[0;32m    706\u001b[0m \u001b[39mif\u001b[39;00m values \u001b[39mis\u001b[39;00m \u001b[39mNone\u001b[39;00m:\n\u001b[0;32m    707\u001b[0m     df[\u001b[39m\"\u001b[39m\u001b[39m__dummy__\u001b[39m\u001b[39m\"\u001b[39m] \u001b[39m=\u001b[39m \u001b[39m0\u001b[39m\n",
      "File \u001b[1;32mc:\\Users\\NC-O10\\AppData\\Local\\Programs\\Python\\Python310\\lib\\site-packages\\pandas\\core\\frame.py:709\u001b[0m, in \u001b[0;36mDataFrame.__init__\u001b[1;34m(self, data, index, columns, dtype, copy)\u001b[0m\n\u001b[0;32m    703\u001b[0m     mgr \u001b[39m=\u001b[39m \u001b[39mself\u001b[39m\u001b[39m.\u001b[39m_init_mgr(\n\u001b[0;32m    704\u001b[0m         data, axes\u001b[39m=\u001b[39m{\u001b[39m\"\u001b[39m\u001b[39mindex\u001b[39m\u001b[39m\"\u001b[39m: index, \u001b[39m\"\u001b[39m\u001b[39mcolumns\u001b[39m\u001b[39m\"\u001b[39m: columns}, dtype\u001b[39m=\u001b[39mdtype, copy\u001b[39m=\u001b[39mcopy\n\u001b[0;32m    705\u001b[0m     )\n\u001b[0;32m    707\u001b[0m \u001b[39melif\u001b[39;00m \u001b[39misinstance\u001b[39m(data, \u001b[39mdict\u001b[39m):\n\u001b[0;32m    708\u001b[0m     \u001b[39m# GH#38939 de facto copy defaults to False only in non-dict cases\u001b[39;00m\n\u001b[1;32m--> 709\u001b[0m     mgr \u001b[39m=\u001b[39m dict_to_mgr(data, index, columns, dtype\u001b[39m=\u001b[39;49mdtype, copy\u001b[39m=\u001b[39;49mcopy, typ\u001b[39m=\u001b[39;49mmanager)\n\u001b[0;32m    710\u001b[0m \u001b[39melif\u001b[39;00m \u001b[39misinstance\u001b[39m(data, ma\u001b[39m.\u001b[39mMaskedArray):\n\u001b[0;32m    711\u001b[0m     \u001b[39mfrom\u001b[39;00m \u001b[39mnumpy\u001b[39;00m\u001b[39m.\u001b[39;00m\u001b[39mma\u001b[39;00m \u001b[39mimport\u001b[39;00m mrecords\n",
      "File \u001b[1;32mc:\\Users\\NC-O10\\AppData\\Local\\Programs\\Python\\Python310\\lib\\site-packages\\pandas\\core\\internals\\construction.py:481\u001b[0m, in \u001b[0;36mdict_to_mgr\u001b[1;34m(data, index, columns, dtype, typ, copy)\u001b[0m\n\u001b[0;32m    477\u001b[0m     \u001b[39melse\u001b[39;00m:\n\u001b[0;32m    478\u001b[0m         \u001b[39m# dtype check to exclude e.g. range objects, scalars\u001b[39;00m\n\u001b[0;32m    479\u001b[0m         arrays \u001b[39m=\u001b[39m [x\u001b[39m.\u001b[39mcopy() \u001b[39mif\u001b[39;00m \u001b[39mhasattr\u001b[39m(x, \u001b[39m\"\u001b[39m\u001b[39mdtype\u001b[39m\u001b[39m\"\u001b[39m) \u001b[39melse\u001b[39;00m x \u001b[39mfor\u001b[39;00m x \u001b[39min\u001b[39;00m arrays]\n\u001b[1;32m--> 481\u001b[0m \u001b[39mreturn\u001b[39;00m arrays_to_mgr(arrays, columns, index, dtype\u001b[39m=\u001b[39;49mdtype, typ\u001b[39m=\u001b[39;49mtyp, consolidate\u001b[39m=\u001b[39;49mcopy)\n",
      "File \u001b[1;32mc:\\Users\\NC-O10\\AppData\\Local\\Programs\\Python\\Python310\\lib\\site-packages\\pandas\\core\\internals\\construction.py:115\u001b[0m, in \u001b[0;36marrays_to_mgr\u001b[1;34m(arrays, columns, index, dtype, verify_integrity, typ, consolidate)\u001b[0m\n\u001b[0;32m    112\u001b[0m \u001b[39mif\u001b[39;00m verify_integrity:\n\u001b[0;32m    113\u001b[0m     \u001b[39m# figure out the index, if necessary\u001b[39;00m\n\u001b[0;32m    114\u001b[0m     \u001b[39mif\u001b[39;00m index \u001b[39mis\u001b[39;00m \u001b[39mNone\u001b[39;00m:\n\u001b[1;32m--> 115\u001b[0m         index \u001b[39m=\u001b[39m _extract_index(arrays)\n\u001b[0;32m    116\u001b[0m     \u001b[39melse\u001b[39;00m:\n\u001b[0;32m    117\u001b[0m         index \u001b[39m=\u001b[39m ensure_index(index)\n",
      "File \u001b[1;32mc:\\Users\\NC-O10\\AppData\\Local\\Programs\\Python\\Python310\\lib\\site-packages\\pandas\\core\\internals\\construction.py:642\u001b[0m, in \u001b[0;36m_extract_index\u001b[1;34m(data)\u001b[0m\n\u001b[0;32m    640\u001b[0m         raw_lengths\u001b[39m.\u001b[39mappend(\u001b[39mlen\u001b[39m(val))\n\u001b[0;32m    641\u001b[0m     \u001b[39melif\u001b[39;00m \u001b[39misinstance\u001b[39m(val, np\u001b[39m.\u001b[39mndarray) \u001b[39mand\u001b[39;00m val\u001b[39m.\u001b[39mndim \u001b[39m>\u001b[39m \u001b[39m1\u001b[39m:\n\u001b[1;32m--> 642\u001b[0m         \u001b[39mraise\u001b[39;00m \u001b[39mValueError\u001b[39;00m(\u001b[39m\"\u001b[39m\u001b[39mPer-column arrays must each be 1-dimensional\u001b[39m\u001b[39m\"\u001b[39m)\n\u001b[0;32m    644\u001b[0m \u001b[39mif\u001b[39;00m \u001b[39mnot\u001b[39;00m indexes \u001b[39mand\u001b[39;00m \u001b[39mnot\u001b[39;00m raw_lengths:\n\u001b[0;32m    645\u001b[0m     \u001b[39mraise\u001b[39;00m \u001b[39mValueError\u001b[39;00m(\u001b[39m\"\u001b[39m\u001b[39mIf using all scalar values, you must pass an index\u001b[39m\u001b[39m\"\u001b[39m)\n",
      "\u001b[1;31mValueError\u001b[0m: Per-column arrays must each be 1-dimensional"
     ]
    }
   ],
   "source": [
    "\n",
    "p_value = fisher_exact(pd.crosstab(pfs, qbl1))\n",
    "print(\"p-value:\", p_value)\n"
   ]
  },
  {
   "cell_type": "code",
   "execution_count": null,
   "metadata": {},
   "outputs": [
    {
     "name": "stdout",
     "output_type": "stream",
     "text": [
      "TNM分期\n",
      "IV      36\n",
      "IIIB    32\n",
      "IVA     17\n",
      "IVB     10\n",
      "IIIC     5\n",
      "Name: count, dtype: int64\n"
     ]
    }
   ],
   "source": [
    "#TNM\n",
    "#只分三四。\n",
    "TNM=统计['TNM分期'].value_counts()\n",
    "print(TNM)"
   ]
  },
  {
   "cell_type": "code",
   "execution_count": null,
   "metadata": {},
   "outputs": [
    {
     "name": "stdout",
     "output_type": "stream",
     "text": [
      "EGFR\n",
      "阴性    40\n",
      "阳性     1\n",
      "Name: count, dtype: int64\n"
     ]
    }
   ],
   "source": [
    "#EGFR\n",
    "EGFR=统计['EGFR'].value_counts()\n",
    "print(EGFR)"
   ]
  },
  {
   "cell_type": "code",
   "execution_count": null,
   "metadata": {},
   "outputs": [
    {
     "name": "stdout",
     "output_type": "stream",
     "text": [
      "ALK\n",
      "阴性    40\n",
      "Name: count, dtype: int64\n"
     ]
    }
   ],
   "source": [
    "#ALK\n",
    "ALK=统计['ALK'].value_counts()\n",
    "print(ALK)"
   ]
  },
  {
   "cell_type": "code",
   "execution_count": null,
   "metadata": {},
   "outputs": [
    {
     "name": "stdout",
     "output_type": "stream",
     "text": [
      "最大用药周期数更新\n",
      "4    31\n",
      "2    30\n",
      "3    19\n",
      "5    12\n",
      "6     6\n",
      "8     1\n",
      "7     1\n",
      "Name: count, dtype: int64\n"
     ]
    }
   ],
   "source": [
    "#用药周期\n",
    "用药周期=统计['最大用药周期数更新'].value_counts()\n",
    "print(用药周期)"
   ]
  },
  {
   "cell_type": "code",
   "execution_count": null,
   "metadata": {},
   "outputs": [
    {
     "name": "stdout",
     "output_type": "stream",
     "text": [
      "count      98.000000\n",
      "mean      794.418367\n",
      "std       402.080618\n",
      "min       180.000000\n",
      "25%       510.000000\n",
      "50%       705.000000\n",
      "75%      1080.000000\n",
      "max      1800.000000\n",
      "Name: 紫杉醇脂质体总剂量（mg）, dtype: float64\n"
     ]
    }
   ],
   "source": [
    "#剂量\n",
    "剂量=统计['紫杉醇脂质体总剂量（mg）'].describe()\n",
    "print(剂量)"
   ]
  },
  {
   "cell_type": "code",
   "execution_count": null,
   "metadata": {},
   "outputs": [
    {
     "name": "stdout",
     "output_type": "stream",
     "text": [
      "联合免疫用药通用名\n",
      "替雷利珠单抗    61\n",
      "帕博利珠单抗    19\n",
      "信迪利单抗     14\n",
      "卡瑞利珠单抗     3\n",
      "度伐利尤单抗     2\n",
      "特瑞普利单抗     1\n",
      "Name: count, dtype: int64\n"
     ]
    }
   ],
   "source": [
    "#联合通用名\n",
    "联合通用名=统计['联合免疫用药通用名'].value_counts()\n",
    "print(联合通用名)"
   ]
  },
  {
   "cell_type": "code",
   "execution_count": null,
   "metadata": {},
   "outputs": [
    {
     "name": "stdout",
     "output_type": "stream",
     "text": [
      "联合免疫用药周期数\n",
      "2     32\n",
      "3     25\n",
      "1     13\n",
      "4     10\n",
      "5      7\n",
      "7      3\n",
      "10     2\n",
      "12     2\n",
      "9      2\n",
      "6      2\n",
      "8      2\n",
      "Name: count, dtype: int64\n"
     ]
    }
   ],
   "source": [
    "#联合用药周期 \n",
    "\n",
    "联合用药周期=统计['联合免疫用药周期数'].value_counts()\n",
    "print(联合用药周期)"
   ]
  },
  {
   "cell_type": "code",
   "execution_count": null,
   "metadata": {},
   "outputs": [],
   "source": []
  },
  {
   "cell_type": "code",
   "execution_count": null,
   "metadata": {},
   "outputs": [],
   "source": [
    "## 二. 生存分析\n",
    "#Notes:\n",
    "#时间：PFS-紫杉醇开始  AJ-L\n",
    "#删失：末次随访时间AE-L"
   ]
  },
  {
   "cell_type": "code",
   "execution_count": null,
   "metadata": {},
   "outputs": [],
   "source": [
    "#是否失访\n",
    "失访=统计['是否失访'].value_counts()\n",
    "print(失访)\n",
    "#是否回顾\n",
    "回顾=统计['是否回顾'].value_counts()\n",
    "print(回顾)\n",
    "#有无PFS事件\n",
    "PFS=统计['有无PFS事件'].value_counts()\n",
    "print(PFS)\n"
   ]
  },
  {
   "cell_type": "code",
   "execution_count": null,
   "metadata": {},
   "outputs": [
    {
     "name": "stdout",
     "output_type": "stream",
     "text": [
      "0     67 days\n",
      "1    144 days\n",
      "2    323 days\n",
      "3    356 days\n",
      "4    157 days\n",
      "       ...   \n",
      "95    51 days\n",
      "96     0 days\n",
      "97    26 days\n",
      "98    27 days\n",
      "99    26 days\n",
      "Name: date_difference, Length: 100, dtype: timedelta64[ns]\n"
     ]
    }
   ],
   "source": [
    "\n",
    "# Convert date columns to datetime data type\n",
    "联合用药时间={'start':统计['联合免疫用药开始日期'] ,'end': 统计['联合免疫用药结束日期']}\n",
    "联合时间=pd.DataFrame(联合用药时间)\n",
    "联合时间['start'] = pd.to_datetime(联合时间['start'] )\n",
    "联合时间['end'] = pd.to_datetime(联合时间['end'])\n",
    "\n",
    "# Subtract the columns and create a new column with the result\n",
    "联合时间['date_difference'] = 联合时间['end'] - 联合时间['start']\n",
    "\n",
    "# Print the resulting dataset\n",
    "print(联合时间['date_difference'])\n"
   ]
  },
  {
   "cell_type": "code",
   "execution_count": null,
   "metadata": {},
   "outputs": [
    {
     "name": "stdout",
     "output_type": "stream",
     "text": [
      "是否失访\n",
      "0    82\n",
      "1    18\n",
      "Name: count, dtype: int64\n",
      "是否回顾\n",
      "1    58\n",
      "0    42\n",
      "Name: count, dtype: int64\n",
      "有无PFS事件\n",
      "0    55\n",
      "1    45\n",
      "Name: count, dtype: int64\n"
     ]
    }
   ],
   "source": []
  },
  {
   "cell_type": "code",
   "execution_count": null,
   "metadata": {},
   "outputs": [
    {
     "data": {
      "image/png": "[encoded data removed]",
      "text/plain": [
       "<Figure size 640x480 with 1 Axes>"
      ]
     },
     "metadata": {},
     "output_type": "display_data"
    }
   ],
   "source": [
    "data = {\n",
    "    'time': 联合时间['date_difference'],\n",
    "    'event': 统计['有无PFS事件']\n",
    "}\n",
    "\n",
    "df = pd.DataFrame(data)\n",
    "\n",
    "# Fit Kaplan-Meier estimator\n",
    "kmf = KaplanMeierFitter()\n",
    "kmf.fit(df['time'], event_observed=df['event'])\n",
    "\n",
    "# Generate KM curve\n",
    "kmf.plot()\n",
    "plt.xlabel('Time')\n",
    "plt.ylabel('Survival Probability')\n",
    "plt.title('Kaplan-Meier Curve')\n",
    "plt.show()"
   ]
  },
  {
   "cell_type": "code",
   "execution_count": null,
   "metadata": {},
   "outputs": [
    {
     "name": "stdout",
     "output_type": "stream",
     "text": [
      "Log-Rank Test Statistic: 3.00\n",
      "Log-Rank Test p-value: 0.0833\n"
     ]
    }
   ],
   "source": [
    "import pandas as pd\n",
    "from lifelines import KaplanMeierFitter\n",
    "from lifelines.statistics import logrank_test\n",
    "\n",
    "# Create two sample datasets for comparison\n",
    "group1 = {\n",
    "    'time': [10, 15, 20, 25, 30],\n",
    "    'event': [1, 0, 1, 0, 1]\n",
    "}\n",
    "\n",
    "group2 = {\n",
    "    'time': [10, 15, 20, 25, 30],\n",
    "    'event': [0, 0, 0, 0, 0]\n",
    "}\n",
    "\n",
    "df_group1 = pd.DataFrame(group1)\n",
    "df_group2 = pd.DataFrame(group2)\n",
    "\n",
    "# Fit Kaplan-Meier estimators for each group\n",
    "kmf_group1 = KaplanMeierFitter()\n",
    "kmf_group1.fit(df_group1['time'], event_observed=df_group1['event'])\n",
    "\n",
    "kmf_group2 = KaplanMeierFitter()\n",
    "kmf_group2.fit(df_group2['time'], event_observed=df_group2['event'])\n",
    "\n",
    "# Perform log-rank test\n",
    "results = logrank_test(df_group1['time'], df_group2['time'], df_group1['event'], df_group2['event'])\n",
    "\n",
    "# Print the log-rank test statistic and p-value\n",
    "print(\"Log-Rank Test Statistic: %.2f\" % results.test_statistic)\n",
    "print(\"Log-Rank Test p-value: %.4f\" % results.p_value)"
   ]
  },
  {
   "cell_type": "code",
   "execution_count": null,
   "metadata": {},
   "outputs": [],
   "source": [
    "#logrank for 2 groups\n",
    "import pandas as pd\n",
    "from lifelines import KaplanMeierFitter\n",
    "from lifelines.statistics import logrank_test\n",
    "\n",
    "# Create two sample datasets for comparison\n",
    "group1 = {\n",
    "    'time': [10, 15, 20, 25, 30],\n",
    "    'event': [1, 0, 1, 0, 1]\n",
    "}\n",
    "\n",
    "group2 = {\n",
    "    'time': [5, 10, 15, 20, 25],\n",
    "    'event': [1, 1, 0, 1, 0]\n",
    "}\n",
    "\n",
    "df_group1 = pd.DataFrame(group1)\n",
    "df_group2 = pd.DataFrame(group2)\n",
    "\n",
    "# Fit Kaplan-Meier estimators for each group\n",
    "kmf_group1 = KaplanMeierFitter()\n",
    "kmf_group1.fit(df_group1['time'], event_observed=df_group1['event'])\n",
    "\n",
    "kmf_group2 = KaplanMeierFitter()\n",
    "kmf_group2.fit(df_group2['time'], event_observed=df_group2['event'])\n",
    "\n",
    "# Perform log-rank test\n",
    "results = logrank_test(df_group1['time'], df_group2['time'], df_group1['event'], df_group2['event'])\n",
    "\n",
    "# Print the log-rank test statistic and p-value\n",
    "print(\"Log-Rank Test Statistic: %.2f\" % results.test_statistic)\n",
    "print(\"Log-Rank Test p-value: %.4f\" % results.p_value)"
   ]
  },
  {
   "cell_type": "code",
   "execution_count": null,
   "metadata": {},
   "outputs": [
    {
     "data": {
      "image/png": "[encoded data removed]",
      "text/plain": [
       "<Figure size 640x480 with 1 Axes>"
      ]
     },
     "metadata": {},
     "output_type": "display_data"
    },
    {
     "name": "stdout",
     "output_type": "stream",
     "text": [
      "Series([], Name: exp(coef), dtype: float64)\n"
     ]
    }
   ],
   "source": [
    "import pandas as pd\n",
    "from lifelines import CoxPHFitter\n",
    "import matplotlib.pyplot as plt\n",
    "\n",
    "# Create a sample dataset\n",
    "data = {\n",
    "    'time': [5, 10, 15, 20, 25, 30],\n",
    "    'event': [1, 1, 0, 1, 0, 1]\n",
    "}\n",
    "\n",
    "df = pd.DataFrame(data)\n",
    "\n",
    "# Fit Cox proportional hazards model\n",
    "cph = CoxPHFitter()\n",
    "cph.fit(df, 'time', event_col='event')\n",
    "\n",
    "# Generate survival curve\n",
    "survival_prob = cph.predict_survival_function(df)\n",
    "\n",
    "# Plot the survival curve\n",
    "plt.plot(survival_prob.index, survival_prob.values)\n",
    "plt.xlabel('Time')\n",
    "plt.ylabel('Survival Probability')\n",
    "plt.title('Survival Curve')\n",
    "plt.show()\n",
    "\n",
    "# Get hazard ratios\n",
    "hr = cph.hazard_ratios_\n",
    "print(hr)"
   ]
  },
  {
   "cell_type": "code",
   "execution_count": null,
   "metadata": {},
   "outputs": [
    {
     "data": {
      "image/png": "[encoded data removed]",
      "text/plain": [
       "<Figure size 800x600 with 1 Axes>"
      ]
     },
     "metadata": {},
     "output_type": "display_data"
    }
   ],
   "source": [
    "import pandas as pd\n",
    "from lifelines import KaplanMeierFitter\n",
    "import matplotlib.pyplot as plt\n",
    "\n",
    "# Create two sample datasets for comparison\n",
    "group1 = {\n",
    "    'time': [10, 15, 20, 25, 30],\n",
    "    'event': [1, 0, 1, 0, 1]\n",
    "}\n",
    "\n",
    "group2 = {\n",
    "    'time': [5, 10, 15, 20, 25],\n",
    "    'event': [1, 1, 0, 1, 0]\n",
    "}\n",
    "\n",
    "df_group1 = pd.DataFrame(group1)\n",
    "df_group2 = pd.DataFrame(group2)\n",
    "\n",
    "# Fit Kaplan-Meier estimators for each group\n",
    "kmf_group1 = KaplanMeierFitter()\n",
    "kmf_group1.fit(df_group1['time'], event_observed=df_group1['event'])\n",
    "\n",
    "kmf_group2 = KaplanMeierFitter()\n",
    "kmf_group2.fit(df_group2['time'], event_observed=df_group2['event'])\n",
    "\n",
    "# Plot KM curves\n",
    "plt.figure(figsize=(8, 6))\n",
    "kmf_group1.plot(label='Group 1')\n",
    "kmf_group2.plot(label='Group 2')\n",
    "plt.xlabel('Time')\n",
    "plt.ylabel('Survival Probability')\n",
    "plt.title('Kaplan-Meier Curves')\n",
    "plt.legend()\n",
    "plt.show()"
   ]
  },
  {
   "cell_type": "code",
   "execution_count": null,
   "metadata": {},
   "outputs": [
    {
     "name": "stdout",
     "output_type": "stream",
     "text": [
      "covariate\n",
      "group          0.036118\n",
      "censored     284.109120\n",
      "sex         1174.127206\n",
      "age            0.152692\n",
      "Name: exp(coef), dtype: float64\n"
     ]
    },
    {
     "name": "stderr",
     "output_type": "stream",
     "text": [
      "c:\\Users\\NC-O10\\AppData\\Local\\Programs\\Python\\Python310\\lib\\site-packages\\lifelines\\fitters\\coxph_fitter.py:1586: ConvergenceWarning: The log-likelihood is getting suspiciously close to 0 and the delta is still large. There may be complete separation in the dataset. This may result in incorrect inference of coefficients. See https://stats.stackexchange.com/q/11109/11867 for more.\n",
      "\n",
      "  warnings.warn(\n",
      "c:\\Users\\NC-O10\\AppData\\Local\\Programs\\Python\\Python310\\lib\\site-packages\\lifelines\\utils\\__init__.py:1122: ConvergenceWarning: Column censored have very low variance when conditioned on death event present or not. This may harm convergence. This could be a form of 'complete separation'. For example, try the following code:\n",
      "\n",
      ">>> events = df['event'].astype(bool)\n",
      ">>> print(df.loc[events, 'censored'].var())\n",
      ">>> print(df.loc[~events, 'censored'].var())\n",
      "\n",
      "A very low variance means that the column censored completely determines whether a subject dies or not. See https://stats.stackexchange.com/questions/11109/how-to-deal-with-perfect-separation-in-logistic-regression.\n",
      "\n",
      "  warnings.warn(dedent(warning_text), ConvergenceWarning)\n",
      "c:\\Users\\NC-O10\\AppData\\Local\\Programs\\Python\\Python310\\lib\\site-packages\\lifelines\\utils\\__init__.py:1165: ConvergenceWarning: Column age has high sample correlation with the duration column. This may harm convergence. This could be a form of 'complete separation'.     See https://stats.stackexchange.com/questions/11109/how-to-deal-with-perfect-separation-in-logistic-regression\n",
      "\n",
      "  warnings.warn(dedent(warning_text), ConvergenceWarning)\n",
      "c:\\Users\\NC-O10\\AppData\\Local\\Programs\\Python\\Python310\\lib\\site-packages\\lifelines\\fitters\\coxph_fitter.py:1611: ConvergenceWarning: Newton-Rhaphson failed to converge sufficiently. Please see the following tips in the lifelines documentation: https://lifelines.readthedocs.io/en/latest/Examples.html#problems-with-convergence-in-the-cox-proportional-hazard-model\n",
      "  warnings.warn(\n"
     ]
    }
   ],
   "source": [
    "import pandas as pd\n",
    "from lifelines import CoxPHFitter\n",
    "\n",
    "# Create a sample dataset\n",
    "data = {\n",
    "    'time': [5, 10, 15, 20, 25, 30],\n",
    "    'event': [1, 1, 0, 1, 0, 1],\n",
    "    'group': [0, 0, 1, 1, 0, 1],\n",
    "    'censored': [0, 1, 0, 1, 0, 1],\n",
    "    'sex': [1, 0, 1, 0, 0, 1],\n",
    "    'age': [20, 25, 30, 35, 40, 45]\n",
    "}\n",
    "\n",
    "df = pd.DataFrame(data)\n",
    "\n",
    "# Fit Cox proportional hazards model\n",
    "cph = CoxPHFitter()\n",
    "cph.fit(df, 'time', event_col='event', show_progress=False)\n",
    "\n",
    "# Get the hazard ratios\n",
    "hr = cph.hazard_ratios_\n",
    "\n",
    "# Print the hazard ratios\n",
    "print(hr)"
   ]
  },
  {
   "cell_type": "code",
   "execution_count": null,
   "metadata": {},
   "outputs": [],
   "source": [
    "## 三. 疗效评估"
   ]
  },
  {
   "cell_type": "code",
   "execution_count": null,
   "metadata": {},
   "outputs": [
    {
     "name": "stdout",
     "output_type": "stream",
     "text": [
      "Count of 'PR' is 43\n",
      "Count of 'SD' is 29\n",
      "Count of 'PD' is 4\n",
      "Count of 'CR' is 4\n",
      "PR='0.38636363636363635'\n",
      "SD='0.3787878787878788'\n",
      "PD='0.13636363636363635'\n",
      "CR='0.09848484848484848'\n",
      "ORR='0.48484848484848486'\n",
      "DCR='0.8636363636363636'\n"
     ]
    }
   ],
   "source": [
    "疗效评价=统计['最佳疗效']\n",
    "\n",
    "# number of PR\n",
    "# Count the occurrences of a specific string in a column\n",
    "PR = 'PR'\n",
    "count = (统计['最佳疗效'] == PR).sum()\n",
    "# Print the count\n",
    "print(\"Count of '{}' is {}\".format(PR, count))\n",
    "\n",
    "# number of SD\n",
    "# Count the occurrences of a specific string in a column\n",
    "SD = 'SD'\n",
    "count = (统计['最佳疗效'] == SD).sum()\n",
    "# Print the count\n",
    "print(\"Count of '{}' is {}\".format(SD, count))\n",
    "\n",
    "# number of PD\n",
    "# Count the occurrences of a specific string in a column\n",
    "PD = 'PD'\n",
    "count = (统计['最佳疗效'] == PD).sum()\n",
    "# Print the count\n",
    "print(\"Count of '{}' is {}\".format(PD, count))\n",
    "# number of CR\n",
    "# Count the occurrences of a specific string in a column\n",
    "CR = 'CR'\n",
    "count = (统计['最佳疗效'] == CR).sum()\n",
    "# Print the count\n",
    "print(\"Count of '{}' is {}\".format(CR, count))\n",
    "\n",
    "#PR SD PD CR\n",
    "PR=51/(51+50+18+13)\n",
    "print(\"PR='{}'\".format(PR))\n",
    "SD=50/(51+50+18+13)\n",
    "print(\"SD='{}'\".format(SD))\n",
    "PD=18/(51+50+18+13)\n",
    "print(\"PD='{}'\".format(PD))\n",
    "CR=13/(51+50+18+13)\n",
    "print(\"CR='{}'\".format(CR))\n",
    "\n",
    "#ORR DCR\n",
    "ORR=CR+PR\n",
    "print(\"ORR='{}'\".format(ORR))\n",
    "DCR=ORR+SD\n",
    "print(\"DCR='{}'\".format(DCR))"
   ]
  }
 ],
 "metadata": {
  "kernelspec": {
   "display_name": "Python 3",
   "language": "python",
   "name": "python3"
  },
  "language_info": {
   "codemirror_mode": {
    "name": "ipython",
    "version": 3
   },
   "file_extension": ".py",
   "mimetype": "text/x-python",
   "name": "python",
   "nbconvert_exporter": "python",
   "pygments_lexer": "ipython3",
   "version": "3.10.8"
  },
  "orig_nbformat": 4
 },
 "nbformat": 4,
 "nbformat_minor": 2
}
