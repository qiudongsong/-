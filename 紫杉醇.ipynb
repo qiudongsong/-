{
 "cells": [
  {
   "cell_type": "code",
   "execution_count": 35,
   "metadata": {},
   "outputs": [],
   "source": [
    "import numpy as np\n",
    "import pandas as pd\n",
    "import os\n",
    "from openpyxl import utils\n",
    "import warnings\n",
    "import statistics\n",
    "warnings.filterwarnings(\"ignore\", category=UserWarning)\n",
    "from scipy.stats import fisher_exact\n",
    "\n",
    "from lifelines import KaplanMeierFitter\n",
    "import matplotlib.pyplot as plt\n",
    "from lifelines import CoxPHFitter"
   ]
  },
  {
   "cell_type": "code",
   "execution_count": 87,
   "metadata": {},
   "outputs": [],
   "source": [
    "统计 = pd.read_excel('C:/Users/NC-O10/Dropbox/云蜚科技/脂质紫杉醇/紫杉醇干净的数据.xlsx', sheet_name='统计用100例')\n",
    "交差 = pd.read_excel('C:/Users/NC-O10/Dropbox/云蜚科技/脂质紫杉醇/紫杉醇干净的数据.xlsx', sheet_name='交差100例')\n",
    "不良反应=pd.read_excel('C:/Users/NC-O10/Dropbox/云蜚科技/脂质紫杉醇/不良反应总结.xlsx')\n",
    "不良等级=pd.read_excel('C:/Users/NC-O10/Dropbox/云蜚科技/脂质紫杉醇/不良反应总结等级.xlsx')"
   ]
  },
  {
   "cell_type": "code",
   "execution_count": 88,
   "metadata": {},
   "outputs": [],
   "source": [
    "## 一. 描述性分析"
   ]
  },
  {
   "cell_type": "code",
   "execution_count": 89,
   "metadata": {},
   "outputs": [
    {
     "name": "stdout",
     "output_type": "stream",
     "text": [
      "64.11627906976744\n",
      "38.0\n",
      "81.0\n",
      "p-value: 0.06990355890641184\n"
     ]
    }
   ],
   "source": [
    "#年龄recoding\n",
    "from datetime import datetime\n",
    "确诊年龄= 统计['确诊年龄']\n",
    "df = pd.DataFrame(确诊年龄)\n",
    "\n",
    "# Remove rows with NA values\n",
    "年龄 = df.dropna()\n",
    "#print(年龄)\n",
    "中位数_年龄=np.mean(年龄)\n",
    "年龄max=np.max(年龄)\n",
    "年龄min=np.min(年龄)\n",
    "print(中位数_年龄)\n",
    "print(年龄min)\n",
    "print(年龄max)\n",
    "#recode 年龄 greater than mean=1, lower than mean=0\n",
    "# Assuming you have a DataFrame with an 'Age' column\n",
    "# Sample age values with NA\n",
    "ages = 统计['确诊年龄']\n",
    "年龄_中位 = pd.DataFrame({'Age': ages})\n",
    "# Fill NA values with a specific value (e.g., 0)\n",
    "年龄_中位['Age'] = 年龄_中位['Age'].fillna(64)\n",
    "\n",
    "#print(年龄_中位)\n",
    "年龄recode = pd.DataFrame({'Age': 统计['确诊年龄']})\n",
    "\n",
    "# Calculate the mean age\n",
    "mean_age = 64.1\n",
    "\n",
    "# Create a new column for recoded categories\n",
    "年龄recode['Age_Category'] = ''\n",
    "年龄recode=年龄recode.fillna(0)\n",
    "# Recode ages based on mean\n",
    "年龄recode.loc[年龄recode['Age'] > mean_age, 'Age_Category'] = '1'\n",
    "年龄recode.loc[年龄recode['Age'] < mean_age, 'Age_Category'] = '0'\n",
    "\n",
    "# Print the updated DataFrame\n",
    "#print(年龄recode)\n",
    "ALK=统计['ALK']\n",
    "ALK=统计['ALK'].fillna(0)\n",
    "ALK_recoded = ALK.where(ALK != '阴性', 0)\n",
    "pfs=统计['有无PFS事件']\n",
    "\n",
    "#print(ALK_recoded)\n",
    "#calculate the fisher's exact test p-value\n",
    "from scipy.stats import fisher_exact\n",
    "import pandas as pd\n",
    "# Assuming you have a DataFrame with exposure and outcome columns\n",
    "紫杉醇_年龄 = pd.DataFrame({'Exposure': 年龄recode['Age_Category'],\n",
    "                   'Outcome': pfs})\n",
    "# Use replace() method to recode the variable\n",
    "# Extract the exposure and outcome columns as separate variables\n",
    "exposure = 紫杉醇_年龄['Exposure']\n",
    "outcome = 紫杉醇_年龄['Outcome']\n",
    "# Perform Fisher's exact test\n",
    "odds_ratio, p_value = fisher_exact(pd.crosstab(exposure, outcome))\n",
    "# Print the results\n",
    "#print(\"Odds Ratio:\", odds_ratio)\n",
    "print(\"p-value:\", p_value)"
   ]
  },
  {
   "cell_type": "code",
   "execution_count": 90,
   "metadata": {},
   "outputs": [
    {
     "name": "stdout",
     "output_type": "stream",
     "text": [
      "count     100\n",
      "unique      2\n",
      "top         男\n",
      "freq       98\n",
      "Name: 性别, dtype: object\n",
      "p-value: SignificanceResult(statistic=0.8148148148148148, pvalue=1.0)\n"
     ]
    }
   ],
   "source": [
    "#性别\n",
    "sex=统计['性别'].describe()\n",
    "print(sex)\n",
    "\n",
    "紫杉醇_sex = pd.DataFrame({'Exposure': 统计['性别'],'Outcome': pfs})\n",
    "\n",
    "exposure = 紫杉醇_sex['Exposure']\n",
    "outcome = 紫杉醇_sex['Outcome']\n",
    "p_value = fisher_exact(pd.crosstab(exposure, outcome))\n",
    "print(\"p-value:\", p_value)"
   ]
  },
  {
   "cell_type": "code",
   "execution_count": 91,
   "metadata": {},
   "outputs": [
    {
     "name": "stdout",
     "output_type": "stream",
     "text": [
      "清病理\n",
      "鳞状细胞癌    85\n",
      "非小细胞癌    10\n",
      "腺癌        4\n",
      "Name: count, dtype: int64\n",
      "鳞状细胞癌: SignificanceResult(statistic=0.9240121580547113, pvalue=1.0)\n",
      "非小细胞癌: SignificanceResult(statistic=1.25, pvalue=0.750477214893575)\n",
      "腺癌: SignificanceResult(statistic=0.3939393939393939, pvalue=0.625078897538397)\n"
     ]
    }
   ],
   "source": [
    "#清病理\n",
    "病理=统计['清病理'].value_counts()\n",
    "print(病理)\n",
    "import numpy as np\n",
    "\n",
    "qbl=pd.DataFrame(统计['清病理'])\n",
    "qblfilled=qbl.fillna(0)\n",
    "\n",
    "def recode(value, mapping):\n",
    "    return np.vectorize(mapping.get)(value, value)\n",
    "\n",
    "# Example usage\n",
    "original_values = qblfilled\n",
    "mapping = {\n",
    "    \"鳞状细胞癌\": 1,\n",
    "    \"非小细胞癌\": 2,\n",
    "    \"腺癌\": 3,\n",
    "}\n",
    "\n",
    "统计['清病理']=统计['清病理'].fillna(0)\n",
    "qblrecoded_values = recode(original_values, mapping)\n",
    "qbl1=np.where(qblrecoded_values==1,1,0)\n",
    "统计['清病理1']=qbl1\n",
    "qbl2=np.where(qblrecoded_values==2,1,0)\n",
    "统计['清病理2']=qbl2\n",
    "qbl3=np.where(qblrecoded_values==3,1,0)\n",
    "统计['清病理3']=qbl3\n",
    "from scipy.stats import fisher_exact\n",
    "import pandas as pd\n",
    "\n",
    "# Create a DataFrame with two columns\n",
    "data = {'Column1': 统计['清病理1'], 'Column2': 统计['有无PFS事件']}\n",
    "df = pd.DataFrame(data)\n",
    "\n",
    "# Create a contingency table from the DataFrame\n",
    "contingency_table = pd.crosstab(df['Column1'], df['Column2'])\n",
    "\n",
    "# Perform Fisher's exact test\n",
    "p_value = fisher_exact(contingency_table)\n",
    "\n",
    "# Print the results\n",
    "#print(\"Odds Ratio:\", odds_ratio)\n",
    "print(\"鳞状细胞癌:\", p_value)\n",
    "\n",
    "data = {'Column1': 统计['清病理2'], 'Column2': 统计['有无PFS事件']}\n",
    "df = pd.DataFrame(data)\n",
    "\n",
    "# Create a contingency table from the DataFrame\n",
    "contingency_table = pd.crosstab(df['Column1'], df['Column2'])\n",
    "\n",
    "# Perform Fisher's exact test\n",
    "p_value = fisher_exact(contingency_table)\n",
    "\n",
    "# Print the results\n",
    "#print(\"Odds Ratio:\", odds_ratio)\n",
    "print(\"非小细胞癌:\", p_value)\n",
    "\n",
    "data = {'Column1': 统计['清病理3'], 'Column2': 统计['有无PFS事件']}\n",
    "df = pd.DataFrame(data)\n",
    "\n",
    "# Create a contingency table from the DataFrame\n",
    "contingency_table = pd.crosstab(df['Column1'], df['Column2'])\n",
    "\n",
    "# Perform Fisher's exact test\n",
    "p_value = fisher_exact(contingency_table)\n",
    "\n",
    "# Print the results\n",
    "#print(\"Odds Ratio:\", odds_ratio)\n",
    "print(\"腺癌:\", p_value)"
   ]
  },
  {
   "cell_type": "code",
   "execution_count": 92,
   "metadata": {},
   "outputs": [
    {
     "name": "stdout",
     "output_type": "stream",
     "text": [
      "Chi-square statistic: 1.9726678550207963\n",
      "联合免疫用药通用名: 0.578098930016758\n"
     ]
    }
   ],
   "source": [
    "统计['清病理'] = 统计['清病理'].fillna('0')\n",
    "\n",
    "import pandas as pd\n",
    "from scipy.stats import chi2_contingency\n",
    "\n",
    "# Create a DataFrame with two columns\n",
    "df = pd.DataFrame({'Column1': 统计['清病理'],\n",
    "                   'Column2': 统计['有无PFS事件']})\n",
    "\n",
    "# Create a contingency table from the DataFrame\n",
    "contingency_table = pd.crosstab(df['Column1'], df['Column2'])\n",
    "\n",
    "# Perform chi-square test\n",
    "chi2_stat, p_value, dof, expected = chi2_contingency(contingency_table)\n",
    "\n",
    "# Print the results\n",
    "print(\"Chi-square statistic:\", chi2_stat)\n",
    "print(\"联合免疫用药通用名:\", p_value)"
   ]
  },
  {
   "cell_type": "code",
   "execution_count": 93,
   "metadata": {},
   "outputs": [
    {
     "name": "stdout",
     "output_type": "stream",
     "text": [
      "TNMre\n",
      "IV     63\n",
      "III    37\n",
      "Name: count, dtype: int64\n",
      "TNM: SignificanceResult(statistic=3.375, pvalue=0.006940426768031961)\n"
     ]
    }
   ],
   "source": [
    "#TNM\n",
    "#只分三四。\n",
    "TNM=统计['TNM分期'].value_counts()\n",
    "#print(TNM)\n",
    "#recode TNM\n",
    "original_tnm = 统计['TNM分期']\n",
    "recode_mapping = {'IVA': 'IV', 'IVB': 'IV', 'IIIB': 'III', 'IIIC': 'III'}\n",
    "tnm_recoded = [recode_mapping.get(string, string) for string in original_tnm]\n",
    "#print(tnm_recoded)\n",
    "统计['TNMre']=tnm_recoded\n",
    "TNMrecoded=统计['TNMre'].value_counts()\n",
    "print(TNMrecoded)\n",
    "#fisher test\n",
    "data = {'Column1': 统计['TNMre'], 'Column2': 统计['有无PFS事件']}\n",
    "df = pd.DataFrame(data)\n",
    "contingency_table = pd.crosstab(df['Column1'], df['Column2'])\n",
    "p_value = fisher_exact(contingency_table)\n",
    "print(\"TNM:\", p_value)"
   ]
  },
  {
   "cell_type": "code",
   "execution_count": 94,
   "metadata": {},
   "outputs": [
    {
     "name": "stdout",
     "output_type": "stream",
     "text": [
      "EGFR\n",
      "阴性    40\n",
      "阳性     1\n",
      "Name: count, dtype: int64\n",
      "EGFR: SignificanceResult(statistic=0.0, pvalue=0.45)\n"
     ]
    }
   ],
   "source": [
    "#EGFR\n",
    "EGFR=统计['EGFR'].value_counts()\n",
    "统计['EGFR'] = 统计['EGFR'].fillna('阴性')\n",
    "print(EGFR)\n",
    "\n",
    "#fisher test\n",
    "data = {'Column1': 统计['EGFR'], 'Column2': 统计['有无PFS事件']}\n",
    "df = pd.DataFrame(data)\n",
    "contingency_table = pd.crosstab(df['Column1'], df['Column2'])\n",
    "p_value = fisher_exact(contingency_table)\n",
    "print(\"EGFR:\", p_value)"
   ]
  },
  {
   "cell_type": "code",
   "execution_count": 95,
   "metadata": {},
   "outputs": [
    {
     "name": "stdout",
     "output_type": "stream",
     "text": [
      "ALK\n",
      "阴性    40\n",
      "Name: count, dtype: int64\n"
     ]
    }
   ],
   "source": [
    "#ALK\n",
    "ALK=统计['ALK'].value_counts()\n",
    "统计['ALK'] = 统计['ALK'].fillna('阴性')\n",
    "print(ALK)\n",
    "\n"
   ]
  },
  {
   "cell_type": "code",
   "execution_count": 96,
   "metadata": {},
   "outputs": [
    {
     "name": "stdout",
     "output_type": "stream",
     "text": [
      "最大用药周期数更新\n",
      "4    31\n",
      "2    30\n",
      "3    19\n",
      "5    12\n",
      "6     6\n",
      "8     1\n",
      "7     1\n",
      "Name: count, dtype: int64\n"
     ]
    }
   ],
   "source": [
    "#用药周期\n",
    "用药周期=统计['最大用药周期数更新'].value_counts()\n",
    "print(用药周期)\n"
   ]
  },
  {
   "cell_type": "code",
   "execution_count": 97,
   "metadata": {},
   "outputs": [
    {
     "name": "stdout",
     "output_type": "stream",
     "text": [
      "Chi-square statistic: 0.010203040506070802\n",
      "EGFR: 0.9195424417438276\n"
     ]
    }
   ],
   "source": [
    "import pandas as pd\n",
    "from scipy.stats import chi2_contingency\n",
    "\n",
    "# Create a DataFrame with two columns\n",
    "df = pd.DataFrame({'Column1': 统计['EGFR'],\n",
    "                   'Column2': 统计['有无PFS事件']})\n",
    "\n",
    "# Create a contingency table from the DataFrame\n",
    "contingency_table = pd.crosstab(df['Column1'], df['Column2'])\n",
    "\n",
    "# Perform chi-square test\n",
    "chi2_stat, p_value, dof, expected = chi2_contingency(contingency_table)\n",
    "\n",
    "# Print the results\n",
    "print(\"Chi-square statistic:\", chi2_stat)\n",
    "print(\"EGFR:\", p_value)"
   ]
  },
  {
   "cell_type": "code",
   "execution_count": 98,
   "metadata": {},
   "outputs": [
    {
     "name": "stdout",
     "output_type": "stream",
     "text": [
      "count      98.000000\n",
      "mean      794.418367\n",
      "std       402.080618\n",
      "min       180.000000\n",
      "25%       510.000000\n",
      "50%       705.000000\n",
      "75%      1080.000000\n",
      "max      1800.000000\n",
      "Name: 紫杉醇脂质体总剂量（mg）, dtype: float64\n",
      "T-statistic: 19.948804180800682\n",
      "p-value: 2.906771305698824e-49\n"
     ]
    }
   ],
   "source": [
    "#剂量\n",
    "剂量=统计['紫杉醇脂质体总剂量（mg）'].describe()\n",
    "print(剂量)\n",
    "统计['紫杉醇脂质体总剂量（mg）']=统计['紫杉醇脂质体总剂量（mg）'].fillna(794)\n",
    "import pandas as pd\n",
    "from scipy.stats import ttest_ind\n",
    "\n",
    "# Create a DataFrame with two columns of data\n",
    "df = pd.DataFrame({'Column1': 统计['紫杉醇脂质体总剂量（mg）'],\n",
    "                   'Column2': 统计['有无PFS事件']})\n",
    "\n",
    "# Extract the two columns as separate variables\n",
    "data1 = df['Column1']\n",
    "data2 = df['Column2']\n",
    "\n",
    "# Perform independent t-test\n",
    "t_statistic, p_value = ttest_ind(data1, data2)\n",
    "\n",
    "# Print the results\n",
    "print(\"T-statistic:\", t_statistic)\n",
    "print(\"p-value:\", p_value)"
   ]
  },
  {
   "cell_type": "code",
   "execution_count": 99,
   "metadata": {},
   "outputs": [
    {
     "name": "stdout",
     "output_type": "stream",
     "text": [
      "联合免疫用药通用名\n",
      "替雷利珠单抗    61\n",
      "帕博利珠单抗    19\n",
      "信迪利单抗     14\n",
      "卡瑞利珠单抗     3\n",
      "度伐利尤单抗     2\n",
      "特瑞普利单抗     1\n",
      "Name: count, dtype: int64\n",
      "Chi-square statistic: 6.255205823799439\n",
      "联合免疫用药通用名: 0.28217236168600457\n"
     ]
    }
   ],
   "source": [
    "#联合通用名\n",
    "联合通用名=统计['联合免疫用药通用名'].value_counts()\n",
    "print(联合通用名)\n",
    "\n",
    "import pandas as pd\n",
    "from scipy.stats import chi2_contingency\n",
    "\n",
    "# Create a DataFrame with two columns\n",
    "df = pd.DataFrame({'Column1': 统计['联合免疫用药通用名'],\n",
    "                   'Column2': 统计['有无PFS事件']})\n",
    "\n",
    "# Create a contingency table from the DataFrame\n",
    "contingency_table = pd.crosstab(df['Column1'], df['Column2'])\n",
    "\n",
    "# Perform chi-square test\n",
    "chi2_stat, p_value, dof, expected = chi2_contingency(contingency_table)\n",
    "\n",
    "# Print the results\n",
    "print(\"Chi-square statistic:\", chi2_stat)\n",
    "print(\"联合免疫用药通用名:\", p_value)"
   ]
  },
  {
   "cell_type": "code",
   "execution_count": 100,
   "metadata": {},
   "outputs": [
    {
     "name": "stdout",
     "output_type": "stream",
     "text": [
      "联合免疫用药周期数\n",
      "2     32\n",
      "3     25\n",
      "1     13\n",
      "4     10\n",
      "5      7\n",
      "7      3\n",
      "10     2\n",
      "12     2\n",
      "9      2\n",
      "6      2\n",
      "8      2\n",
      "Name: count, dtype: int64\n",
      "Chi-square statistic: 8.304010804010804\n",
      "联合免疫用药通用名: 0.5991681592201872\n"
     ]
    }
   ],
   "source": [
    "#联合用药周期 \n",
    "统计['联合免疫用药周期数'] = 统计['联合免疫用药周期数'].fillna('0')\n",
    "联合用药周期=统计['联合免疫用药周期数'].value_counts()\n",
    "print(联合用药周期)\n",
    "\n",
    "import pandas as pd\n",
    "from scipy.stats import chi2_contingency\n",
    "\n",
    "# Create a DataFrame with two columns\n",
    "df = pd.DataFrame({'Column1': 统计['联合免疫用药周期数'],\n",
    "                   'Column2': 统计['有无PFS事件']})\n",
    "\n",
    "# Create a contingency table from the DataFrame\n",
    "contingency_table = pd.crosstab(df['Column1'], df['Column2'])\n",
    "\n",
    "# Perform chi-square test\n",
    "chi2_stat, p_value, dof, expected = chi2_contingency(contingency_table)\n",
    "\n",
    "# Print the results\n",
    "print(\"Chi-square statistic:\", chi2_stat)\n",
    "print(\"联合免疫用药通用名:\", p_value)"
   ]
  },
  {
   "cell_type": "code",
   "execution_count": 101,
   "metadata": {},
   "outputs": [
    {
     "name": "stdout",
     "output_type": "stream",
     "text": [
      "最佳疗效\n",
      "PR    43\n",
      "SD    29\n",
      "0     20\n",
      "PD     4\n",
      "CR     4\n",
      "Name: count, dtype: int64\n",
      "Chi-square statistic: 21.47489327922367\n",
      "最佳疗效: 0.000254894113241299\n"
     ]
    }
   ],
   "source": [
    "#最佳疗效\n",
    "统计['最佳疗效'] = 统计['最佳疗效'].fillna('0')\n",
    "最佳疗效=统计['最佳疗效'].value_counts()\n",
    "print(最佳疗效)\n",
    "\n",
    "import pandas as pd\n",
    "from scipy.stats import chi2_contingency\n",
    "\n",
    "# Create a DataFrame with two columns\n",
    "df = pd.DataFrame({'Column1': 统计['最佳疗效'],\n",
    "                   'Column2': 统计['有无PFS事件']})\n",
    "\n",
    "# Create a contingency table from the DataFrame\n",
    "contingency_table = pd.crosstab(df['Column1'], df['Column2'])\n",
    "\n",
    "# Perform chi-square test\n",
    "chi2_stat, p_value, dof, expected = chi2_contingency(contingency_table)\n",
    "\n",
    "# Print the results\n",
    "print(\"Chi-square statistic:\", chi2_stat)\n",
    "print(\"最佳疗效:\", p_value)"
   ]
  },
  {
   "cell_type": "code",
   "execution_count": 102,
   "metadata": {},
   "outputs": [
    {
     "name": "stdout",
     "output_type": "stream",
     "text": [
      "有无PFS事件\n",
      "0    55\n",
      "1    45\n",
      "Name: count, dtype: int64\n"
     ]
    }
   ],
   "source": [
    "#PFS\n",
    "pfs=统计['有无PFS事件'].value_counts()\n",
    "print(pfs)"
   ]
  },
  {
   "cell_type": "code",
   "execution_count": 103,
   "metadata": {},
   "outputs": [
    {
     "name": "stdout",
     "output_type": "stream",
     "text": [
      "Chi-square statistic: 34.75301354089233\n",
      "不良反应: 0.2127647020018731\n",
      "Chi-square statistic: 0.7542183462532306\n",
      "不良等级: 0.8603830658592105\n"
     ]
    }
   ],
   "source": [
    "#不良反应\n",
    "不良=不良反应['AE'].value_counts()\n",
    "#print(不良)\n",
    "\n",
    "# Create a DataFrame from the series\n",
    "df = pd.DataFrame(不良)\n",
    "\n",
    "# Export the DataFrame to Excel\n",
    "df.to_excel('output.xlsx', index=False)\n",
    "\n",
    "等级=不良等级['级别'].value_counts()\n",
    "#print(等级)\n",
    "ID=不良等级['病例编号'].value_counts()\n",
    "#print(ID)\n",
    "unique=不良等级['病例编号']\n",
    "#print(unique)\n",
    "\n",
    "# Create a DataFrame with two columns\n",
    "df = pd.DataFrame({'Column1': 不良反应['AE'],\n",
    "                   'Column2': 统计['有无PFS事件']})\n",
    "\n",
    "# Create a contingency table from the DataFrame\n",
    "contingency_table = pd.crosstab(df['Column1'], df['Column2'])\n",
    "\n",
    "# Perform chi-square test\n",
    "chi2_stat, p_value, dof, expected = chi2_contingency(contingency_table)\n",
    "\n",
    "# Print the results\n",
    "print(\"Chi-square statistic:\", chi2_stat)\n",
    "print(\"不良反应:\", p_value)\n",
    "\n",
    "# Create a DataFrame with two columns\n",
    "df = pd.DataFrame({'Column1': 不良等级['级别'],\n",
    "                   'Column2': 统计['有无PFS事件']})\n",
    "\n",
    "# Create a contingency table from the DataFrame\n",
    "contingency_table = pd.crosstab(df['Column1'], df['Column2'])\n",
    "\n",
    "# Perform chi-square test\n",
    "chi2_stat, p_value, dof, expected = chi2_contingency(contingency_table)\n",
    "\n",
    "# Print the results\n",
    "print(\"Chi-square statistic:\", chi2_stat)\n",
    "print(\"不良等级:\", p_value)\n",
    "\n",
    "\n"
   ]
  },
  {
   "cell_type": "code",
   "execution_count": 104,
   "metadata": {},
   "outputs": [],
   "source": [
    "# Create a new column for recoded categories\n",
    "\n",
    "不良等级['不良等级recode']=不良等级['级别']\n",
    "\n",
    "\n",
    "不良等级['不良等级recode'] = np.where(不良等级['级别'] >= 3, 1, 0)\n",
    "\n",
    "#print(不良等级['不良等级recode'])"
   ]
  },
  {
   "cell_type": "code",
   "execution_count": 105,
   "metadata": {},
   "outputs": [
    {
     "name": "stdout",
     "output_type": "stream",
     "text": [
      "Chi-square statistic: 0.0\n",
      "不良等级: 1.0\n"
     ]
    }
   ],
   "source": [
    "# Create a DataFrame with two columns\n",
    "df = pd.DataFrame({'Column1': 不良等级['不良等级recode'],\n",
    "                   'Column2': 统计['有无PFS事件']})\n",
    "\n",
    "# Create a contingency table from the DataFrame\n",
    "contingency_table = pd.crosstab(df['Column1'], df['Column2'])\n",
    "\n",
    "# Perform chi-square test\n",
    "chi2_stat, p_value, dof, expected = chi2_contingency(contingency_table)\n",
    "\n",
    "# Print the results\n",
    "print(\"Chi-square statistic:\", chi2_stat)\n",
    "print(\"不良等级:\", p_value)\n"
   ]
  },
  {
   "cell_type": "code",
   "execution_count": 106,
   "metadata": {},
   "outputs": [],
   "source": [
    "## 二. 生存分析\n",
    "#Notes:\n",
    "#时间：PFS-紫杉醇开始  AJ-L\n",
    "#删失：末次随访时间AE-L"
   ]
  },
  {
   "cell_type": "code",
   "execution_count": 107,
   "metadata": {},
   "outputs": [
    {
     "name": "stdout",
     "output_type": "stream",
     "text": [
      "是否失访\n",
      "0    82\n",
      "1    18\n",
      "Name: count, dtype: int64\n",
      "是否回顾\n",
      "1    58\n",
      "0    42\n",
      "Name: count, dtype: int64\n",
      "有无PFS事件\n",
      "0    55\n",
      "1    45\n",
      "Name: count, dtype: int64\n"
     ]
    }
   ],
   "source": [
    "#是否失访\n",
    "失访=统计['是否失访'].value_counts()\n",
    "print(失访)\n",
    "#是否回顾\n",
    "回顾=统计['是否回顾'].value_counts()\n",
    "print(回顾)\n",
    "#有无PFS事件\n",
    "PFS=统计['有无PFS事件'].value_counts()\n",
    "print(PFS)\n"
   ]
  },
  {
   "cell_type": "code",
   "execution_count": 108,
   "metadata": {},
   "outputs": [
    {
     "name": "stdout",
     "output_type": "stream",
     "text": [
      "    date_column\n",
      "0      738345.0\n",
      "1      737803.6\n",
      "2      738385.4\n",
      "3      738318.6\n",
      "4      738206.0\n",
      "..          ...\n",
      "95     738415.8\n",
      "96     738417.8\n",
      "97     738431.4\n",
      "98     738527.6\n",
      "99     738514.2\n",
      "\n",
      "[100 rows x 1 columns]\n"
     ]
    }
   ],
   "source": [
    "data_pfs = {'date_column': 统计['PFS事件']}\n",
    "df_pfs = pd.DataFrame(data_pfs)\n",
    "df_pfs['date_column'] = pd.to_datetime(df_pfs['date_column']).dt.year*365+pd.to_datetime(df_pfs['date_column']).dt.month*30.4+pd.to_datetime(df_pfs['date_column']).dt.day\n",
    "print(df_pfs)\n",
    "统计['df_pfs']=df_pfs"
   ]
  },
  {
   "cell_type": "code",
   "execution_count": 109,
   "metadata": {},
   "outputs": [
    {
     "name": "stdout",
     "output_type": "stream",
     "text": [
      "0     334.6\n",
      "1       0.0\n",
      "2     419.8\n",
      "3     150.0\n",
      "4       0.0\n",
      "      ...  \n",
      "95      0.0\n",
      "96      0.0\n",
      "97      0.0\n",
      "98     68.8\n",
      "99     48.4\n",
      "Name: df_time, Length: 100, dtype: float64\n"
     ]
    }
   ],
   "source": [
    "data_zsc = {'date_column': 统计['紫杉醇脂质体开始日期']}\n",
    "df_zsc = pd.DataFrame(data_zsc)\n",
    "df_zsc['date_column'] = pd.to_datetime(df_zsc['date_column']).dt.year*365+pd.to_datetime(df_zsc['date_column']).dt.month*30.4+pd.to_datetime(df_zsc['date_column']).dt.day\n",
    "#print(df_zsc)\n",
    "统计['df_zsc']=df_zsc\n",
    "统计['df_time']=统计['df_pfs']-统计['df_zsc']\n",
    "print(统计['df_time'])"
   ]
  },
  {
   "cell_type": "code",
   "execution_count": 110,
   "metadata": {},
   "outputs": [
    {
     "name": "stdout",
     "output_type": "stream",
     "text": [
      "0    334 days\n",
      "1      0 days\n",
      "2    420 days\n",
      "3    151 days\n",
      "4      0 days\n",
      "       ...   \n",
      "95     0 days\n",
      "96     0 days\n",
      "97     0 days\n",
      "98    67 days\n",
      "99    46 days\n",
      "Name: date_difference, Length: 100, dtype: timedelta64[ns]\n"
     ]
    }
   ],
   "source": [
    "\n",
    "# Convert date columns to datetime data type\n",
    "PFS用药时间={'start':统计['紫杉醇脂质体开始日期'] ,'end': 统计['PFS事件']}\n",
    "PFS时间=pd.DataFrame(PFS用药时间)\n",
    "PFS时间['start'] = pd.to_datetime(PFS时间['start'] )\n",
    "PFS时间['end'] = pd.to_datetime(PFS时间['end'])\n",
    "\n",
    "# Subtract the columns and create a new column with the result\n",
    "PFS时间['date_difference'] = PFS时间['end'] - PFS时间['start']\n",
    "\n",
    "# Print the resulting dataset\n",
    "\n",
    "\n",
    "print(PFS时间['date_difference'])"
   ]
  },
  {
   "cell_type": "code",
   "execution_count": null,
   "metadata": {},
   "outputs": [],
   "source": []
  },
  {
   "cell_type": "code",
   "execution_count": 168,
   "metadata": {},
   "outputs": [
    {
     "data": {
      "image/png": "[encoded data removed]",
      "text/plain": [
       "<Figure size 640x480 with 1 Axes>"
      ]
     },
     "metadata": {},
     "output_type": "display_data"
    },
    {
     "name": "stdout",
     "output_type": "stream",
     "text": [
      "mPFS: 168.40000000002328\n",
      "1-year PFS: 0.04444444444444445\n",
      "half-year PFS: 0.4222222222222222\n"
     ]
    }
   ],
   "source": [
    "import pandas as pd\n",
    "import matplotlib.pyplot as plt\n",
    "from lifelines import KaplanMeierFitter\n",
    "data = {\n",
    "    'Time': 统计['df_time'],\n",
    "    'Event': 统计['有无PFS事件']\n",
    "}\n",
    "df = pd.DataFrame(data)\n",
    "# Create a new column for censoring information\n",
    "#df['Censor'] = np.where(df['event'] == 1, 1, 0)\n",
    "# Fit Kaplan-Meier estimator\n",
    "kmf = KaplanMeierFitter()\n",
    "kmf.fit(df['Time'], event_observed=df['Event'])\n",
    "\n",
    "# Plot the KM curve\n",
    "kmf.plot(ci_show=False,show_censors=True)\n",
    "\n",
    "\n",
    "# Get censored data points\n",
    "#censored_times = df.loc[df['Event'] == 0, 'Time']\n",
    "\n",
    "#print(censored_times)\n",
    "\n",
    "# Customize the plot\n",
    "plt.xlim(0, 540)\n",
    "plt.xlabel('Time')\n",
    "plt.ylabel('Survival Probability')\n",
    "plt.title('Kaplan-Meier Curve with Censored Data')\n",
    "\n",
    "# Show the plot\n",
    "plt.show()\n",
    "\n",
    "\n",
    "\n",
    "\n",
    "mpfs = kmf.median_survival_time_\n",
    "\n",
    "# Print the mPFS\n",
    "print(\"mPFS:\", mpfs)\n",
    "\n",
    "# Calculate 95% confidence interval\n",
    "#ci = kmf.confidence_interval_()\n",
    "#print(\"95% CI:\", ci)\n",
    "\n",
    "ci = kmf.confidence_interval_\n",
    "\n",
    "# Print the 95% CI\n",
    "#print(\"95% CI for mPFS of 169:\", ci)\n",
    "\n",
    "pfs_1_year = kmf.predict(365)\n",
    "pfs_half_year = kmf.predict(182 )\n",
    "\n",
    "# Print the PFS values\n",
    "print(\"1-year PFS:\", pfs_1_year)\n",
    "print(\"half-year PFS:\", pfs_half_year)\n"
   ]
  },
  {
   "cell_type": "code",
   "execution_count": 162,
   "metadata": {},
   "outputs": [
    {
     "data": {
      "image/png": "[encoded data removed]",
      "text/plain": [
       "<Figure size 640x480 with 1 Axes>"
      ]
     },
     "metadata": {},
     "output_type": "display_data"
    }
   ],
   "source": [
    "#Example\n",
    "import pandas as pd\n",
    "import matplotlib.pyplot as plt\n",
    "from lifelines import KaplanMeierFitter\n",
    "\n",
    "# Example survival data\n",
    "data = {'Time': [10, 20, 30, 40, 50, 60, 70, 80, 90, 100],\n",
    "        'Event': [1, 1, 1, 0, 1, 1, 0, 1, 1, 0]}\n",
    "\n",
    "df = pd.DataFrame(data)\n",
    "\n",
    "# Compute Kaplan-Meier estimates with censored data\n",
    "kmf = KaplanMeierFitter()\n",
    "kmf.fit(df['Time'], event_observed=df['Event'])\n",
    "\n",
    "# Plot the KM curve with censored data\n",
    "kmf.plot(ci_show=False, show_censors=True)\n",
    "\n",
    "# Customize the plot\n",
    "plt.xlabel('Time')\n",
    "plt.ylabel('Survival Probability')\n",
    "plt.title('Kaplan-Meier Curve with Censored Data')\n",
    "\n",
    "# Show the plot\n",
    "plt.show()"
   ]
  },
  {
   "cell_type": "code",
   "execution_count": 112,
   "metadata": {},
   "outputs": [
    {
     "name": "stdout",
     "output_type": "stream",
     "text": [
      "0     21 days\n",
      "1    106 days\n",
      "2    102 days\n",
      "3     30 days\n",
      "4     73 days\n",
      "       ...   \n",
      "95    51 days\n",
      "96    23 days\n",
      "97    26 days\n",
      "98     0 days\n",
      "99     0 days\n",
      "Name: date_difference, Length: 100, dtype: timedelta64[ns]\n"
     ]
    }
   ],
   "source": [
    "\n",
    "# Convert date columns to datetime data type\n",
    "紫杉醇用药时间={'start':统计['紫杉醇脂质体开始日期'] ,'end': 统计['紫杉醇脂质体结束日期']}\n",
    "紫杉醇时间=pd.DataFrame(紫杉醇用药时间)\n",
    "紫杉醇时间['start'] = pd.to_datetime(紫杉醇时间['start'] )\n",
    "紫杉醇时间['end'] = pd.to_datetime(紫杉醇时间['end'])\n",
    "\n",
    "# Subtract the columns and create a new column with the result\n",
    "紫杉醇时间['date_difference'] = 紫杉醇时间['end'] - 紫杉醇时间['start']\n",
    "\n",
    "# Print the resulting dataset\n",
    "\n",
    "print(紫杉醇时间['date_difference'])\n",
    "\n"
   ]
  },
  {
   "cell_type": "code",
   "execution_count": 113,
   "metadata": {},
   "outputs": [],
   "source": [
    "统计['date_difference']=紫杉醇时间['date_difference']\n",
    "\n",
    "统计['date_difference'] = 统计['date_difference'].apply(lambda x: x.total_seconds())\n",
    "\n",
    "# Print the DataFrame with the converted values\n"
   ]
  },
  {
   "cell_type": "code",
   "execution_count": 114,
   "metadata": {},
   "outputs": [
    {
     "data": {
      "image/png": "[encoded data removed]",
      "text/plain": [
       "<Figure size 640x480 with 1 Axes>"
      ]
     },
     "metadata": {},
     "output_type": "display_data"
    },
    {
     "name": "stdout",
     "output_type": "stream",
     "text": [
      "mPFS: 8812800000000000.0\n"
     ]
    }
   ],
   "source": [
    "data = {\n",
    "    'time': 紫杉醇时间['date_difference'],\n",
    "    'event': 统计['有无PFS事件']\n",
    "}\n",
    "df = pd.DataFrame(data)\n",
    "\n",
    "# Fit Kaplan-Meier estimator\n",
    "kmf = KaplanMeierFitter()\n",
    "kmf.fit(df['time'], event_observed=df['event'])\n",
    "# Generate KM curve\n",
    "kmf.plot()\n",
    "plt.xlabel('Time')\n",
    "plt.ylabel('Survival Probability')\n",
    "plt.title('Kaplan-Meier Curve')\n",
    "plt.show()\n",
    "\n",
    "mpfs = kmf.median_survival_time_\n",
    "\n",
    "# Print the mPFS\n",
    "print(\"mPFS:\", mpfs)"
   ]
  },
  {
   "cell_type": "code",
   "execution_count": 115,
   "metadata": {},
   "outputs": [
    {
     "name": "stdout",
     "output_type": "stream",
     "text": [
      "Log-Rank Test Statistic: 45.00\n",
      "Log-Rank Test p-value: 0.0000\n"
     ]
    }
   ],
   "source": [
    "import pandas as pd\n",
    "from lifelines import KaplanMeierFitter\n",
    "from lifelines.statistics import logrank_test\n",
    "\n",
    "# Create two sample datasets for comparison\n",
    "group1 = {\n",
    "    'time': 统计['df_time'],\n",
    "    'event': 统计['有无PFS事件']\n",
    "}\n",
    "\n",
    "group2 = {\n",
    "    'time': 统计['df_time'],\n",
    "    'event': 统计['NAPFS']\n",
    "}\n",
    "\n",
    "df_group1 = pd.DataFrame(group1)\n",
    "df_group2 = pd.DataFrame(group2)\n",
    "\n",
    "# Fit Kaplan-Meier estimators for each group\n",
    "kmf_group1 = KaplanMeierFitter()\n",
    "kmf_group1.fit(df_group1['time'], event_observed=df_group1['event'])\n",
    "\n",
    "kmf_group2 = KaplanMeierFitter()\n",
    "kmf_group2.fit(df_group2['time'], event_observed=df_group2['event'])\n",
    "\n",
    "# Perform log-rank test\n",
    "results = logrank_test(df_group1['time'], df_group2['time'], df_group1['event'], df_group2['event'])\n",
    "\n",
    "# Print the log-rank test statistic and p-value\n",
    "print(\"Log-Rank Test Statistic: %.2f\" % results.test_statistic)\n",
    "print(\"Log-Rank Test p-value: %.4f\" % results.p_value)"
   ]
  },
  {
   "cell_type": "code",
   "execution_count": 116,
   "metadata": {},
   "outputs": [
    {
     "name": "stdout",
     "output_type": "stream",
     "text": [
      "Log-Rank Test Statistic: 0.63\n",
      "Log-Rank Test p-value: 0.4269\n"
     ]
    }
   ],
   "source": [
    "#logrank for 2 groups\n",
    "import pandas as pd\n",
    "from lifelines import KaplanMeierFitter\n",
    "from lifelines.statistics import logrank_test\n",
    "\n",
    "# Create two sample datasets for comparison\n",
    "group1 = {\n",
    "    'time': [10, 15, 20, 25, 30],\n",
    "    'event': [1, 0, 1, 0, 1]\n",
    "}\n",
    "\n",
    "group2 = {\n",
    "    'time': [5, 10, 15, 20, 25],\n",
    "    'event': [1, 1, 0, 1, 0]\n",
    "}\n",
    "\n",
    "df_group1 = pd.DataFrame(group1)\n",
    "df_group2 = pd.DataFrame(group2)\n",
    "\n",
    "# Fit Kaplan-Meier estimators for each group\n",
    "kmf_group1 = KaplanMeierFitter()\n",
    "kmf_group1.fit(df_group1['time'], event_observed=df_group1['event'])\n",
    "\n",
    "kmf_group2 = KaplanMeierFitter()\n",
    "kmf_group2.fit(df_group2['time'], event_observed=df_group2['event'])\n",
    "\n",
    "# Perform log-rank test\n",
    "results = logrank_test(df_group1['time'], df_group2['time'], df_group1['event'], df_group2['event'])\n",
    "\n",
    "# Print the log-rank test statistic and p-value\n",
    "print(\"Log-Rank Test Statistic: %.2f\" % results.test_statistic)\n",
    "print(\"Log-Rank Test p-value: %.4f\" % results.p_value)"
   ]
  },
  {
   "cell_type": "code",
   "execution_count": null,
   "metadata": {},
   "outputs": [],
   "source": []
  },
  {
   "cell_type": "code",
   "execution_count": 137,
   "metadata": {},
   "outputs": [
    {
     "name": "stdout",
     "output_type": "stream",
     "text": [
      "    Column\n",
      "0        1\n",
      "1        0\n",
      "2        0\n",
      "3        0\n",
      "4        0\n",
      "..     ...\n",
      "95       0\n",
      "96       0\n",
      "97       0\n",
      "98       0\n",
      "99       0\n",
      "\n",
      "[100 rows x 1 columns]\n"
     ]
    }
   ],
   "source": [
    "#recoding for cox model\n",
    "#print(年龄recode)\n",
    "统计['age']=年龄recode['Age_Category']\n",
    "#sex\n",
    "# Example DataFrame\n",
    "data = {'Gender': 统计['性别']}\n",
    "sex = pd.DataFrame(data)\n",
    "# Recode '男' to 1 and '女' to 0\n",
    "sex['Gender'] = sex['Gender'].replace({'男': 1, '女': 0})\n",
    "# Print the updated DataFrame\n",
    "#print(sex)\n",
    "\n",
    "统计['sex']=sex\n",
    "\n",
    "# recoding bingli\n",
    "统计['清病理']=统计['清病理'].fillna(0)\n",
    "\n",
    "\n",
    "data = {'病理': 统计['清病理']}\n",
    "bingli = pd.DataFrame(data)\n",
    "# Recode '男' to 1 and '女' to 0\n",
    "bingli['病理'] = bingli['病理'].replace({'鳞状细胞癌': 0, '非小细胞癌': 1,'腺癌':2})\n",
    "# Print the updated DataFrame\n",
    "#print(bingli)\n",
    "\n",
    "统计['bingli']=bingli\n",
    "\n",
    "#TNM\n",
    "data = {'TNM分期': 统计['TNMre']}\n",
    "tnm = pd.DataFrame(data)\n",
    "# Recode '男' to 1 and '女' to 0\n",
    "tnm['TNM分期'] = tnm['TNM分期'].replace({'III': 0, 'IV': 1})\n",
    "# Print the updated DataFrame\n",
    "#print(tnm)\n",
    "\n",
    "统计['tnm']=tnm\n",
    "\n",
    "#EGFR\n",
    "# Create a DataFrame with 59 occurrences of 1 and 41 occurrences of 0\n",
    "data = {'Column': [1] * 1 + [0] * 99}\n",
    "dfq = pd.DataFrame(data)\n",
    "\n",
    "# Print the DataFrame\n",
    "print(dfq)\n",
    "\n",
    "统计['egfr']=dfq\n",
    "\n",
    "import pandas as pd\n",
    "\n",
    "# Create a DataFrame with 59 occurrences of 1 and 41 occurrences of 0\n",
    "data = {'Column': [1] * 59 + [0] * 41}\n",
    "df = pd.DataFrame(data)\n",
    "\n",
    "# Print the DataFrame\n",
    "#print(df)\n",
    "\n",
    "统计['orr']=df\n",
    "data1 = {'Column': [1] * 34 + [0] * 66}\n",
    "df1 = pd.DataFrame(data1)\n",
    "\n",
    "# Print the DataFrame\n",
    "#print(df1)\n",
    "\n",
    "统计['不良反应大于三级']=df1\n",
    "data = {'最大用药': 统计['最大用药周期数更新']}\n",
    "最大用药 = pd.DataFrame(data)\n",
    "# Recode '男' to 1 and '女' to 0\n",
    "最大用药['最大用药'] = 最大用药['最大用药'].replace({2: 0, 3: 0,4:1,5:1,6:1,7:1,8:1})\n",
    "# Print the updated DataFrame\n",
    "#print(bingli)\n",
    "统计['最大用药']=最大用药\n",
    "\n",
    "\n",
    "data = {'联合免疫': 统计['联合免疫用药周期数']}\n",
    "联合免疫 = pd.DataFrame(data)\n",
    "# Recode '男' to 1 and '女' to 0\n",
    "联合免疫['联合免疫'] = 联合免疫['联合免疫'].replace({1:0,2: 0, 3: 0,4:1,5:1,6:1,7:1,8:1,9:1,10:1,11:1,12:1})\n",
    "# Print the updated DataFrame\n",
    "#print(bingli)\n",
    "统计['联合免疫']=联合免疫\n",
    "\n",
    "\n",
    "\n",
    "\n",
    "data = {'紫杉醇剂量': 统计['紫杉醇脂质体总剂量（mg）']}\n",
    "\n",
    "紫杉醇剂量 = pd.DataFrame(data)\n",
    "\n",
    "紫杉醇剂量['紫杉醇剂量'] = np.where(紫杉醇剂量['紫杉醇剂量'] <= 794, 0, 1)\n",
    "\n",
    "统计['紫杉醇剂量']=紫杉醇剂量\n"
   ]
  },
  {
   "cell_type": "code",
   "execution_count": 118,
   "metadata": {},
   "outputs": [
    {
     "name": "stdout",
     "output_type": "stream",
     "text": [
      "0     334.6\n",
      "1       0.0\n",
      "2     419.8\n",
      "3     150.0\n",
      "4       0.0\n",
      "      ...  \n",
      "95      0.0\n",
      "96      0.0\n",
      "97      0.0\n",
      "98     68.8\n",
      "99     48.4\n",
      "Name: df_time, Length: 100, dtype: float64\n"
     ]
    }
   ],
   "source": [
    "print(统计['df_time'])"
   ]
  },
  {
   "cell_type": "code",
   "execution_count": 139,
   "metadata": {},
   "outputs": [
    {
     "name": "stdout",
     "output_type": "stream",
     "text": [
      "covariate\n",
      "age       0.613558\n",
      "sex       0.689853\n",
      "bingli    2.931661\n",
      "tnm       1.025537\n",
      "egfr      0.776501\n",
      "orr       0.762612\n",
      "最大用药      0.637536\n",
      "紫杉醇剂量     1.811540\n",
      "联合免疫      0.587492\n",
      "Name: exp(coef), dtype: float64\n",
      "Log-rank p-value: 3.686116065273691e-18\n",
      "covariate\n",
      "age       0.205832\n",
      "sex       0.737256\n",
      "bingli    0.014250\n",
      "tnm       0.953513\n",
      "egfr      0.820093\n",
      "orr       0.491502\n",
      "最大用药      0.203443\n",
      "紫杉醇剂量     0.198764\n",
      "联合免疫      0.292916\n",
      "Name: p, dtype: float64\n"
     ]
    }
   ],
   "source": [
    "import pandas as pd\n",
    "from lifelines import CoxPHFitter\n",
    "\n",
    "# Create a sample dataset\n",
    "data = {\n",
    "    'time': 统计['df_time'],\n",
    "    'event': 统计['有无PFS事件'],\n",
    "    'age': 统计['age'],\n",
    "    'sex': 统计['sex'],\n",
    "    'bingli': 统计['bingli'],\n",
    "    'tnm': 统计['tnm'] ,\n",
    "    'egfr': 统计['egfr'],\n",
    "    'orr': 统计['orr'],\n",
    "    '最大用药': 统计['最大用药'],\n",
    "    '紫杉醇剂量': 统计['紫杉醇剂量'],\n",
    "    '联合免疫': 统计['联合免疫']\n",
    "}\n",
    "\n",
    "df = pd.DataFrame(data)\n",
    "\n",
    "# Fit Cox proportional hazards model\n",
    "cph = CoxPHFitter()\n",
    "cph.fit(df, 'time', event_col='event', show_progress=False)\n",
    "\n",
    "# Get the hazard ratios\n",
    "hr = cph.hazard_ratios_\n",
    "print(hr)\n",
    "# 95%CI and logrank\n",
    "# Print the hazard ratios\n",
    "ci = cph.confidence_intervals_.apply(np.exp)\n",
    "print(\"95% CI:\", ci)\n",
    "\n",
    "results = logrank_test(df['egfr'], df['event'], df['egfr'])\n",
    "\n",
    "# Extract the p-value from the test results\n",
    "p_value = results.p_value\n",
    "\n",
    "#Print the log-rank p-value\n",
    "print(\"Log-rank p-value:\", p_value)\n",
    "\n",
    "print(cph.summary['p'])"
   ]
  },
  {
   "cell_type": "code",
   "execution_count": 120,
   "metadata": {},
   "outputs": [],
   "source": [
    "## 三. 疗效评估"
   ]
  },
  {
   "cell_type": "code",
   "execution_count": 121,
   "metadata": {},
   "outputs": [
    {
     "name": "stdout",
     "output_type": "stream",
     "text": [
      "Count of 'PR' is 43\n",
      "Count of 'SD' is 29\n",
      "Count of 'PD' is 4\n",
      "Count of 'CR' is 4\n",
      "PR='0.5375'\n",
      "SD='0.3625'\n",
      "PD='0.05'\n",
      "CR='0.05'\n",
      "ORR='0.5875'\n",
      "DCR='0.95'\n"
     ]
    }
   ],
   "source": [
    "疗效评价=统计['最佳疗效']\n",
    "\n",
    "# number of PR\n",
    "# Count the occurrences of a specific string in a column\n",
    "PR = 'PR'\n",
    "count = (统计['最佳疗效'] == PR).sum()\n",
    "# Print the count\n",
    "print(\"Count of '{}' is {}\".format(PR, count))\n",
    "\n",
    "# number of SD\n",
    "# Count the occurrences of a specific string in a column\n",
    "SD = 'SD'\n",
    "count = (统计['最佳疗效'] == SD).sum()\n",
    "# Print the count\n",
    "print(\"Count of '{}' is {}\".format(SD, count))\n",
    "\n",
    "# number of PD\n",
    "# Count the occurrences of a specific string in a column\n",
    "PD = 'PD'\n",
    "count = (统计['最佳疗效'] == PD).sum()\n",
    "# Print the count\n",
    "print(\"Count of '{}' is {}\".format(PD, count))\n",
    "# number of CR\n",
    "# Count the occurrences of a specific string in a column\n",
    "CR = 'CR'\n",
    "count = (统计['最佳疗效'] == CR).sum()\n",
    "# Print the count\n",
    "print(\"Count of '{}' is {}\".format(CR, count))\n",
    "\n",
    "#PR SD PD CR\n",
    "PR=43/(43+29+4+4)\n",
    "print(\"PR='{}'\".format(PR))\n",
    "SD=29/(43+29+4+4)\n",
    "print(\"SD='{}'\".format(SD))\n",
    "PD=4/(43+29+4+4)\n",
    "print(\"PD='{}'\".format(PD))\n",
    "CR=4/(43+29+4+4)\n",
    "print(\"CR='{}'\".format(CR))\n",
    "\n",
    "#ORR DCR\n",
    "ORR=CR+PR\n",
    "print(\"ORR='{}'\".format(ORR))\n",
    "DCR=ORR+SD\n",
    "print(\"DCR='{}'\".format(DCR))"
   ]
  },
  {
   "cell_type": "code",
   "execution_count": 122,
   "metadata": {},
   "outputs": [
    {
     "name": "stdout",
     "output_type": "stream",
     "text": [
      "95% CI for ORR: (0.4820648670304296, 0.6720161732564526)\n",
      "95% CI for DCR: (0.8882495307680808, 0.9784563208456319)\n"
     ]
    }
   ],
   "source": [
    "from statsmodels.stats.proportion import proportion_confint\n",
    "\n",
    "# Calculate 95% CI for ORR\n",
    "orr_count = int(0.588 * 100)  # Convert percentage to count\n",
    "orr_total = 100  # Total sample size for ORR\n",
    "orr_ci = proportion_confint(orr_count, orr_total, alpha=0.05, method='wilson')\n",
    "\n",
    "print(\"95% CI for ORR:\", orr_ci)\n",
    "\n",
    "# Calculate 95% CI for DCR\n",
    "dcr_count = int(0.95 * 100)  # Convert percentage to count\n",
    "dcr_total = 100  # Total sample size for DCR\n",
    "dcr_ci = proportion_confint(dcr_count, dcr_total, alpha=0.05, method='wilson')\n",
    "\n",
    "print(\"95% CI for DCR:\", dcr_ci)"
   ]
  },
  {
   "cell_type": "code",
   "execution_count": 125,
   "metadata": {},
   "outputs": [
    {
     "data": {
      "image/png": "[encoded data removed]",
      "text/plain": [
       "<Figure size 640x480 with 1 Axes>"
      ]
     },
     "metadata": {},
     "output_type": "display_data"
    }
   ],
   "source": [
    "import pandas as pd\n",
    "from lifelines import KaplanMeierFitter\n",
    "import matplotlib.pyplot as plt\n",
    "\n",
    "# Example PFS data\n",
    "data = {'Time': [2, 4, 5, 8, 10, 12, 15, 20],\n",
    "        'Event': [1, 1, 1, 0, 1, 1, 0, 1]}\n",
    "\n",
    "df = pd.DataFrame(data)\n",
    "\n",
    "# Compute Kaplan-Meier estimates\n",
    "kmf = KaplanMeierFitter()\n",
    "kmf.fit(df['Time'], event_observed=df['Event'])\n",
    "\n",
    "# Create the survival table by month\n",
    "timeline = range(0, df['Time'].max() + 1)\n",
    "survival_prob = kmf.survival_function_\n",
    "\n",
    "# Plot the PFS curve\n",
    "plt.step(survival_prob.index, survival_prob['KM_estimate'], where=\"post\")\n",
    "plt.xlabel('Months')\n",
    "plt.ylabel('PFS Probability')\n",
    "plt.title('Progression-Free Survival')\n",
    "plt.show()\n"
   ]
  }
 ],
 "metadata": {
  "kernelspec": {
   "display_name": "Python 3",
   "language": "python",
   "name": "python3"
  },
  "language_info": {
   "codemirror_mode": {
    "name": "ipython",
    "version": 3
   },
   "file_extension": ".py",
   "mimetype": "text/x-python",
   "name": "python",
   "nbconvert_exporter": "python",
   "pygments_lexer": "ipython3",
   "version": "3.10.8"
  },
  "orig_nbformat": 4
 },
 "nbformat": 4,
 "nbformat_minor": 2
}
