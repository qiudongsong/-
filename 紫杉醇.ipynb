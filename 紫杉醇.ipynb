{
 "cells": [
  {
   "cell_type": "code",
   "execution_count": null,
   "metadata": {},
   "outputs": [],
   "source": [
    "#Q1：ALK有40阴性。意思是剩下60是阳性吗？还是没参加测试。\n",
    "#Q2：有人又失访，又PFS事件，哪个当截尾信息呢？\n",
    "#Q3：生存分析的事件变量怎么算？"
   ]
  },
  {
   "cell_type": "code",
   "execution_count": 61,
   "metadata": {},
   "outputs": [],
   "source": [
    "import numpy as np\n",
    "import pandas as pd\n",
    "import os\n",
    "from openpyxl import utils\n",
    "import warnings\n",
    "import statistics\n",
    "warnings.filterwarnings(\"ignore\", category=UserWarning)\n",
    "from scipy.stats import fisher_exact\n",
    "\n",
    "from lifelines import KaplanMeierFitter\n",
    "import matplotlib.pyplot as plt"
   ]
  },
  {
   "cell_type": "code",
   "execution_count": 3,
   "metadata": {},
   "outputs": [],
   "source": [
    "统计 = pd.read_excel('C:/Users/NC-O10/Dropbox/云蜚科技/脂质紫杉醇/紫杉醇干净的数据.xlsx', sheet_name='统计用100例')\n",
    "交差 = pd.read_excel('C:/Users/NC-O10/Dropbox/云蜚科技/脂质紫杉醇/紫杉醇干净的数据.xlsx', sheet_name='交差100例')"
   ]
  },
  {
   "cell_type": "code",
   "execution_count": null,
   "metadata": {},
   "outputs": [],
   "source": [
    "## 一. 描述性分析"
   ]
  },
  {
   "cell_type": "code",
   "execution_count": 38,
   "metadata": {},
   "outputs": [
    {
     "name": "stdout",
     "output_type": "stream",
     "text": [
      "64.11627906976744\n",
      "38.0\n",
      "81.0\n",
      "p-value: 0.4135961199851336\n"
     ]
    }
   ],
   "source": [
    "#年龄recoding\n",
    "from datetime import datetime\n",
    "确诊年龄= 统计['确诊年龄']\n",
    "df = pd.DataFrame(确诊年龄)\n",
    "\n",
    "# Remove rows with NA values\n",
    "年龄 = df.dropna()\n",
    "#print(年龄)\n",
    "中位数_年龄=np.mean(年龄)\n",
    "年龄max=np.max(年龄)\n",
    "年龄min=np.min(年龄)\n",
    "print(中位数_年龄)\n",
    "print(年龄min)\n",
    "print(年龄max)\n",
    "#recode 年龄 greater than mean=1, lower than mean=0\n",
    "# Assuming you have a DataFrame with an 'Age' column\n",
    "# Sample age values with NA\n",
    "ages = 统计['确诊年龄']\n",
    "年龄_中位 = pd.DataFrame({'Age': ages})\n",
    "# Fill NA values with a specific value (e.g., 0)\n",
    "年龄_中位['Age'] = 年龄_中位['Age'].fillna(64)\n",
    "\n",
    "#print(年龄_中位)\n",
    "年龄recode = pd.DataFrame({'Age': 统计['确诊年龄']})\n",
    "\n",
    "# Calculate the mean age\n",
    "mean_age = 64.1\n",
    "\n",
    "# Create a new column for recoded categories\n",
    "年龄recode['Age_Category'] = ''\n",
    "年龄recode=年龄recode.fillna(0)\n",
    "# Recode ages based on mean\n",
    "年龄recode.loc[年龄recode['Age'] > mean_age, 'Age_Category'] = '1'\n",
    "年龄recode.loc[年龄recode['Age'] < mean_age, 'Age_Category'] = '0'\n",
    "\n",
    "# Print the updated DataFrame\n",
    "#print(年龄recode)\n",
    "ALK=统计['ALK']\n",
    "ALK=统计['ALK'].fillna(1)\n",
    "ALK_recoded = ALK.where(ALK != '阴性', 0)\n",
    "#print(ALK_recoded)\n",
    "#calculate the fisher's exact test p-value\n",
    "from scipy.stats import fisher_exact\n",
    "import pandas as pd\n",
    "# Assuming you have a DataFrame with exposure and outcome columns\n",
    "紫杉醇_年龄 = pd.DataFrame({'Exposure': 年龄recode['Age_Category'],\n",
    "                   'Outcome': ALK_recoded})\n",
    "# Use replace() method to recode the variable\n",
    "# Extract the exposure and outcome columns as separate variables\n",
    "exposure = 紫杉醇_年龄['Exposure']\n",
    "outcome = 紫杉醇_年龄['Outcome']\n",
    "# Perform Fisher's exact test\n",
    "odds_ratio, p_value = fisher_exact(pd.crosstab(exposure, outcome))\n",
    "# Print the results\n",
    "#print(\"Odds Ratio:\", odds_ratio)\n",
    "print(\"p-value:\", p_value)"
   ]
  },
  {
   "cell_type": "code",
   "execution_count": 40,
   "metadata": {},
   "outputs": [
    {
     "name": "stdout",
     "output_type": "stream",
     "text": [
      "count     100\n",
      "unique      2\n",
      "top         男\n",
      "freq       98\n",
      "Name: 性别, dtype: object\n"
     ]
    }
   ],
   "source": [
    "#性别\n",
    "age=统计['性别'].describe()\n",
    "print(age)"
   ]
  },
  {
   "cell_type": "code",
   "execution_count": 42,
   "metadata": {},
   "outputs": [
    {
     "name": "stdout",
     "output_type": "stream",
     "text": [
      "清病理\n",
      "鳞状细胞癌    85\n",
      "非小细胞癌    10\n",
      "腺癌        4\n",
      "Name: count, dtype: int64\n"
     ]
    }
   ],
   "source": [
    "#清病理\n",
    "病理=统计['清病理'].value_counts()\n",
    "print(病理)"
   ]
  },
  {
   "cell_type": "code",
   "execution_count": 43,
   "metadata": {},
   "outputs": [
    {
     "name": "stdout",
     "output_type": "stream",
     "text": [
      "TNM分期\n",
      "IV      36\n",
      "IIIB    32\n",
      "IVA     17\n",
      "IVB     10\n",
      "IIIC     5\n",
      "Name: count, dtype: int64\n"
     ]
    }
   ],
   "source": [
    "#TNM\n",
    "TNM=统计['TNM分期'].value_counts()\n",
    "print(TNM)"
   ]
  },
  {
   "cell_type": "code",
   "execution_count": 44,
   "metadata": {},
   "outputs": [
    {
     "name": "stdout",
     "output_type": "stream",
     "text": [
      "EGFR\n",
      "阴性    40\n",
      "阳性     1\n",
      "Name: count, dtype: int64\n"
     ]
    }
   ],
   "source": [
    "#EGFR\n",
    "EGFR=统计['EGFR'].value_counts()\n",
    "print(EGFR)"
   ]
  },
  {
   "cell_type": "code",
   "execution_count": 45,
   "metadata": {},
   "outputs": [
    {
     "name": "stdout",
     "output_type": "stream",
     "text": [
      "ALK\n",
      "阴性    40\n",
      "Name: count, dtype: int64\n"
     ]
    }
   ],
   "source": [
    "#ALK\n",
    "ALK=统计['ALK'].value_counts()\n",
    "print(ALK)"
   ]
  },
  {
   "cell_type": "code",
   "execution_count": 47,
   "metadata": {},
   "outputs": [
    {
     "name": "stdout",
     "output_type": "stream",
     "text": [
      "最大用药周期数更新\n",
      "4    31\n",
      "2    30\n",
      "3    19\n",
      "5    12\n",
      "6     6\n",
      "8     1\n",
      "7     1\n",
      "Name: count, dtype: int64\n"
     ]
    }
   ],
   "source": [
    "#用药周期\n",
    "用药周期=统计['最大用药周期数更新'].value_counts()\n",
    "print(用药周期)"
   ]
  },
  {
   "cell_type": "code",
   "execution_count": 48,
   "metadata": {},
   "outputs": [
    {
     "name": "stdout",
     "output_type": "stream",
     "text": [
      "count      98.000000\n",
      "mean      794.418367\n",
      "std       402.080618\n",
      "min       180.000000\n",
      "25%       510.000000\n",
      "50%       705.000000\n",
      "75%      1080.000000\n",
      "max      1800.000000\n",
      "Name: 紫杉醇脂质体总剂量（mg）, dtype: float64\n"
     ]
    }
   ],
   "source": [
    "#剂量\n",
    "剂量=统计['紫杉醇脂质体总剂量（mg）'].describe()\n",
    "print(剂量)"
   ]
  },
  {
   "cell_type": "code",
   "execution_count": 49,
   "metadata": {},
   "outputs": [
    {
     "name": "stdout",
     "output_type": "stream",
     "text": [
      "联合免疫用药通用名\n",
      "替雷利珠单抗    61\n",
      "帕博利珠单抗    19\n",
      "信迪利单抗     14\n",
      "卡瑞利珠单抗     3\n",
      "度伐利尤单抗     2\n",
      "特瑞普利单抗     1\n",
      "Name: count, dtype: int64\n"
     ]
    }
   ],
   "source": [
    "#联合通用名\n",
    "联合通用名=统计['联合免疫用药通用名'].value_counts()\n",
    "print(联合通用名)"
   ]
  },
  {
   "cell_type": "code",
   "execution_count": 50,
   "metadata": {},
   "outputs": [
    {
     "name": "stdout",
     "output_type": "stream",
     "text": [
      "联合免疫用药周期数\n",
      "2     32\n",
      "3     25\n",
      "1     13\n",
      "4     10\n",
      "5      7\n",
      "7      3\n",
      "10     2\n",
      "12     2\n",
      "9      2\n",
      "6      2\n",
      "8      2\n",
      "Name: count, dtype: int64\n"
     ]
    }
   ],
   "source": [
    "#联合用药周期\n",
    "联合用药周期=统计['联合免疫用药周期数'].value_counts()\n",
    "print(联合用药周期)"
   ]
  },
  {
   "cell_type": "code",
   "execution_count": null,
   "metadata": {},
   "outputs": [],
   "source": []
  },
  {
   "cell_type": "code",
   "execution_count": null,
   "metadata": {},
   "outputs": [],
   "source": [
    "## 二. 生存分析"
   ]
  },
  {
   "cell_type": "code",
   "execution_count": null,
   "metadata": {},
   "outputs": [],
   "source": [
    "#是否失访\n",
    "失访=统计['是否失访'].value_counts()\n",
    "print(失访)\n",
    "#是否回顾\n",
    "回顾=统计['是否回顾'].value_counts()\n",
    "print(回顾)\n",
    "#有无PFS事件\n",
    "PFS=统计['有无PFS事件'].value_counts()\n",
    "print(PFS)\n"
   ]
  },
  {
   "cell_type": "code",
   "execution_count": 66,
   "metadata": {},
   "outputs": [
    {
     "name": "stdout",
     "output_type": "stream",
     "text": [
      "0     67 days\n",
      "1    144 days\n",
      "2    323 days\n",
      "3    356 days\n",
      "4    157 days\n",
      "       ...   \n",
      "95    51 days\n",
      "96     0 days\n",
      "97    26 days\n",
      "98    27 days\n",
      "99    26 days\n",
      "Name: date_difference, Length: 100, dtype: timedelta64[ns]\n"
     ]
    }
   ],
   "source": [
    "\n",
    "# Convert date columns to datetime data type\n",
    "联合用药时间={'start':统计['联合免疫用药开始日期'] ,'end': 统计['联合免疫用药结束日期']}\n",
    "联合时间=pd.DataFrame(联合用药时间)\n",
    "联合时间['start'] = pd.to_datetime(联合时间['start'] )\n",
    "联合时间['end'] = pd.to_datetime(联合时间['end'])\n",
    "\n",
    "# Subtract the columns and create a new column with the result\n",
    "联合时间['date_difference'] = 联合时间['end'] - 联合时间['start']\n",
    "\n",
    "# Print the resulting dataset\n",
    "print(联合时间['date_difference'])\n"
   ]
  },
  {
   "cell_type": "code",
   "execution_count": 59,
   "metadata": {},
   "outputs": [
    {
     "name": "stdout",
     "output_type": "stream",
     "text": [
      "是否失访\n",
      "0    82\n",
      "1    18\n",
      "Name: count, dtype: int64\n",
      "是否回顾\n",
      "1    58\n",
      "0    42\n",
      "Name: count, dtype: int64\n",
      "有无PFS事件\n",
      "0    55\n",
      "1    45\n",
      "Name: count, dtype: int64\n"
     ]
    }
   ],
   "source": []
  },
  {
   "cell_type": "code",
   "execution_count": 67,
   "metadata": {},
   "outputs": [
    {
     "data": {
      "image/png": "[encoded data removed]",
      "text/plain": [
       "<Figure size 640x480 with 1 Axes>"
      ]
     },
     "metadata": {},
     "output_type": "display_data"
    }
   ],
   "source": [
    "data = {\n",
    "    'time': 联合时间['date_difference'],\n",
    "    'event': 统计['有无PFS事件']\n",
    "}\n",
    "\n",
    "df = pd.DataFrame(data)\n",
    "\n",
    "# Fit Kaplan-Meier estimator\n",
    "kmf = KaplanMeierFitter()\n",
    "kmf.fit(df['time'], event_observed=df['event'])\n",
    "\n",
    "# Generate KM curve\n",
    "kmf.plot()\n",
    "plt.xlabel('Time')\n",
    "plt.ylabel('Survival Probability')\n",
    "plt.title('Kaplan-Meier Curve')\n",
    "plt.show()"
   ]
  },
  {
   "cell_type": "code",
   "execution_count": null,
   "metadata": {},
   "outputs": [],
   "source": [
    "## 三. 疗效评估"
   ]
  },
  {
   "cell_type": "code",
   "execution_count": 51,
   "metadata": {},
   "outputs": [
    {
     "name": "stdout",
     "output_type": "stream",
     "text": [
      "Count of 'PR' is 43\n",
      "Count of 'SD' is 29\n",
      "Count of 'PD' is 4\n",
      "Count of 'CR' is 4\n",
      "PR='0.38636363636363635'\n",
      "SD='0.3787878787878788'\n",
      "PD='0.13636363636363635'\n",
      "CR='0.09848484848484848'\n",
      "ORR='0.48484848484848486'\n",
      "DCR='0.8636363636363636'\n"
     ]
    }
   ],
   "source": [
    "疗效评价=统计['最佳疗效']\n",
    "\n",
    "# number of PR\n",
    "# Count the occurrences of a specific string in a column\n",
    "PR = 'PR'\n",
    "count = (统计['最佳疗效'] == PR).sum()\n",
    "# Print the count\n",
    "print(\"Count of '{}' is {}\".format(PR, count))\n",
    "\n",
    "# number of SD\n",
    "# Count the occurrences of a specific string in a column\n",
    "SD = 'SD'\n",
    "count = (统计['最佳疗效'] == SD).sum()\n",
    "# Print the count\n",
    "print(\"Count of '{}' is {}\".format(SD, count))\n",
    "\n",
    "# number of PD\n",
    "# Count the occurrences of a specific string in a column\n",
    "PD = 'PD'\n",
    "count = (统计['最佳疗效'] == PD).sum()\n",
    "# Print the count\n",
    "print(\"Count of '{}' is {}\".format(PD, count))\n",
    "# number of CR\n",
    "# Count the occurrences of a specific string in a column\n",
    "CR = 'CR'\n",
    "count = (统计['最佳疗效'] == CR).sum()\n",
    "# Print the count\n",
    "print(\"Count of '{}' is {}\".format(CR, count))\n",
    "\n",
    "#PR SD PD CR\n",
    "PR=51/(51+50+18+13)\n",
    "print(\"PR='{}'\".format(PR))\n",
    "SD=50/(51+50+18+13)\n",
    "print(\"SD='{}'\".format(SD))\n",
    "PD=18/(51+50+18+13)\n",
    "print(\"PD='{}'\".format(PD))\n",
    "CR=13/(51+50+18+13)\n",
    "print(\"CR='{}'\".format(CR))\n",
    "\n",
    "#ORR DCR\n",
    "ORR=CR+PR\n",
    "print(\"ORR='{}'\".format(ORR))\n",
    "DCR=ORR+SD\n",
    "print(\"DCR='{}'\".format(DCR))"
   ]
  }
 ],
 "metadata": {
  "kernelspec": {
   "display_name": "Python 3",
   "language": "python",
   "name": "python3"
  },
  "language_info": {
   "codemirror_mode": {
    "name": "ipython",
    "version": 3
   },
   "file_extension": ".py",
   "mimetype": "text/x-python",
   "name": "python",
   "nbconvert_exporter": "python",
   "pygments_lexer": "ipython3",
   "version": "3.10.8"
  },
  "orig_nbformat": 4
 },
 "nbformat": 4,
 "nbformat_minor": 2
}
