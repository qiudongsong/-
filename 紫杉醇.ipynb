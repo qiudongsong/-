{
 "cells": [
  {
   "cell_type": "code",
   "execution_count": 2,
   "metadata": {},
   "outputs": [],
   "source": [
    "import numpy as np\n",
    "import pandas as pd\n",
    "import os\n",
    "from openpyxl import utils\n",
    "import warnings\n",
    "import statistics\n",
    "warnings.filterwarnings(\"ignore\", category=UserWarning)\n",
    "from scipy.stats import fisher_exact"
   ]
  },
  {
   "cell_type": "code",
   "execution_count": 3,
   "metadata": {},
   "outputs": [],
   "source": [
    "统计 = pd.read_excel('C:/Users/NC-O10/Dropbox/云蜚科技/脂质紫杉醇/紫杉醇干净的数据.xlsx', sheet_name='统计用100例')\n",
    "交差 = pd.read_excel('C:/Users/NC-O10/Dropbox/云蜚科技/脂质紫杉醇/紫杉醇干净的数据.xlsx', sheet_name='交差100例')"
   ]
  },
  {
   "cell_type": "code",
   "execution_count": null,
   "metadata": {},
   "outputs": [],
   "source": [
    "## 一. 描述性分析"
   ]
  },
  {
   "cell_type": "code",
   "execution_count": 38,
   "metadata": {},
   "outputs": [
    {
     "name": "stdout",
     "output_type": "stream",
     "text": [
      "64.11627906976744\n",
      "38.0\n",
      "81.0\n",
      "p-value: 0.4135961199851336\n"
     ]
    }
   ],
   "source": [
    "#年龄recoding\n",
    "from datetime import datetime\n",
    "确诊年龄= 统计['确诊年龄']\n",
    "df = pd.DataFrame(确诊年龄)\n",
    "\n",
    "# Remove rows with NA values\n",
    "年龄 = df.dropna()\n",
    "#print(年龄)\n",
    "中位数_年龄=np.mean(年龄)\n",
    "年龄max=np.max(年龄)\n",
    "年龄min=np.min(年龄)\n",
    "print(中位数_年龄)\n",
    "print(年龄min)\n",
    "print(年龄max)\n",
    "#recode 年龄 greater than mean=1, lower than mean=0\n",
    "# Assuming you have a DataFrame with an 'Age' column\n",
    "# Sample age values with NA\n",
    "ages = 统计['确诊年龄']\n",
    "年龄_中位 = pd.DataFrame({'Age': ages})\n",
    "# Fill NA values with a specific value (e.g., 0)\n",
    "年龄_中位['Age'] = 年龄_中位['Age'].fillna(64)\n",
    "\n",
    "#print(年龄_中位)\n",
    "年龄recode = pd.DataFrame({'Age': 统计['确诊年龄']})\n",
    "\n",
    "# Calculate the mean age\n",
    "mean_age = 64.1\n",
    "\n",
    "# Create a new column for recoded categories\n",
    "年龄recode['Age_Category'] = ''\n",
    "年龄recode=年龄recode.fillna(0)\n",
    "# Recode ages based on mean\n",
    "年龄recode.loc[年龄recode['Age'] > mean_age, 'Age_Category'] = '1'\n",
    "年龄recode.loc[年龄recode['Age'] < mean_age, 'Age_Category'] = '0'\n",
    "\n",
    "# Print the updated DataFrame\n",
    "#print(年龄recode)\n",
    "ALK=统计['ALK']\n",
    "ALK=统计['ALK'].fillna(1)\n",
    "ALK_recoded = ALK.where(ALK != '阴性', 0)\n",
    "#print(ALK_recoded)\n",
    "#calculate the fisher's exact test p-value\n",
    "from scipy.stats import fisher_exact\n",
    "import pandas as pd\n",
    "# Assuming you have a DataFrame with exposure and outcome columns\n",
    "紫杉醇_年龄 = pd.DataFrame({'Exposure': 年龄recode['Age_Category'],\n",
    "                   'Outcome': ALK_recoded})\n",
    "# Use replace() method to recode the variable\n",
    "# Extract the exposure and outcome columns as separate variables\n",
    "exposure = 紫杉醇_年龄['Exposure']\n",
    "outcome = 紫杉醇_年龄['Outcome']\n",
    "# Perform Fisher's exact test\n",
    "odds_ratio, p_value = fisher_exact(pd.crosstab(exposure, outcome))\n",
    "# Print the results\n",
    "#print(\"Odds Ratio:\", odds_ratio)\n",
    "print(\"p-value:\", p_value)"
   ]
  },
  {
   "cell_type": "code",
   "execution_count": null,
   "metadata": {},
   "outputs": [],
   "source": [
    "## 二. 生存分析"
   ]
  },
  {
   "cell_type": "code",
   "execution_count": null,
   "metadata": {},
   "outputs": [],
   "source": [
    "## 三. 疗效评估"
   ]
  },
  {
   "cell_type": "code",
   "execution_count": null,
   "metadata": {},
   "outputs": [],
   "source": [
    "疗效评价=疗效评价记录['疗效评价']\n",
    "\n",
    "# number of PR\n",
    "# Count the occurrences of a specific string in a column\n",
    "PR = '部分缓解(PR)'\n",
    "count = (疗效评价记录['疗效评价'] == PR).sum()\n",
    "# Print the count\n",
    "print(\"Count of '{}' is {}\".format(PR, count))\n",
    "\n",
    "# number of SD\n",
    "# Count the occurrences of a specific string in a column\n",
    "SD = '疾病稳定(SD)'\n",
    "count = (疗效评价记录['疗效评价'] == SD).sum()\n",
    "# Print the count\n",
    "print(\"Count of '{}' is {}\".format(SD, count))\n",
    "\n",
    "# number of PD\n",
    "# Count the occurrences of a specific string in a column\n",
    "PD = '疾病进展(PD)'\n",
    "count = (疗效评价记录['疗效评价'] == PD).sum()\n",
    "# Print the count\n",
    "print(\"Count of '{}' is {}\".format(PD, count))\n",
    "# number of CR\n",
    "# Count the occurrences of a specific string in a column\n",
    "CR = '完全缓解(CR)'\n",
    "count = (疗效评价记录['疗效评价'] == CR).sum()\n",
    "# Print the count\n",
    "print(\"Count of '{}' is {}\".format(CR, count))\n",
    "\n",
    "#PR SD PD CR\n",
    "PR=51/(51+50+18+13)\n",
    "print(\"PR='{}'\".format(PR))\n",
    "SD=50/(51+50+18+13)\n",
    "print(\"SD='{}'\".format(SD))\n",
    "PD=18/(51+50+18+13)\n",
    "print(\"PD='{}'\".format(PD))\n",
    "CR=13/(51+50+18+13)\n",
    "print(\"CR='{}'\".format(CR))\n",
    "\n",
    "#ORR DCR\n",
    "ORR=CR+PR\n",
    "print(\"ORR='{}'\".format(ORR))\n",
    "DCR=ORR+SD\n",
    "print(\"DCR='{}'\".format(DCR))"
   ]
  }
 ],
 "metadata": {
  "kernelspec": {
   "display_name": "Python 3",
   "language": "python",
   "name": "python3"
  },
  "language_info": {
   "codemirror_mode": {
    "name": "ipython",
    "version": 3
   },
   "file_extension": ".py",
   "mimetype": "text/x-python",
   "name": "python",
   "nbconvert_exporter": "python",
   "pygments_lexer": "ipython3",
   "version": "3.10.8"
  },
  "orig_nbformat": 4
 },
 "nbformat": 4,
 "nbformat_minor": 2
}
