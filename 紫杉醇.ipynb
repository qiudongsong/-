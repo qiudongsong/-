{
 "cells": [
  {
   "cell_type": "code",
   "execution_count": 2,
   "metadata": {},
   "outputs": [],
   "source": [
    "import numpy as np\n",
    "import pandas as pd\n",
    "import os\n",
    "from openpyxl import utils\n",
    "import warnings\n",
    "import statistics\n",
    "warnings.filterwarnings(\"ignore\", category=UserWarning)\n",
    "from scipy.stats import fisher_exact"
   ]
  },
  {
   "cell_type": "code",
   "execution_count": 3,
   "metadata": {},
   "outputs": [],
   "source": [
    "统计 = pd.read_excel('C:/Users/NC-O10/Dropbox/云蜚科技/脂质紫杉醇/紫杉醇干净的数据.xlsx', sheet_name='统计用100例')\n",
    "交差 = pd.read_excel('C:/Users/NC-O10/Dropbox/云蜚科技/脂质紫杉醇/紫杉醇干净的数据.xlsx', sheet_name='交差100例')"
   ]
  },
  {
   "cell_type": "code",
   "execution_count": null,
   "metadata": {},
   "outputs": [],
   "source": [
    "## 一. 描述性分析"
   ]
  },
  {
   "cell_type": "code",
   "execution_count": null,
   "metadata": {},
   "outputs": [],
   "source": [
    "#年龄recoding\n",
    "from datetime import datetime\n",
    "出生日期= 基本信息['出生日期']\n",
    "# Sample data with a column of birth dates\n",
    "birth_dates = 基本信息['出生日期']\n",
    "\n",
    "# Function to calculate age from a birth date\n",
    "def calculate_age(birth_date):\n",
    "    current_date = datetime.now().date()\n",
    "    birth_date = datetime.strptime(birth_date, '%Y-%m-%d').date()\n",
    "    age = current_date.year - birth_date.year\n",
    "\n",
    "    if current_date.month < birth_date.month or (current_date.month == birth_date.month and current_date.day < birth_date.day):\n",
    "        age -= 1\n",
    "\n",
    "    return age\n",
    "\n",
    "# Convert birth dates to ages\n",
    "ages = [calculate_age(birth_date) for birth_date in birth_dates]\n",
    "\n",
    "# Print the resulting ages\n",
    "#print(\"Ages:\", ages)\n",
    "基本信息['年龄']=ages\n",
    "中位数_年龄=statistics.mean(基本信息['年龄'])\n",
    "范围_年龄max=max(基本信息['年龄'])\n",
    "范围_年龄min=min(基本信息['年龄'])\n",
    "print(中位数_年龄)\n",
    "print(范围_年龄min)\n",
    "print(范围_年龄max)\n",
    "#recode 年龄 greater than mean=1, lower than mean=0\n",
    "# Assuming you have a DataFrame with an 'Age' column\n",
    "年龄10 = pd.DataFrame({'Age': 基本信息['年龄']})\n",
    "\n",
    "# Calculate the mean age\n",
    "mean_age = np.mean(年龄10['Age'])\n",
    "\n",
    "# Create a new column for recoded categories\n",
    "年龄10['Age_Category'] = ''\n",
    "\n",
    "# Recode ages based on mean\n",
    "年龄10.loc[年龄10['Age'] > mean_age, 'Age_Category'] = '1'\n",
    "年龄10.loc[年龄10['Age'] < mean_age, 'Age_Category'] = '0'\n",
    "\n",
    "# Print the updated DataFrame\n",
    "#print(年龄10)\n",
    "\n",
    "#calculate the fisher's exact test p-value\n",
    "\n",
    "\n",
    "from scipy.stats import fisher_exact\n",
    "import pandas as pd\n",
    "\n",
    "# Assuming you have a DataFrame with exposure and outcome columns\n",
    "紫杉醇_年龄 = pd.DataFrame({'Exposure': 年龄10['Age_Category'],\n",
    "                   'Outcome': 紫杉醇['紫杉醇脂质体是否一线治疗']})\n",
    "\n",
    "# Extract the exposure and outcome columns as separate variables\n",
    "exposure = 紫杉醇_年龄['Exposure']\n",
    "outcome = 紫杉醇_年龄['Outcome']\n",
    "\n",
    "# Perform Fisher's exact test\n",
    "odds_ratio, p_value = fisher_exact(pd.crosstab(exposure, outcome))\n",
    "\n",
    "# Print the results\n",
    "#print(\"Odds Ratio:\", odds_ratio)\n",
    "print(\"p-value:\", p_value)"
   ]
  }
 ],
 "metadata": {
  "kernelspec": {
   "display_name": "Python 3",
   "language": "python",
   "name": "python3"
  },
  "language_info": {
   "codemirror_mode": {
    "name": "ipython",
    "version": 3
   },
   "file_extension": ".py",
   "mimetype": "text/x-python",
   "name": "python",
   "nbconvert_exporter": "python",
   "pygments_lexer": "ipython3",
   "version": "3.10.8"
  },
  "orig_nbformat": 4
 },
 "nbformat": 4,
 "nbformat_minor": 2
}
