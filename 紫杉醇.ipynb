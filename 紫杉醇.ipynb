{
 "cells": [
  {
   "cell_type": "code",
   "execution_count": 29,
   "metadata": {},
   "outputs": [],
   "source": [
    "import numpy as np\n",
    "import pandas as pd\n",
    "import os\n",
    "from openpyxl import utils\n",
    "import warnings\n",
    "import statistics\n",
    "warnings.filterwarnings(\"ignore\", category=UserWarning)\n",
    "from scipy.stats import fisher_exact\n",
    "\n",
    "from lifelines import KaplanMeierFitter\n",
    "import matplotlib.pyplot as plt\n",
    "from lifelines import CoxPHFitter"
   ]
  },
  {
   "cell_type": "code",
   "execution_count": 30,
   "metadata": {},
   "outputs": [
    {
     "name": "stderr",
     "output_type": "stream",
     "text": [
      "C:\\Users\\NC-O10\\AppData\\Local\\Temp\\ipykernel_14032\\592733351.py:1: FutureWarning: Inferring datetime64[ns] from data containing strings is deprecated and will be removed in a future version. To retain the old behavior explicitly pass Series(data, dtype=datetime64[ns])\n",
      "  统计 = pd.read_excel('C:/Users/NC-O10/Dropbox/云蜚科技/脂质紫杉醇/紫杉醇干净的数据1.xlsx', sheet_name='统计用100例')\n"
     ]
    }
   ],
   "source": [
    "统计 = pd.read_excel('C:/Users/NC-O10/Dropbox/云蜚科技/脂质紫杉醇/紫杉醇干净的数据1.xlsx', sheet_name='统计用100例')\n",
    "#交差 = pd.read_excel('C:/Users/NC-O10/Dropbox/云蜚科技/脂质紫杉醇/紫杉醇干净的数据.xlsx', sheet_name='交差100例')\n",
    "不良反应=pd.read_excel('C:/Users/NC-O10/Dropbox/云蜚科技/脂质紫杉醇/不良反应总结.xlsx')\n",
    "不良等级=pd.read_excel('C:/Users/NC-O10/Dropbox/云蜚科技/脂质紫杉醇/不良反应总结等级.xlsx')\n",
    "卡铂=pd.read_excel('C:/Users/NC-O10/Dropbox/云蜚科技/脂质紫杉醇/铂类药物列表.xlsx')"
   ]
  },
  {
   "cell_type": "code",
   "execution_count": 31,
   "metadata": {},
   "outputs": [],
   "source": [
    "## 一. 描述性分析"
   ]
  },
  {
   "cell_type": "code",
   "execution_count": 32,
   "metadata": {},
   "outputs": [
    {
     "name": "stdout",
     "output_type": "stream",
     "text": [
      "确诊年龄    64.22093\n",
      "dtype: float64\n",
      "确诊年龄    38.0\n",
      "dtype: float64\n",
      "确诊年龄    81.0\n",
      "dtype: float64\n",
      "p-value: 0.027270605448283327\n"
     ]
    },
    {
     "name": "stderr",
     "output_type": "stream",
     "text": [
      "c:\\Users\\NC-O10\\AppData\\Local\\Programs\\Python\\Python310\\lib\\site-packages\\numpy\\core\\fromnumeric.py:3430: FutureWarning: In a future version, DataFrame.mean(axis=None) will return a scalar mean over the entire DataFrame. To retain the old behavior, use 'frame.mean(axis=0)' or just 'frame.mean()'\n",
      "  return mean(axis=axis, dtype=dtype, out=out, **kwargs)\n",
      "c:\\Users\\NC-O10\\AppData\\Local\\Programs\\Python\\Python310\\lib\\site-packages\\numpy\\core\\fromnumeric.py:84: FutureWarning: In a future version, DataFrame.max(axis=None) will return a scalar max over the entire DataFrame. To retain the old behavior, use 'frame.max(axis=0)' or just 'frame.max()'\n",
      "  return reduction(axis=axis, out=out, **passkwargs)\n",
      "c:\\Users\\NC-O10\\AppData\\Local\\Programs\\Python\\Python310\\lib\\site-packages\\numpy\\core\\fromnumeric.py:84: FutureWarning: In a future version, DataFrame.min(axis=None) will return a scalar min over the entire DataFrame. To retain the old behavior, use 'frame.min(axis=0)' or just 'frame.min()'\n",
      "  return reduction(axis=axis, out=out, **passkwargs)\n"
     ]
    }
   ],
   "source": [
    "#年龄recoding\n",
    "from datetime import datetime\n",
    "确诊年龄= 统计['确诊年龄']\n",
    "df = pd.DataFrame(确诊年龄)\n",
    "\n",
    "# Remove rows with NA values\n",
    "年龄 = df.dropna()\n",
    "#print(年龄)\n",
    "中位数_年龄=np.mean(年龄)\n",
    "年龄max=np.max(年龄)\n",
    "年龄min=np.min(年龄)\n",
    "print(中位数_年龄)\n",
    "print(年龄min)\n",
    "print(年龄max)\n",
    "#recode 年龄 greater than mean=1, lower than mean=0\n",
    "# Assuming you have a DataFrame with an 'Age' column\n",
    "# Sample age values with NA\n",
    "ages = 统计['确诊年龄']\n",
    "年龄_中位 = pd.DataFrame({'Age': ages})\n",
    "# Fill NA values with a specific value (e.g., 0)\n",
    "年龄_中位['Age'] = 年龄_中位['Age'].fillna(64)\n",
    "\n",
    "#print(年龄_中位)\n",
    "年龄recode = pd.DataFrame({'Age': 统计['确诊年龄']})\n",
    "\n",
    "# Calculate the mean age\n",
    "mean_age = 64.1\n",
    "\n",
    "# Create a new column for recoded categories\n",
    "年龄recode['Age_Category'] = ''\n",
    "年龄recode=年龄recode.fillna(0)\n",
    "# Recode ages based on mean\n",
    "年龄recode.loc[年龄recode['Age'] > mean_age, 'Age_Category'] = '1'\n",
    "年龄recode.loc[年龄recode['Age'] < mean_age, 'Age_Category'] = '0'\n",
    "\n",
    "# Print the updated DataFrame\n",
    "#print(年龄recode)\n",
    "ALK=统计['ALK']\n",
    "ALK=统计['ALK'].fillna(0)\n",
    "ALK_recoded = ALK.where(ALK != '阴性', 0)\n",
    "pfs=统计['有无PFS事件']\n",
    "\n",
    "#print(ALK_recoded)\n",
    "#calculate the fisher's exact test p-value\n",
    "from scipy.stats import fisher_exact\n",
    "import pandas as pd\n",
    "# Assuming you have a DataFrame with exposure and outcome columns\n",
    "紫杉醇_年龄 = pd.DataFrame({'Exposure': 年龄recode['Age_Category'],\n",
    "                   'Outcome': pfs})\n",
    "# Use replace() method to recode the variable\n",
    "# Extract the exposure and outcome columns as separate variables\n",
    "exposure = 紫杉醇_年龄['Exposure']\n",
    "outcome = 紫杉醇_年龄['Outcome']\n",
    "# Perform Fisher's exact test\n",
    "odds_ratio, p_value = fisher_exact(pd.crosstab(exposure, outcome))\n",
    "# Print the results\n",
    "#print(\"Odds Ratio:\", odds_ratio)\n",
    "print(\"p-value:\", p_value)"
   ]
  },
  {
   "cell_type": "code",
   "execution_count": 33,
   "metadata": {},
   "outputs": [
    {
     "name": "stdout",
     "output_type": "stream",
     "text": [
      "count     98\n",
      "unique     2\n",
      "top        男\n",
      "freq      96\n",
      "Name: 性别, dtype: object\n",
      "p-value: SignificanceResult(statistic=0.7777777777777778, pvalue=1.0)\n"
     ]
    }
   ],
   "source": [
    "#性别\n",
    "sex=统计['性别'].describe()\n",
    "print(sex)\n",
    "\n",
    "紫杉醇_sex = pd.DataFrame({'Exposure': 统计['性别'],'Outcome': pfs})\n",
    "\n",
    "exposure = 紫杉醇_sex['Exposure']\n",
    "outcome = 紫杉醇_sex['Outcome']\n",
    "p_value = fisher_exact(pd.crosstab(exposure, outcome))\n",
    "print(\"p-value:\", p_value)"
   ]
  },
  {
   "cell_type": "code",
   "execution_count": 34,
   "metadata": {},
   "outputs": [
    {
     "name": "stdout",
     "output_type": "stream",
     "text": [
      "鳞状细胞癌    85\n",
      "非小细胞癌    11\n",
      "腺癌        4\n",
      "Name: 清病理, dtype: int64\n",
      "鳞状细胞癌: SignificanceResult(statistic=1.15625, pvalue=1.0)\n",
      "非小细胞癌: SignificanceResult(statistic=1.118421052631579, pvalue=1.0)\n",
      "腺癌: SignificanceResult(statistic=0.42857142857142855, pvalue=0.6324648547328959)\n"
     ]
    }
   ],
   "source": [
    "#清病理\n",
    "病理=统计['清病理'].value_counts()\n",
    "print(病理)\n",
    "import numpy as np\n",
    "\n",
    "qbl=pd.DataFrame(统计['清病理'])\n",
    "qblfilled=qbl.fillna(0)\n",
    "\n",
    "def recode(value, mapping):\n",
    "    return np.vectorize(mapping.get)(value, value)\n",
    "\n",
    "# Example usage\n",
    "original_values = qblfilled\n",
    "mapping = {\n",
    "    \"鳞状细胞癌\": 1,\n",
    "    \"非小细胞癌\": 2,\n",
    "    \"腺癌\": 3,\n",
    "}\n",
    "\n",
    "统计['清病理']=统计['清病理'].fillna(0)\n",
    "qblrecoded_values = recode(original_values, mapping)\n",
    "qbl1=np.where(qblrecoded_values==1,1,0)\n",
    "统计['清病理1']=qbl1\n",
    "qbl2=np.where(qblrecoded_values==2,1,0)\n",
    "统计['清病理2']=qbl2\n",
    "qbl3=np.where(qblrecoded_values==3,1,0)\n",
    "统计['清病理3']=qbl3\n",
    "from scipy.stats import fisher_exact\n",
    "import pandas as pd\n",
    "\n",
    "# Create a DataFrame with two columns\n",
    "data = {'Column1': 统计['清病理1'], 'Column2': 统计['有无PFS事件']}\n",
    "df = pd.DataFrame(data)\n",
    "\n",
    "# Create a contingency table from the DataFrame\n",
    "contingency_table = pd.crosstab(df['Column1'], df['Column2'])\n",
    "\n",
    "# Perform Fisher's exact test\n",
    "p_value = fisher_exact(contingency_table)\n",
    "\n",
    "# Print the results\n",
    "#print(\"Odds Ratio:\", odds_ratio)\n",
    "print(\"鳞状细胞癌:\", p_value)\n",
    "\n",
    "data = {'Column1': 统计['清病理2'], 'Column2': 统计['有无PFS事件']}\n",
    "df = pd.DataFrame(data)\n",
    "\n",
    "# Create a contingency table from the DataFrame\n",
    "contingency_table = pd.crosstab(df['Column1'], df['Column2'])\n",
    "\n",
    "# Perform Fisher's exact test\n",
    "p_value = fisher_exact(contingency_table)\n",
    "\n",
    "# Print the results\n",
    "#print(\"Odds Ratio:\", odds_ratio)\n",
    "print(\"非小细胞癌:\", p_value)\n",
    "\n",
    "data = {'Column1': 统计['清病理3'], 'Column2': 统计['有无PFS事件']}\n",
    "df = pd.DataFrame(data)\n",
    "\n",
    "# Create a contingency table from the DataFrame\n",
    "contingency_table = pd.crosstab(df['Column1'], df['Column2'])\n",
    "\n",
    "# Perform Fisher's exact test\n",
    "p_value = fisher_exact(contingency_table)\n",
    "\n",
    "# Print the results\n",
    "#print(\"Odds Ratio:\", odds_ratio)\n",
    "print(\"腺癌:\", p_value)"
   ]
  },
  {
   "cell_type": "code",
   "execution_count": 35,
   "metadata": {},
   "outputs": [
    {
     "name": "stdout",
     "output_type": "stream",
     "text": [
      "Chi-square statistic: 0.5655227485452846\n",
      "联合免疫用药通用名: 0.7536996185224316\n"
     ]
    }
   ],
   "source": [
    "统计['清病理'] = 统计['清病理'].fillna('0')\n",
    "\n",
    "import pandas as pd\n",
    "from scipy.stats import chi2_contingency\n",
    "\n",
    "# Create a DataFrame with two columns\n",
    "df = pd.DataFrame({'Column1': 统计['清病理'],\n",
    "                   'Column2': 统计['有无PFS事件']})\n",
    "\n",
    "# Create a contingency table from the DataFrame\n",
    "contingency_table = pd.crosstab(df['Column1'], df['Column2'])\n",
    "\n",
    "# Perform chi-square test\n",
    "chi2_stat, p_value, dof, expected = chi2_contingency(contingency_table)\n",
    "\n",
    "# Print the results\n",
    "print(\"Chi-square statistic:\", chi2_stat)\n",
    "print(\"联合免疫用药通用名:\", p_value)"
   ]
  },
  {
   "cell_type": "code",
   "execution_count": 36,
   "metadata": {},
   "outputs": [
    {
     "name": "stdout",
     "output_type": "stream",
     "text": [
      "IV      35\n",
      "IIIB    32\n",
      "IVA     18\n",
      "IVB     10\n",
      "IIIC     5\n",
      "Name: TNM分期, dtype: int64\n"
     ]
    }
   ],
   "source": [
    "#TNM\n",
    "#只分三四。\n",
    "TNM=统计['TNM分期'].value_counts()\n",
    "#print(TNM)\n",
    "#recode TNM\n",
    "#original_tnm = 统计['TNM分期']\n",
    "#recode_mapping = {'IVA': 'IV', 'IVB': 'IV', 'IIIB': 'III', 'IIIC': 'III'}\n",
    "#tnm_recoded = [recode_mapping.get(string, string) for string in original_tnm]\n",
    "#print(tnm_recoded)\n",
    "#统计['TNMre']=tnm_recoded\n",
    "#TNMrecoded=统计['TNMre'].value_counts()\n",
    "print(TNM)\n",
    "#fisher test\n",
    "#data = {'Column1': 统计['TNMre'], 'Column2': 统计['有无PFS事件']}\n",
    "#df = pd.DataFrame(data)\n",
    "#contingency_table = pd.crosstab(df['Column1'], df['Column2'])\n",
    "#p_value = fisher_exact(contingency_table)\n",
    "#print(\"TNM:\", p_value)"
   ]
  },
  {
   "cell_type": "code",
   "execution_count": 37,
   "metadata": {},
   "outputs": [
    {
     "name": "stdout",
     "output_type": "stream",
     "text": [
      "阴性    39\n",
      "Name: EGFR, dtype: int64\n"
     ]
    }
   ],
   "source": [
    "#EGFR\n",
    "EGFR=统计['EGFR'].value_counts()\n",
    "统计['EGFR'] = 统计['EGFR'].fillna('阴性')\n",
    "print(EGFR)\n",
    "\n",
    "#fisher test\n",
    "#data = {'Column1': 统计['EGFR'], 'Column2': 统计['有无PFS事件']}\n",
    "#df = pd.DataFrame(data)\n",
    "#contingency_table = pd.crosstab(df['Column1'], df['Column2'])\n",
    "#p_value = fisher_exact(contingency_table)\n",
    "#print(\"EGFR:\", p_value)"
   ]
  },
  {
   "cell_type": "code",
   "execution_count": 38,
   "metadata": {},
   "outputs": [
    {
     "name": "stdout",
     "output_type": "stream",
     "text": [
      "阴性    38\n",
      "Name: ALK, dtype: int64\n"
     ]
    }
   ],
   "source": [
    "#ALK\n",
    "ALK=统计['ALK'].value_counts()\n",
    "统计['ALK'] = 统计['ALK'].fillna('阴性')\n",
    "print(ALK)\n",
    "\n"
   ]
  },
  {
   "cell_type": "code",
   "execution_count": 39,
   "metadata": {},
   "outputs": [
    {
     "name": "stdout",
     "output_type": "stream",
     "text": [
      "4    31\n",
      "2    30\n",
      "3    19\n",
      "5    12\n",
      "6     6\n",
      "8     1\n",
      "7     1\n",
      "Name: 最大用药周期数更新, dtype: int64\n",
      "3.52\n",
      "4.0\n",
      "1.3302631318652711\n"
     ]
    }
   ],
   "source": [
    "#用药周期\n",
    "用药周期=统计['最大用药周期数更新'].value_counts()\n",
    "print(用药周期)\n",
    "\n",
    "\n",
    "平均数周期=np.mean(统计['最大用药周期数更新'])\n",
    "中位数周期=np.median(统计['最大用药周期数更新'])\n",
    "\n",
    "print(平均数周期)\n",
    "print(中位数周期)\n",
    "\n",
    "import numpy as np\n",
    "\n",
    "data = 统计['最大用药周期数更新']  # Example data\n",
    "\n",
    "sd = np.std(data)\n",
    "print(sd)"
   ]
  },
  {
   "cell_type": "code",
   "execution_count": 40,
   "metadata": {},
   "outputs": [
    {
     "name": "stdout",
     "output_type": "stream",
     "text": [
      "Chi-square statistic: 0.0\n",
      "EGFR: 1.0\n"
     ]
    }
   ],
   "source": [
    "import pandas as pd\n",
    "from scipy.stats import chi2_contingency\n",
    "\n",
    "# Create a DataFrame with two columns\n",
    "df = pd.DataFrame({'Column1': 统计['EGFR'],\n",
    "                   'Column2': 统计['有无PFS事件']})\n",
    "\n",
    "# Create a contingency table from the DataFrame\n",
    "contingency_table = pd.crosstab(df['Column1'], df['Column2'])\n",
    "\n",
    "# Perform chi-square test\n",
    "chi2_stat, p_value, dof, expected = chi2_contingency(contingency_table)\n",
    "\n",
    "# Print the results\n",
    "print(\"Chi-square statistic:\", chi2_stat)\n",
    "print(\"EGFR:\", p_value)"
   ]
  },
  {
   "cell_type": "code",
   "execution_count": 41,
   "metadata": {},
   "outputs": [
    {
     "name": "stdout",
     "output_type": "stream",
     "text": [
      "count      98.000000\n",
      "mean      794.295918\n",
      "std       401.631267\n",
      "min       180.000000\n",
      "25%       510.000000\n",
      "50%       705.000000\n",
      "75%      1080.000000\n",
      "max      1800.000000\n",
      "Name: 紫杉醇脂质体总剂量（mg）, dtype: float64\n",
      "T-statistic: 19.968608043694587\n",
      "p-value: 2.548447626317534e-49\n"
     ]
    }
   ],
   "source": [
    "#剂量\n",
    "剂量=统计['紫杉醇脂质体总剂量（mg）'].describe()\n",
    "print(剂量)\n",
    "统计['紫杉醇脂质体总剂量（mg）']=统计['紫杉醇脂质体总剂量（mg）'].fillna(794)\n",
    "import pandas as pd\n",
    "from scipy.stats import ttest_ind\n",
    "\n",
    "# Create a DataFrame with two columns of data\n",
    "df = pd.DataFrame({'Column1': 统计['紫杉醇脂质体总剂量（mg）'],\n",
    "                   'Column2': 统计['有无PFS事件']})\n",
    "\n",
    "# Extract the two columns as separate variables\n",
    "data1 = df['Column1']\n",
    "data2 = df['Column2']\n",
    "\n",
    "# Perform independent t-test\n",
    "t_statistic, p_value = ttest_ind(data1, data2)\n",
    "\n",
    "# Print the results\n",
    "print(\"T-statistic:\", t_statistic)\n",
    "print(\"p-value:\", p_value)"
   ]
  },
  {
   "cell_type": "code",
   "execution_count": 42,
   "metadata": {},
   "outputs": [
    {
     "name": "stdout",
     "output_type": "stream",
     "text": [
      "替雷利珠单抗    60\n",
      "帕博利珠单抗    19\n",
      "信迪利单抗     14\n",
      "卡瑞利珠单抗     4\n",
      "度伐利尤单抗     2\n",
      "特瑞普利单抗     1\n",
      "Name: 联合免疫用药通用名, dtype: int64\n",
      "Chi-square statistic: 6.206765383470917\n",
      "联合免疫用药通用名: 0.28661654430575106\n"
     ]
    }
   ],
   "source": [
    "#联合通用名\n",
    "联合通用名=统计['联合免疫用药通用名'].value_counts()\n",
    "print(联合通用名)\n",
    "\n",
    "import pandas as pd\n",
    "from scipy.stats import chi2_contingency\n",
    "\n",
    "# Create a DataFrame with two columns\n",
    "df = pd.DataFrame({'Column1': 统计['联合免疫用药通用名'],\n",
    "                   'Column2': 统计['有无PFS事件']})\n",
    "\n",
    "# Create a contingency table from the DataFrame\n",
    "contingency_table = pd.crosstab(df['Column1'], df['Column2'])\n",
    "\n",
    "# Perform chi-square test\n",
    "chi2_stat, p_value, dof, expected = chi2_contingency(contingency_table)\n",
    "\n",
    "# Print the results\n",
    "print(\"Chi-square statistic:\", chi2_stat)\n",
    "print(\"联合免疫用药通用名:\", p_value)"
   ]
  },
  {
   "cell_type": "code",
   "execution_count": 43,
   "metadata": {},
   "outputs": [
    {
     "name": "stdout",
     "output_type": "stream",
     "text": [
      "2     32\n",
      "3     25\n",
      "1     13\n",
      "4     10\n",
      "5      7\n",
      "7      3\n",
      "9      2\n",
      "10     2\n",
      "12     2\n",
      "6      2\n",
      "8      2\n",
      "Name: 联合免疫用药周期数, dtype: int64\n",
      "Chi-square statistic: 8.426122700908502\n",
      "联合免疫用药通用名: 0.5872883917601628\n",
      "3.38\n",
      "3.0\n",
      "2.3570320320267184\n"
     ]
    }
   ],
   "source": [
    "#联合用药周期 \n",
    "统计['联合免疫用药周期数'] = 统计['联合免疫用药周期数'].fillna('0')\n",
    "联合用药周期=统计['联合免疫用药周期数'].value_counts()\n",
    "print(联合用药周期)\n",
    "\n",
    "import pandas as pd\n",
    "from scipy.stats import chi2_contingency\n",
    "\n",
    "# Create a DataFrame with two columns\n",
    "df = pd.DataFrame({'Column1': 统计['联合免疫用药周期数'],\n",
    "                   'Column2': 统计['有无PFS事件']})\n",
    "\n",
    "# Create a contingency table from the DataFrame\n",
    "contingency_table = pd.crosstab(df['Column1'], df['Column2'])\n",
    "\n",
    "# Perform chi-square test\n",
    "chi2_stat, p_value, dof, expected = chi2_contingency(contingency_table)\n",
    "\n",
    "# Print the results\n",
    "print(\"Chi-square statistic:\", chi2_stat)\n",
    "print(\"联合免疫用药通用名:\", p_value)\n",
    "\n",
    "平均数周期=np.mean(统计['联合免疫用药周期数'])\n",
    "中位数周期=np.median(统计['联合免疫用药周期数'])\n",
    "\n",
    "print(平均数周期)\n",
    "print(中位数周期)\n",
    "\n",
    "import numpy as np\n",
    "\n",
    "data = 统计['联合免疫用药周期数']  # Example data\n",
    "\n",
    "sd = np.std(data)\n",
    "print(sd)"
   ]
  },
  {
   "cell_type": "code",
   "execution_count": 44,
   "metadata": {},
   "outputs": [
    {
     "name": "stdout",
     "output_type": "stream",
     "text": [
      "PR    43\n",
      "SD    28\n",
      "0     22\n",
      "CR     4\n",
      "PD     3\n",
      "Name: 最佳疗效, dtype: int64\n",
      "Chi-square statistic: 20.359924345008743\n",
      "最佳疗效: 0.0004239737189422844\n"
     ]
    }
   ],
   "source": [
    "#最佳疗效\n",
    "统计['最佳疗效'] = 统计['最佳疗效'].fillna('0')\n",
    "最佳疗效=统计['最佳疗效'].value_counts()\n",
    "print(最佳疗效)\n",
    "\n",
    "import pandas as pd\n",
    "from scipy.stats import chi2_contingency\n",
    "\n",
    "# Create a DataFrame with two columns\n",
    "df = pd.DataFrame({'Column1': 统计['最佳疗效'],\n",
    "                   'Column2': 统计['有无PFS事件']})\n",
    "\n",
    "# Create a contingency table from the DataFrame\n",
    "contingency_table = pd.crosstab(df['Column1'], df['Column2'])\n",
    "\n",
    "# Perform chi-square test\n",
    "chi2_stat, p_value, dof, expected = chi2_contingency(contingency_table)\n",
    "\n",
    "# Print the results\n",
    "print(\"Chi-square statistic:\", chi2_stat)\n",
    "print(\"最佳疗效:\", p_value)"
   ]
  },
  {
   "cell_type": "code",
   "execution_count": 45,
   "metadata": {},
   "outputs": [
    {
     "name": "stdout",
     "output_type": "stream",
     "text": [
      "0    57\n",
      "1    43\n",
      "Name: 有无PFS事件, dtype: int64\n"
     ]
    }
   ],
   "source": [
    "#PFS\n",
    "pfs=统计['有无PFS事件'].value_counts()\n",
    "print(pfs)"
   ]
  },
  {
   "cell_type": "code",
   "execution_count": 46,
   "metadata": {},
   "outputs": [
    {
     "name": "stdout",
     "output_type": "stream",
     "text": [
      "Chi-square statistic: 30.3803318491201\n",
      "不良反应: 0.3952017411249725\n",
      "Chi-square statistic: 1.7228569121447022\n",
      "不良等级: 0.6318641941084384\n"
     ]
    }
   ],
   "source": [
    "#不良反应\n",
    "不良=不良反应['AE'].value_counts()\n",
    "#print(不良)\n",
    "\n",
    "# Create a DataFrame from the series\n",
    "df = pd.DataFrame(不良)\n",
    "\n",
    "# Export the DataFrame to Excel\n",
    "df.to_excel('output.xlsx', index=False)\n",
    "\n",
    "等级=不良等级['级别'].value_counts()\n",
    "#print(等级)\n",
    "ID=不良等级['病例编号'].value_counts()\n",
    "#print(ID)\n",
    "unique=不良等级['病例编号']\n",
    "#print(unique)\n",
    "\n",
    "# Create a DataFrame with two columns\n",
    "df = pd.DataFrame({'Column1': 不良反应['AE'],\n",
    "                   'Column2': 统计['有无PFS事件']})\n",
    "\n",
    "# Create a contingency table from the DataFrame\n",
    "contingency_table = pd.crosstab(df['Column1'], df['Column2'])\n",
    "\n",
    "# Perform chi-square test\n",
    "chi2_stat, p_value, dof, expected = chi2_contingency(contingency_table)\n",
    "\n",
    "# Print the results\n",
    "print(\"Chi-square statistic:\", chi2_stat)\n",
    "print(\"不良反应:\", p_value)\n",
    "\n",
    "# Create a DataFrame with two columns\n",
    "df = pd.DataFrame({'Column1': 不良等级['级别'],\n",
    "                   'Column2': 统计['有无PFS事件']})\n",
    "\n",
    "# Create a contingency table from the DataFrame\n",
    "contingency_table = pd.crosstab(df['Column1'], df['Column2'])\n",
    "\n",
    "# Perform chi-square test\n",
    "chi2_stat, p_value, dof, expected = chi2_contingency(contingency_table)\n",
    "\n",
    "# Print the results\n",
    "print(\"Chi-square statistic:\", chi2_stat)\n",
    "print(\"不良等级:\", p_value)\n",
    "\n",
    "\n"
   ]
  },
  {
   "cell_type": "code",
   "execution_count": 47,
   "metadata": {},
   "outputs": [],
   "source": [
    "# Create a new column for recoded categories\n",
    "\n",
    "不良等级['不良等级recode']=不良等级['级别']\n",
    "\n",
    "\n",
    "不良等级['不良等级recode'] = np.where(不良等级['级别'] >= 3, 1, 0)\n",
    "\n",
    "#print(不良等级['不良等级recode'])"
   ]
  },
  {
   "cell_type": "code",
   "execution_count": 48,
   "metadata": {},
   "outputs": [
    {
     "name": "stdout",
     "output_type": "stream",
     "text": [
      "Chi-square statistic: 0.0603382047943616\n",
      "不良等级: 0.8059621904296894\n"
     ]
    }
   ],
   "source": [
    "# Create a DataFrame with two columns\n",
    "df = pd.DataFrame({'Column1': 不良等级['不良等级recode'],\n",
    "                   'Column2': 统计['有无PFS事件']})\n",
    "\n",
    "# Create a contingency table from the DataFrame\n",
    "contingency_table = pd.crosstab(df['Column1'], df['Column2'])\n",
    "\n",
    "# Perform chi-square test\n",
    "chi2_stat, p_value, dof, expected = chi2_contingency(contingency_table)\n",
    "\n",
    "# Print the results\n",
    "print(\"Chi-square statistic:\", chi2_stat)\n",
    "print(\"不良等级:\", p_value)\n"
   ]
  },
  {
   "cell_type": "code",
   "execution_count": 49,
   "metadata": {},
   "outputs": [
    {
     "name": "stdout",
     "output_type": "stream",
     "text": [
      "卡铂     91\n",
      "奈达铂     4\n",
      "顺铂      3\n",
      "0       2\n",
      "Name: 是否卡铂, dtype: int64\n",
      "1    91\n",
      "0     9\n",
      "Name: kabo, dtype: int64\n"
     ]
    }
   ],
   "source": [
    "#铂类\n",
    "import pandas as pd\n",
    "\n",
    "# Create the left dataframe\n",
    "left_df = pd.DataFrame({'Key': 统计['病例编号'],\n",
    "                        'Value1': 统计['是否卡铂']})\n",
    "\n",
    "# Create the right dataframe\n",
    "right_df = pd.DataFrame({'Key': 卡铂['病例编号'],\n",
    "                         'Value2': 卡铂['铂类药物']})\n",
    "\n",
    "# Perform the left join\n",
    "result = pd.merge(left_df, right_df, on='Key', how='left')\n",
    "\n",
    "# Print the result\n",
    "#print(result)\n",
    "统计['是否卡铂']=result['Value2']\n",
    "\n",
    "统计['是否卡铂']=统计['是否卡铂'].fillna(0)\n",
    "\n",
    "是否卡铂=统计['是否卡铂'].value_counts()\n",
    "print(是否卡铂)\n",
    "\n",
    "data = {'是否卡铂': 统计['是否卡铂']}\n",
    "kabo = pd.DataFrame(data)\n",
    "# Recode '男' to 1 and '女' to 0\n",
    "kabo['是否卡铂'] = kabo['是否卡铂'].replace({'奈达铂': 0, '卡铂': 1,'顺铂':0})\n",
    "# Print the updated DataFrame\n",
    "#print(bingli)\n",
    "\n",
    "统计['kabo']=kabo\n",
    "#print(统计['kabo'])\n",
    "\n",
    "kabo=统计['kabo'].value_counts()\n",
    "print(kabo)"
   ]
  },
  {
   "cell_type": "code",
   "execution_count": 50,
   "metadata": {},
   "outputs": [],
   "source": [
    "## 二. 生存分析\n",
    "#Notes:\n",
    "#时间：PFS-紫杉醇开始  AJ-L\n",
    "#删失：末次随访时间AE-L"
   ]
  },
  {
   "cell_type": "code",
   "execution_count": 66,
   "metadata": {},
   "outputs": [
    {
     "name": "stdout",
     "output_type": "stream",
     "text": [
      "0     266.2\n",
      "1      58.8\n",
      "2      82.4\n",
      "3     304.2\n",
      "4       NaN\n",
      "      ...  \n",
      "95      NaN\n",
      "96      NaN\n",
      "97      NaN\n",
      "98      NaN\n",
      "99      NaN\n",
      "Name: df_time, Length: 100, dtype: float64\n",
      "    date_column\n",
      "0      737970.0\n",
      "1      738101.8\n",
      "2      738325.6\n",
      "3      738026.4\n",
      "4      738140.2\n",
      "..          ...\n",
      "95     738551.0\n",
      "96     738514.2\n",
      "97     738571.0\n",
      "98     738580.4\n",
      "99     738555.0\n",
      "\n",
      "[100 rows x 1 columns]\n",
      "9.785657894736506\n",
      "8.621710526315024\n",
      "0.8684210526323449\n",
      "26.04605263157665\n",
      "5.084580508835747\n"
     ]
    }
   ],
   "source": [
    "data_zsc = {'date_column': 统计['紫杉醇脂质体开始日期']}\n",
    "df_zsc = pd.DataFrame(data_zsc)\n",
    "df_zsc['date_column'] = pd.to_datetime(df_zsc['date_column']).dt.year*365+pd.to_datetime(df_zsc['date_column']).dt.month*30.4+pd.to_datetime(df_zsc['date_column']).dt.day\n",
    "#print(df_zsc)\n",
    "统计['df_zsc']=df_zsc\n",
    "统计['df_time']=统计['df_pfs']-统计['df_zsc']\n",
    "print(统计['df_time'])\n",
    "\n",
    "#末次随访时间\n",
    "\n",
    "data_末次 = {'date_column': 统计['末次随访时间']}\n",
    "df_末次 = pd.DataFrame(data_末次)\n",
    "df_末次['date_column'] = pd.to_datetime(df_末次['date_column']).dt.year*365+pd.to_datetime(df_末次['date_column']).dt.month*30.4+pd.to_datetime(df_末次['date_column']).dt.day\n",
    "print(df_末次)\n",
    "统计['df_末次']=df_末次\n",
    "df_suifang=统计['df_末次']-统计['df_zsc']\n",
    "统计['df_suifang']=df_suifang\n",
    "\n",
    "平均数周期=np.mean(统计['df_suifang'])/30.4\n",
    "中位数周期=np.median(统计['df_suifang'])/30.4\n",
    "\n",
    "print(平均数周期)\n",
    "print(中位数周期)\n",
    "\n",
    "suifang_max=np.max(统计['df_suifang']/30.4)\n",
    "suifang_min=np.min(统计['df_suifang']/30.4)\n",
    "print(suifang_min)\n",
    "print(suifang_max)\n",
    "\n",
    "import numpy as np\n",
    "\n",
    "sd = np.std(统计['df_suifang']/30.4)\n",
    "print(sd)"
   ]
  },
  {
   "cell_type": "code",
   "execution_count": 52,
   "metadata": {},
   "outputs": [
    {
     "name": "stdout",
     "output_type": "stream",
     "text": [
      "0    82\n",
      "1    18\n",
      "Name: 是否失访, dtype: int64\n",
      "1    58\n",
      "0    42\n",
      "Name: 是否回顾, dtype: int64\n",
      "0    57\n",
      "1    43\n",
      "Name: 有无PFS事件, dtype: int64\n"
     ]
    }
   ],
   "source": [
    "#是否失访\n",
    "失访=统计['是否失访'].value_counts()\n",
    "print(失访)\n",
    "#是否回顾\n",
    "回顾=统计['是否回顾'].value_counts()\n",
    "print(回顾)\n",
    "#有无PFS事件\n",
    "PFS=统计['有无PFS事件'].value_counts()\n",
    "print(PFS)\n"
   ]
  },
  {
   "cell_type": "code",
   "execution_count": 53,
   "metadata": {},
   "outputs": [
    {
     "name": "stdout",
     "output_type": "stream",
     "text": [
      "    date_column\n",
      "0      737691.8\n",
      "1      737545.2\n",
      "2      737773.2\n",
      "3      737995.0\n",
      "4           NaN\n",
      "..          ...\n",
      "95          NaN\n",
      "96          NaN\n",
      "97          NaN\n",
      "98          NaN\n",
      "99          NaN\n",
      "\n",
      "[100 rows x 1 columns]\n"
     ]
    }
   ],
   "source": [
    "data_pfs = {'date_column': 统计['PFS事件']}\n",
    "df_pfs = pd.DataFrame(data_pfs)\n",
    "df_pfs['date_column'] = pd.to_datetime(df_pfs['date_column']).dt.year*365+pd.to_datetime(df_pfs['date_column']).dt.month*30.4+pd.to_datetime(df_pfs['date_column']).dt.day\n",
    "print(df_pfs)\n",
    "统计['df_pfs']=df_pfs"
   ]
  },
  {
   "cell_type": "code",
   "execution_count": 54,
   "metadata": {},
   "outputs": [
    {
     "name": "stdout",
     "output_type": "stream",
     "text": [
      "0     266.2\n",
      "1      58.8\n",
      "2      82.4\n",
      "3     304.2\n",
      "4       NaN\n",
      "      ...  \n",
      "95      NaN\n",
      "96      NaN\n",
      "97      NaN\n",
      "98      NaN\n",
      "99      NaN\n",
      "Name: df_time, Length: 100, dtype: float64\n"
     ]
    }
   ],
   "source": []
  },
  {
   "cell_type": "code",
   "execution_count": 55,
   "metadata": {},
   "outputs": [
    {
     "name": "stdout",
     "output_type": "stream",
     "text": [
      "0    267 days\n",
      "1     59 days\n",
      "2     81 days\n",
      "3    304 days\n",
      "4         NaT\n",
      "       ...   \n",
      "95        NaT\n",
      "96        NaT\n",
      "97        NaT\n",
      "98        NaT\n",
      "99        NaT\n",
      "Name: date_difference, Length: 100, dtype: timedelta64[ns]\n"
     ]
    }
   ],
   "source": [
    "\n",
    "# Convert date columns to datetime data type\n",
    "PFS用药时间={'start':统计['紫杉醇脂质体开始日期'] ,'end': 统计['PFS事件']}\n",
    "PFS时间=pd.DataFrame(PFS用药时间)\n",
    "PFS时间['start'] = pd.to_datetime(PFS时间['start'] )\n",
    "PFS时间['end'] = pd.to_datetime(PFS时间['end'])\n",
    "\n",
    "# Subtract the columns and create a new column with the result\n",
    "PFS时间['date_difference'] = PFS时间['end'] - PFS时间['start']\n",
    "\n",
    "# Print the resulting dataset\n",
    "\n",
    "\n",
    "print(PFS时间['date_difference'])"
   ]
  },
  {
   "cell_type": "code",
   "execution_count": null,
   "metadata": {},
   "outputs": [],
   "source": []
  },
  {
   "cell_type": "code",
   "execution_count": 56,
   "metadata": {},
   "outputs": [
    {
     "ename": "KeyError",
     "evalue": "'PFS时间m'",
     "output_type": "error",
     "traceback": [
      "\u001b[1;31m---------------------------------------------------------------------------\u001b[0m",
      "\u001b[1;31mKeyError\u001b[0m                                  Traceback (most recent call last)",
      "File \u001b[1;32mc:\\Users\\NC-O10\\AppData\\Local\\Programs\\Python\\Python310\\lib\\site-packages\\pandas\\core\\indexes\\base.py:3802\u001b[0m, in \u001b[0;36mIndex.get_loc\u001b[1;34m(self, key, method, tolerance)\u001b[0m\n\u001b[0;32m   3801\u001b[0m \u001b[39mtry\u001b[39;00m:\n\u001b[1;32m-> 3802\u001b[0m     \u001b[39mreturn\u001b[39;00m \u001b[39mself\u001b[39;49m\u001b[39m.\u001b[39;49m_engine\u001b[39m.\u001b[39;49mget_loc(casted_key)\n\u001b[0;32m   3803\u001b[0m \u001b[39mexcept\u001b[39;00m \u001b[39mKeyError\u001b[39;00m \u001b[39mas\u001b[39;00m err:\n",
      "File \u001b[1;32mc:\\Users\\NC-O10\\AppData\\Local\\Programs\\Python\\Python310\\lib\\site-packages\\pandas\\_libs\\index.pyx:138\u001b[0m, in \u001b[0;36mpandas._libs.index.IndexEngine.get_loc\u001b[1;34m()\u001b[0m\n",
      "File \u001b[1;32mc:\\Users\\NC-O10\\AppData\\Local\\Programs\\Python\\Python310\\lib\\site-packages\\pandas\\_libs\\index.pyx:165\u001b[0m, in \u001b[0;36mpandas._libs.index.IndexEngine.get_loc\u001b[1;34m()\u001b[0m\n",
      "File \u001b[1;32mpandas\\_libs\\hashtable_class_helper.pxi:5745\u001b[0m, in \u001b[0;36mpandas._libs.hashtable.PyObjectHashTable.get_item\u001b[1;34m()\u001b[0m\n",
      "File \u001b[1;32mpandas\\_libs\\hashtable_class_helper.pxi:5753\u001b[0m, in \u001b[0;36mpandas._libs.hashtable.PyObjectHashTable.get_item\u001b[1;34m()\u001b[0m\n",
      "\u001b[1;31mKeyError\u001b[0m: 'PFS时间m'",
      "\nThe above exception was the direct cause of the following exception:\n",
      "\u001b[1;31mKeyError\u001b[0m                                  Traceback (most recent call last)",
      "Cell \u001b[1;32mIn[56], line 1\u001b[0m\n\u001b[1;32m----> 1\u001b[0m 统计[\u001b[39m'\u001b[39m\u001b[39mPFS时间\u001b[39m\u001b[39m'\u001b[39m]\u001b[39m=\u001b[39m统计[\u001b[39m'\u001b[39;49m\u001b[39mPFS时间m\u001b[39;49m\u001b[39m'\u001b[39;49m]\u001b[39m/\u001b[39m\u001b[39m30.4\u001b[39m\n",
      "File \u001b[1;32mc:\\Users\\NC-O10\\AppData\\Local\\Programs\\Python\\Python310\\lib\\site-packages\\pandas\\core\\frame.py:3807\u001b[0m, in \u001b[0;36mDataFrame.__getitem__\u001b[1;34m(self, key)\u001b[0m\n\u001b[0;32m   3805\u001b[0m \u001b[39mif\u001b[39;00m \u001b[39mself\u001b[39m\u001b[39m.\u001b[39mcolumns\u001b[39m.\u001b[39mnlevels \u001b[39m>\u001b[39m \u001b[39m1\u001b[39m:\n\u001b[0;32m   3806\u001b[0m     \u001b[39mreturn\u001b[39;00m \u001b[39mself\u001b[39m\u001b[39m.\u001b[39m_getitem_multilevel(key)\n\u001b[1;32m-> 3807\u001b[0m indexer \u001b[39m=\u001b[39m \u001b[39mself\u001b[39;49m\u001b[39m.\u001b[39;49mcolumns\u001b[39m.\u001b[39;49mget_loc(key)\n\u001b[0;32m   3808\u001b[0m \u001b[39mif\u001b[39;00m is_integer(indexer):\n\u001b[0;32m   3809\u001b[0m     indexer \u001b[39m=\u001b[39m [indexer]\n",
      "File \u001b[1;32mc:\\Users\\NC-O10\\AppData\\Local\\Programs\\Python\\Python310\\lib\\site-packages\\pandas\\core\\indexes\\base.py:3804\u001b[0m, in \u001b[0;36mIndex.get_loc\u001b[1;34m(self, key, method, tolerance)\u001b[0m\n\u001b[0;32m   3802\u001b[0m     \u001b[39mreturn\u001b[39;00m \u001b[39mself\u001b[39m\u001b[39m.\u001b[39m_engine\u001b[39m.\u001b[39mget_loc(casted_key)\n\u001b[0;32m   3803\u001b[0m \u001b[39mexcept\u001b[39;00m \u001b[39mKeyError\u001b[39;00m \u001b[39mas\u001b[39;00m err:\n\u001b[1;32m-> 3804\u001b[0m     \u001b[39mraise\u001b[39;00m \u001b[39mKeyError\u001b[39;00m(key) \u001b[39mfrom\u001b[39;00m \u001b[39merr\u001b[39;00m\n\u001b[0;32m   3805\u001b[0m \u001b[39mexcept\u001b[39;00m \u001b[39mTypeError\u001b[39;00m:\n\u001b[0;32m   3806\u001b[0m     \u001b[39m# If we have a listlike key, _check_indexing_error will raise\u001b[39;00m\n\u001b[0;32m   3807\u001b[0m     \u001b[39m#  InvalidIndexError. Otherwise we fall through and re-raise\u001b[39;00m\n\u001b[0;32m   3808\u001b[0m     \u001b[39m#  the TypeError.\u001b[39;00m\n\u001b[0;32m   3809\u001b[0m     \u001b[39mself\u001b[39m\u001b[39m.\u001b[39m_check_indexing_error(key)\n",
      "\u001b[1;31mKeyError\u001b[0m: 'PFS时间m'"
     ]
    }
   ],
   "source": [
    "统计['PFS时间']=统计['PFS时间m']/30.4"
   ]
  },
  {
   "cell_type": "code",
   "execution_count": 57,
   "metadata": {},
   "outputs": [
    {
     "data": {
      "image/png": "[encoded data removed]",
      "text/plain": [
       "<Figure size 640x480 with 2 Axes>"
      ]
     },
     "metadata": {},
     "output_type": "display_data"
    },
    {
     "name": "stdout",
     "output_type": "stream",
     "text": [
      "mPFS: 334.0\n",
      "95% CI for mPFS of 169:        KM_estimate_lower_0.95  KM_estimate_upper_0.95\n",
      "0.0                  1.000000                1.000000\n",
      "27.0                 1.000000                1.000000\n",
      "39.0                 1.000000                1.000000\n",
      "54.0                 0.929775                0.998556\n",
      "59.0                 0.920860                0.994857\n",
      "66.0                 0.920860                0.994857\n",
      "81.0                 0.907781                0.989988\n",
      "89.0                 0.894361                0.984401\n",
      "90.0                 0.881039                0.978304\n",
      "95.0                 0.881039                0.978304\n",
      "102.0                0.867662                0.971770\n",
      "104.0                0.854512                0.964919\n",
      "106.0                0.854512                0.964919\n",
      "115.0                0.854512                0.964919\n",
      "116.0                0.854512                0.964919\n",
      "121.0                0.840623                0.957565\n",
      "122.0                0.800435                0.934156\n",
      "127.0                0.787422                0.925995\n",
      "129.0                0.774563                0.917686\n",
      "133.0                0.761844                0.909243\n",
      "134.0                0.761844                0.909243\n",
      "138.0                0.761844                0.909243\n",
      "139.0                0.761844                0.909243\n",
      "142.0                0.761844                0.909243\n",
      "147.0                0.748065                0.900230\n",
      "151.0                0.734461                0.891081\n",
      "153.0                0.721012                0.881807\n",
      "158.0                0.721012                0.881807\n",
      "163.0                0.707449                0.872312\n",
      "168.0                0.694027                0.862704\n",
      "170.0                0.680468                0.852875\n",
      "180.0                0.667040                0.842942\n",
      "181.0                0.653733                0.832909\n",
      "187.0                0.640262                0.822654\n",
      "190.0                0.626907                0.812306\n",
      "195.0                0.613661                0.801867\n",
      "196.0                0.600518                0.791342\n",
      "197.0                0.600518                0.791342\n",
      "198.0                0.600518                0.791342\n",
      "201.0                0.600518                0.791342\n",
      "208.0                0.600518                0.791342\n",
      "209.0                0.585512                0.779789\n",
      "210.0                0.585512                0.779789\n",
      "212.0                0.585512                0.779789\n",
      "215.0                0.585512                0.779789\n",
      "216.0                0.569457                0.767573\n",
      "218.0                0.569457                0.767573\n",
      "220.0                0.553150                0.755021\n",
      "221.0                0.553150                0.755021\n",
      "226.0                0.553150                0.755021\n",
      "228.0                0.553150                0.755021\n",
      "233.0                0.535539                0.741662\n",
      "240.0                0.535539                0.741662\n",
      "243.0                0.517016                0.727633\n",
      "250.0                0.517016                0.727633\n",
      "261.0                0.517016                0.727633\n",
      "262.0                0.517016                0.727633\n",
      "267.0                0.495931                0.712239\n",
      "273.0                0.475275                0.696583\n",
      "287.0                0.455011                0.680681\n",
      "295.0                0.455011                0.680681\n",
      "302.0                0.455011                0.680681\n",
      "304.0                0.412029                0.646564\n",
      "312.0                0.412029                0.646564\n",
      "313.0                0.412029                0.646564\n",
      "315.0                0.388965                0.628130\n",
      "329.0                0.388965                0.628130\n",
      "331.0                0.388965                0.628130\n",
      "334.0                0.363697                0.608218\n",
      "336.0                0.339138                0.587857\n",
      "346.0                0.315239                0.567069\n",
      "349.0                0.291961                0.545866\n",
      "376.0                0.291961                0.545866\n",
      "379.0                0.291961                0.545866\n",
      "402.0                0.291961                0.545866\n",
      "420.0                0.263082                0.521557\n",
      "429.0                0.263082                0.521557\n",
      "432.0                0.263082                0.521557\n",
      "437.0                0.263082                0.521557\n",
      "441.0                0.263082                0.521557\n",
      "460.0                0.263082                0.521557\n",
      "474.0                0.263082                0.521557\n",
      "475.0                0.263082                0.521557\n",
      "489.0                0.263082                0.521557\n",
      "497.0                0.263082                0.521557\n",
      "503.0                0.123529                0.490808\n",
      "521.0                0.123529                0.490808\n",
      "587.0                0.123529                0.490808\n",
      "790.0                0.123529                0.490808\n",
      "mPFS: 334.0\n",
      "95% CI: (0.36369652142372966, 0.6082176665592288)\n"
     ]
    }
   ],
   "source": [
    "import pandas as pd\n",
    "import matplotlib.pyplot as plt\n",
    "from lifelines import KaplanMeierFitter\n",
    "\n",
    "data = {\n",
    "    'Time': 统计['PFS时间'],\n",
    "    'Event': 统计['有无PFS事件']\n",
    "}\n",
    "df = pd.DataFrame(data)\n",
    "# Create a new column for censoring information\n",
    "#df['Censor'] = np.where(df['event'] == 1, 1, 0)\n",
    "# Fit Kaplan-Meier estimator\n",
    "kmf = KaplanMeierFitter()\n",
    "kmf.fit(df['Time'], event_observed=df['Event'])\n",
    "\n",
    "# Plot the KM curve\n",
    "#kmf.plot_survival_function(ci_show=False,at_risk_counts=True,show_censors=True)\n",
    "\n",
    "ax = kmf.plot_survival_function(ci_show=False, at_risk_counts=True, show_censors=True)\n",
    "\n",
    "# Add a title and label the axes\n",
    "ax.set_title(\"K-M Survival Curve\")\n",
    "ax.set_xlabel(\"Time(Month)\")\n",
    "ax.set_ylabel(\"PFS\")\n",
    "\n",
    "# Show the plot\n",
    "plt.show()\n",
    "mpfs = kmf.median_survival_time_\n",
    "\n",
    "# Print the mPFS\n",
    "print(\"mPFS:\", mpfs)\n",
    "\n",
    "# Calculate 95% confidence interval\n",
    "#ci = kmf.confidence_interval_()\n",
    "#print(\"95% CI:\", ci)\n",
    "\n",
    "ci = kmf.confidence_interval_\n",
    "\n",
    "# Print the 95% CI\n",
    "print(\"95% CI for mPFS of 169:\", ci.to_string(index=True, max_rows=100))\n",
    "\n",
    "pfs_1_year = kmf.predict(365)\n",
    "pfs_half_year = kmf.predict(182 )\n",
    "\n",
    "# Print the PFS values\n",
    "#print(\"1-year PFS:\", pfs_1_year)\n",
    "#print(\"half-year PFS:\", pfs_half_year)\n",
    "\n",
    "# Get the survival probabilities and confidence intervals\n",
    "survival_probs = kmf.survival_function_\n",
    "confidence_intervals = kmf.confidence_interval_survival_function_\n",
    "\n",
    "# Find the mPFS\n",
    "mPFS = survival_probs.index[survival_probs.iloc[:, 0] <= 0.5].min()\n",
    "\n",
    "# Find the 95% CI for mPFS\n",
    "ci_lower = confidence_intervals.iloc[:, 0].reindex([mPFS]).values[0]\n",
    "ci_upper = confidence_intervals.iloc[:, 1].reindex([mPFS]).values[0]\n",
    "\n",
    "# Print the results\n",
    "print(\"mPFS:\", mPFS)\n",
    "print(\"95% CI:\", (ci_lower, ci_upper))\n"
   ]
  },
  {
   "cell_type": "code",
   "execution_count": 58,
   "metadata": {},
   "outputs": [
    {
     "name": "stdout",
     "output_type": "stream",
     "text": [
      "0     0 days\n",
      "1     0 days\n",
      "2    59 days\n",
      "3    28 days\n",
      "4     0 days\n",
      "       ...  \n",
      "95   51 days\n",
      "96   23 days\n",
      "97   26 days\n",
      "98    0 days\n",
      "99   38 days\n",
      "Name: date_difference, Length: 100, dtype: timedelta64[ns]\n"
     ]
    }
   ],
   "source": [
    "\n",
    "# Convert date columns to datetime data type\n",
    "紫杉醇用药时间={'start':统计['紫杉醇脂质体开始日期'] ,'end': 统计['紫杉醇脂质体结束日期']}\n",
    "紫杉醇时间=pd.DataFrame(紫杉醇用药时间)\n",
    "紫杉醇时间['start'] = pd.to_datetime(紫杉醇时间['start'] )\n",
    "紫杉醇时间['end'] = pd.to_datetime(紫杉醇时间['end'])\n",
    "\n",
    "# Subtract the columns and create a new column with the result\n",
    "紫杉醇时间['date_difference'] = 紫杉醇时间['end'] - 紫杉醇时间['start']\n",
    "\n",
    "# Print the resulting dataset\n",
    "\n",
    "print(紫杉醇时间['date_difference'])\n",
    "\n"
   ]
  },
  {
   "cell_type": "code",
   "execution_count": 59,
   "metadata": {},
   "outputs": [],
   "source": [
    "统计['date_difference']=紫杉醇时间['date_difference']\n",
    "\n",
    "统计['date_difference'] = 统计['date_difference'].apply(lambda x: x.total_seconds())\n",
    "\n",
    "# Print the DataFrame with the converted values\n"
   ]
  },
  {
   "cell_type": "code",
   "execution_count": 60,
   "metadata": {},
   "outputs": [
    {
     "data": {
      "image/png": "[encoded data removed]",
      "text/plain": [
       "<Figure size 640x480 with 1 Axes>"
      ]
     },
     "metadata": {},
     "output_type": "display_data"
    },
    {
     "name": "stdout",
     "output_type": "stream",
     "text": [
      "mPFS: 9763200000000000.0\n"
     ]
    }
   ],
   "source": [
    "data = {\n",
    "    'time': 紫杉醇时间['date_difference'],\n",
    "    'event': 统计['有无PFS事件']\n",
    "}\n",
    "df = pd.DataFrame(data)\n",
    "\n",
    "# Fit Kaplan-Meier estimator\n",
    "kmf = KaplanMeierFitter()\n",
    "kmf.fit(df['time'], event_observed=df['event'])\n",
    "# Generate KM curve\n",
    "kmf.plot()\n",
    "plt.xlabel('Time')\n",
    "plt.ylabel('Survival Probability')\n",
    "plt.title('Kaplan-Meier Curve')\n",
    "plt.show()\n",
    "\n",
    "mpfs = kmf.median_survival_time_\n",
    "\n",
    "# Print the mPFS\n",
    "print(\"mPFS:\", mpfs)"
   ]
  },
  {
   "cell_type": "code",
   "execution_count": 61,
   "metadata": {},
   "outputs": [
    {
     "ename": "KeyError",
     "evalue": "'NAPFS'",
     "output_type": "error",
     "traceback": [
      "\u001b[1;31m---------------------------------------------------------------------------\u001b[0m",
      "\u001b[1;31mKeyError\u001b[0m                                  Traceback (most recent call last)",
      "File \u001b[1;32mc:\\Users\\NC-O10\\AppData\\Local\\Programs\\Python\\Python310\\lib\\site-packages\\pandas\\core\\indexes\\base.py:3802\u001b[0m, in \u001b[0;36mIndex.get_loc\u001b[1;34m(self, key, method, tolerance)\u001b[0m\n\u001b[0;32m   3801\u001b[0m \u001b[39mtry\u001b[39;00m:\n\u001b[1;32m-> 3802\u001b[0m     \u001b[39mreturn\u001b[39;00m \u001b[39mself\u001b[39;49m\u001b[39m.\u001b[39;49m_engine\u001b[39m.\u001b[39;49mget_loc(casted_key)\n\u001b[0;32m   3803\u001b[0m \u001b[39mexcept\u001b[39;00m \u001b[39mKeyError\u001b[39;00m \u001b[39mas\u001b[39;00m err:\n",
      "File \u001b[1;32mc:\\Users\\NC-O10\\AppData\\Local\\Programs\\Python\\Python310\\lib\\site-packages\\pandas\\_libs\\index.pyx:138\u001b[0m, in \u001b[0;36mpandas._libs.index.IndexEngine.get_loc\u001b[1;34m()\u001b[0m\n",
      "File \u001b[1;32mc:\\Users\\NC-O10\\AppData\\Local\\Programs\\Python\\Python310\\lib\\site-packages\\pandas\\_libs\\index.pyx:165\u001b[0m, in \u001b[0;36mpandas._libs.index.IndexEngine.get_loc\u001b[1;34m()\u001b[0m\n",
      "File \u001b[1;32mpandas\\_libs\\hashtable_class_helper.pxi:5745\u001b[0m, in \u001b[0;36mpandas._libs.hashtable.PyObjectHashTable.get_item\u001b[1;34m()\u001b[0m\n",
      "File \u001b[1;32mpandas\\_libs\\hashtable_class_helper.pxi:5753\u001b[0m, in \u001b[0;36mpandas._libs.hashtable.PyObjectHashTable.get_item\u001b[1;34m()\u001b[0m\n",
      "\u001b[1;31mKeyError\u001b[0m: 'NAPFS'",
      "\nThe above exception was the direct cause of the following exception:\n",
      "\u001b[1;31mKeyError\u001b[0m                                  Traceback (most recent call last)",
      "Cell \u001b[1;32mIn[61], line 13\u001b[0m\n\u001b[0;32m      5\u001b[0m \u001b[39m# Create two sample datasets for comparison\u001b[39;00m\n\u001b[0;32m      6\u001b[0m group1 \u001b[39m=\u001b[39m {\n\u001b[0;32m      7\u001b[0m     \u001b[39m'\u001b[39m\u001b[39mtime\u001b[39m\u001b[39m'\u001b[39m: 统计[\u001b[39m'\u001b[39m\u001b[39mdf_time\u001b[39m\u001b[39m'\u001b[39m],\n\u001b[0;32m      8\u001b[0m     \u001b[39m'\u001b[39m\u001b[39mevent\u001b[39m\u001b[39m'\u001b[39m: 统计[\u001b[39m'\u001b[39m\u001b[39m有无PFS事件\u001b[39m\u001b[39m'\u001b[39m]\n\u001b[0;32m      9\u001b[0m }\n\u001b[0;32m     11\u001b[0m group2 \u001b[39m=\u001b[39m {\n\u001b[0;32m     12\u001b[0m     \u001b[39m'\u001b[39m\u001b[39mtime\u001b[39m\u001b[39m'\u001b[39m: 统计[\u001b[39m'\u001b[39m\u001b[39mdf_time\u001b[39m\u001b[39m'\u001b[39m],\n\u001b[1;32m---> 13\u001b[0m     \u001b[39m'\u001b[39m\u001b[39mevent\u001b[39m\u001b[39m'\u001b[39m: 统计[\u001b[39m'\u001b[39;49m\u001b[39mNAPFS\u001b[39;49m\u001b[39m'\u001b[39;49m]\n\u001b[0;32m     14\u001b[0m }\n\u001b[0;32m     16\u001b[0m df_group1 \u001b[39m=\u001b[39m pd\u001b[39m.\u001b[39mDataFrame(group1)\n\u001b[0;32m     17\u001b[0m df_group2 \u001b[39m=\u001b[39m pd\u001b[39m.\u001b[39mDataFrame(group2)\n",
      "File \u001b[1;32mc:\\Users\\NC-O10\\AppData\\Local\\Programs\\Python\\Python310\\lib\\site-packages\\pandas\\core\\frame.py:3807\u001b[0m, in \u001b[0;36mDataFrame.__getitem__\u001b[1;34m(self, key)\u001b[0m\n\u001b[0;32m   3805\u001b[0m \u001b[39mif\u001b[39;00m \u001b[39mself\u001b[39m\u001b[39m.\u001b[39mcolumns\u001b[39m.\u001b[39mnlevels \u001b[39m>\u001b[39m \u001b[39m1\u001b[39m:\n\u001b[0;32m   3806\u001b[0m     \u001b[39mreturn\u001b[39;00m \u001b[39mself\u001b[39m\u001b[39m.\u001b[39m_getitem_multilevel(key)\n\u001b[1;32m-> 3807\u001b[0m indexer \u001b[39m=\u001b[39m \u001b[39mself\u001b[39;49m\u001b[39m.\u001b[39;49mcolumns\u001b[39m.\u001b[39;49mget_loc(key)\n\u001b[0;32m   3808\u001b[0m \u001b[39mif\u001b[39;00m is_integer(indexer):\n\u001b[0;32m   3809\u001b[0m     indexer \u001b[39m=\u001b[39m [indexer]\n",
      "File \u001b[1;32mc:\\Users\\NC-O10\\AppData\\Local\\Programs\\Python\\Python310\\lib\\site-packages\\pandas\\core\\indexes\\base.py:3804\u001b[0m, in \u001b[0;36mIndex.get_loc\u001b[1;34m(self, key, method, tolerance)\u001b[0m\n\u001b[0;32m   3802\u001b[0m     \u001b[39mreturn\u001b[39;00m \u001b[39mself\u001b[39m\u001b[39m.\u001b[39m_engine\u001b[39m.\u001b[39mget_loc(casted_key)\n\u001b[0;32m   3803\u001b[0m \u001b[39mexcept\u001b[39;00m \u001b[39mKeyError\u001b[39;00m \u001b[39mas\u001b[39;00m err:\n\u001b[1;32m-> 3804\u001b[0m     \u001b[39mraise\u001b[39;00m \u001b[39mKeyError\u001b[39;00m(key) \u001b[39mfrom\u001b[39;00m \u001b[39merr\u001b[39;00m\n\u001b[0;32m   3805\u001b[0m \u001b[39mexcept\u001b[39;00m \u001b[39mTypeError\u001b[39;00m:\n\u001b[0;32m   3806\u001b[0m     \u001b[39m# If we have a listlike key, _check_indexing_error will raise\u001b[39;00m\n\u001b[0;32m   3807\u001b[0m     \u001b[39m#  InvalidIndexError. Otherwise we fall through and re-raise\u001b[39;00m\n\u001b[0;32m   3808\u001b[0m     \u001b[39m#  the TypeError.\u001b[39;00m\n\u001b[0;32m   3809\u001b[0m     \u001b[39mself\u001b[39m\u001b[39m.\u001b[39m_check_indexing_error(key)\n",
      "\u001b[1;31mKeyError\u001b[0m: 'NAPFS'"
     ]
    }
   ],
   "source": [
    "import pandas as pd\n",
    "from lifelines import KaplanMeierFitter\n",
    "from lifelines.statistics import logrank_test\n",
    "\n",
    "# Create two sample datasets for comparison\n",
    "group1 = {\n",
    "    'time': 统计['df_time'],\n",
    "    'event': 统计['有无PFS事件']\n",
    "}\n",
    "\n",
    "group2 = {\n",
    "    'time': 统计['df_time'],\n",
    "    'event': 统计['NAPFS']\n",
    "}\n",
    "\n",
    "df_group1 = pd.DataFrame(group1)\n",
    "df_group2 = pd.DataFrame(group2)\n",
    "\n",
    "# Fit Kaplan-Meier estimators for each group\n",
    "kmf_group1 = KaplanMeierFitter()\n",
    "kmf_group1.fit(df_group1['time'], event_observed=df_group1['event'])\n",
    "\n",
    "kmf_group2 = KaplanMeierFitter()\n",
    "kmf_group2.fit(df_group2['time'], event_observed=df_group2['event'])\n",
    "\n",
    "# Perform log-rank test\n",
    "results = logrank_test(df_group1['time'], df_group2['time'], df_group1['event'], df_group2['event'])\n",
    "\n",
    "# Print the log-rank test statistic and p-value\n",
    "print(\"Log-Rank Test Statistic: %.2f\" % results.test_statistic)\n",
    "print(\"Log-Rank Test p-value: %.4f\" % results.p_value)"
   ]
  },
  {
   "cell_type": "code",
   "execution_count": null,
   "metadata": {},
   "outputs": [
    {
     "name": "stdout",
     "output_type": "stream",
     "text": [
      "Log-Rank Test Statistic: 0.63\n",
      "Log-Rank Test p-value: 0.4269\n"
     ]
    }
   ],
   "source": [
    "#logrank for 2 groups\n",
    "import pandas as pd\n",
    "from lifelines import KaplanMeierFitter\n",
    "from lifelines.statistics import logrank_test\n",
    "\n",
    "# Create two sample datasets for comparison\n",
    "group1 = {\n",
    "    'time': [10, 15, 20, 25, 30],\n",
    "    'event': [1, 0, 1, 0, 1]\n",
    "}\n",
    "\n",
    "group2 = {\n",
    "    'time': [5, 10, 15, 20, 25],\n",
    "    'event': [1, 1, 0, 1, 0]\n",
    "}\n",
    "\n",
    "df_group1 = pd.DataFrame(group1)\n",
    "df_group2 = pd.DataFrame(group2)\n",
    "\n",
    "# Fit Kaplan-Meier estimators for each group\n",
    "kmf_group1 = KaplanMeierFitter()\n",
    "kmf_group1.fit(df_group1['time'], event_observed=df_group1['event'])\n",
    "\n",
    "kmf_group2 = KaplanMeierFitter()\n",
    "kmf_group2.fit(df_group2['time'], event_observed=df_group2['event'])\n",
    "\n",
    "# Perform log-rank test\n",
    "results = logrank_test(df_group1['time'], df_group2['time'], df_group1['event'], df_group2['event'])\n",
    "\n",
    "# Print the log-rank test statistic and p-value\n",
    "print(\"Log-Rank Test Statistic: %.2f\" % results.test_statistic)\n",
    "print(\"Log-Rank Test p-value: %.4f\" % results.p_value)"
   ]
  },
  {
   "cell_type": "code",
   "execution_count": null,
   "metadata": {},
   "outputs": [],
   "source": []
  },
  {
   "cell_type": "code",
   "execution_count": null,
   "metadata": {},
   "outputs": [
    {
     "name": "stdout",
     "output_type": "stream",
     "text": [
      "    Column\n",
      "0        1\n",
      "1        0\n",
      "2        0\n",
      "3        0\n",
      "4        0\n",
      "..     ...\n",
      "95       0\n",
      "96       0\n",
      "97       0\n",
      "98       0\n",
      "99       0\n",
      "\n",
      "[100 rows x 1 columns]\n"
     ]
    },
    {
     "ename": "TypeError",
     "evalue": "Must pass DataFrame or 2-d ndarray with boolean values only",
     "output_type": "error",
     "traceback": [
      "\u001b[1;31m---------------------------------------------------------------------------\u001b[0m",
      "\u001b[1;31mTypeError\u001b[0m                                 Traceback (most recent call last)",
      "Cell \u001b[1;32mIn[45], line 93\u001b[0m\n\u001b[0;32m     89\u001b[0m 紫杉醇剂量[\u001b[39m'\u001b[39m\u001b[39m紫杉醇剂量\u001b[39m\u001b[39m'\u001b[39m] \u001b[39m=\u001b[39m np\u001b[39m.\u001b[39mwhere(紫杉醇剂量[\u001b[39m'\u001b[39m\u001b[39m紫杉醇剂量\u001b[39m\u001b[39m'\u001b[39m] \u001b[39m<\u001b[39m\u001b[39m=\u001b[39m \u001b[39m794\u001b[39m, \u001b[39m0\u001b[39m, \u001b[39m1\u001b[39m)\n\u001b[0;32m     91\u001b[0m 统计[\u001b[39m'\u001b[39m\u001b[39m紫杉醇剂量\u001b[39m\u001b[39m'\u001b[39m]\u001b[39m=\u001b[39m紫杉醇剂量\n\u001b[1;32m---> 93\u001b[0m 统计[sex]\u001b[39m=\u001b[39m统计[sex]\u001b[39m.\u001b[39mfillna(\u001b[39m0\u001b[39m)\n",
      "File \u001b[1;32mc:\\Users\\NC-O10\\AppData\\Local\\Programs\\Python\\Python310\\lib\\site-packages\\pandas\\core\\frame.py:3936\u001b[0m, in \u001b[0;36mDataFrame.__setitem__\u001b[1;34m(self, key, value)\u001b[0m\n\u001b[0;32m   3933\u001b[0m     \u001b[39mreturn\u001b[39;00m \u001b[39mself\u001b[39m\u001b[39m.\u001b[39m_setitem_slice(slc, value)\n\u001b[0;32m   3935\u001b[0m \u001b[39mif\u001b[39;00m \u001b[39misinstance\u001b[39m(key, DataFrame) \u001b[39mor\u001b[39;00m \u001b[39mgetattr\u001b[39m(key, \u001b[39m\"\u001b[39m\u001b[39mndim\u001b[39m\u001b[39m\"\u001b[39m, \u001b[39mNone\u001b[39;00m) \u001b[39m==\u001b[39m \u001b[39m2\u001b[39m:\n\u001b[1;32m-> 3936\u001b[0m     \u001b[39mself\u001b[39;49m\u001b[39m.\u001b[39;49m_setitem_frame(key, value)\n\u001b[0;32m   3937\u001b[0m \u001b[39melif\u001b[39;00m \u001b[39misinstance\u001b[39m(key, (Series, np\u001b[39m.\u001b[39mndarray, \u001b[39mlist\u001b[39m, Index)):\n\u001b[0;32m   3938\u001b[0m     \u001b[39mself\u001b[39m\u001b[39m.\u001b[39m_setitem_array(key, value)\n",
      "File \u001b[1;32mc:\\Users\\NC-O10\\AppData\\Local\\Programs\\Python\\Python310\\lib\\site-packages\\pandas\\core\\frame.py:4052\u001b[0m, in \u001b[0;36mDataFrame._setitem_frame\u001b[1;34m(self, key, value)\u001b[0m\n\u001b[0;32m   4049\u001b[0m     key \u001b[39m=\u001b[39m \u001b[39mself\u001b[39m\u001b[39m.\u001b[39m_constructor(key, \u001b[39m*\u001b[39m\u001b[39m*\u001b[39m\u001b[39mself\u001b[39m\u001b[39m.\u001b[39m_construct_axes_dict(), copy\u001b[39m=\u001b[39m\u001b[39mFalse\u001b[39;00m)\n\u001b[0;32m   4051\u001b[0m \u001b[39mif\u001b[39;00m key\u001b[39m.\u001b[39msize \u001b[39mand\u001b[39;00m \u001b[39mnot\u001b[39;00m \u001b[39mall\u001b[39m(is_bool_dtype(dtype) \u001b[39mfor\u001b[39;00m dtype \u001b[39min\u001b[39;00m key\u001b[39m.\u001b[39mdtypes):\n\u001b[1;32m-> 4052\u001b[0m     \u001b[39mraise\u001b[39;00m \u001b[39mTypeError\u001b[39;00m(\n\u001b[0;32m   4053\u001b[0m         \u001b[39m\"\u001b[39m\u001b[39mMust pass DataFrame or 2-d ndarray with boolean values only\u001b[39m\u001b[39m\"\u001b[39m\n\u001b[0;32m   4054\u001b[0m     )\n\u001b[0;32m   4056\u001b[0m \u001b[39mself\u001b[39m\u001b[39m.\u001b[39m_check_inplace_setting(value)\n\u001b[0;32m   4057\u001b[0m \u001b[39mself\u001b[39m\u001b[39m.\u001b[39m_check_setitem_copy()\n",
      "\u001b[1;31mTypeError\u001b[0m: Must pass DataFrame or 2-d ndarray with boolean values only"
     ]
    }
   ],
   "source": [
    "#recoding for cox model\n",
    "#print(年龄recode)\n",
    "统计['age']=年龄recode['Age_Category']\n",
    "#sex\n",
    "# Example DataFrame\n",
    "data = {'Gender': 统计['性别']}\n",
    "sex = pd.DataFrame(data)\n",
    "# Recode '男' to 1 and '女' to 0\n",
    "sex['Gender'] = sex['Gender'].replace({'男': 1, '女': 0})\n",
    "# Print the updated DataFrame\n",
    "#print(sex)\n",
    "\n",
    "统计['sex']=sex\n",
    "\n",
    "# recoding bingli\n",
    "统计['清病理']=统计['清病理'].fillna(0)\n",
    "\n",
    "\n",
    "data = {'病理': 统计['清病理']}\n",
    "bingli = pd.DataFrame(data)\n",
    "# Recode '男' to 1 and '女' to 0\n",
    "bingli['病理'] = bingli['病理'].replace({'鳞状细胞癌': 0, '非小细胞癌': 1,'腺癌':2})\n",
    "# Print the updated DataFrame\n",
    "#print(bingli)\n",
    "\n",
    "统计['bingli']=bingli\n",
    "\n",
    "#TNM\n",
    "data = {'TNM分期': 统计['TNMre']}\n",
    "tnm = pd.DataFrame(data)\n",
    "# Recode '男' to 1 and '女' to 0\n",
    "tnm['TNM分期'] = tnm['TNM分期'].replace({'III': 0, 'IV': 1})\n",
    "# Print the updated DataFrame\n",
    "#print(tnm)\n",
    "\n",
    "统计['tnm']=tnm\n",
    "\n",
    "#EGFR\n",
    "# Create a DataFrame with 59 occurrences of 1 and 41 occurrences of 0\n",
    "data = {'Column': [1] * 1 + [0] * 99}\n",
    "dfq = pd.DataFrame(data)\n",
    "\n",
    "# Print the DataFrame\n",
    "print(dfq)\n",
    "\n",
    "统计['egfr']=dfq\n",
    "\n",
    "import pandas as pd\n",
    "\n",
    "# Create a DataFrame with 59 occurrences of 1 and 41 occurrences of 0\n",
    "data = {'Column': [1] * 59 + [0] * 41}\n",
    "df = pd.DataFrame(data)\n",
    "\n",
    "# Print the DataFrame\n",
    "#print(df)\n",
    "\n",
    "统计['orr']=df\n",
    "data1 = {'Column': [1] * 34 + [0] * 66}\n",
    "df1 = pd.DataFrame(data1)\n",
    "\n",
    "# Print the DataFrame\n",
    "#print(df1)\n",
    "\n",
    "统计['不良反应大于三级']=df1\n",
    "data = {'最大用药': 统计['最大用药周期数更新']}\n",
    "最大用药 = pd.DataFrame(data)\n",
    "# Recode '男' to 1 and '女' to 0\n",
    "最大用药['最大用药'] = 最大用药['最大用药'].replace({2: 0, 3: 0,4:1,5:1,6:1,7:1,8:1})\n",
    "# Print the updated DataFrame\n",
    "#print(bingli)\n",
    "统计['最大用药']=最大用药\n",
    "\n",
    "\n",
    "data = {'联合免疫': 统计['联合免疫用药周期数']}\n",
    "联合免疫 = pd.DataFrame(data)\n",
    "# Recode '男' to 1 and '女' to 0\n",
    "联合免疫['联合免疫'] = 联合免疫['联合免疫'].replace({1:0,2: 0, 3: 0,4:1,5:1,6:1,7:1,8:1,9:1,10:1,11:1,12:1})\n",
    "# Print the updated DataFrame\n",
    "#print(bingli)\n",
    "统计['联合免疫']=联合免疫\n",
    "\n",
    "\n",
    "\n",
    "\n",
    "data = {'紫杉醇剂量': 统计['紫杉醇脂质体总剂量（mg）']}\n",
    "\n",
    "紫杉醇剂量 = pd.DataFrame(data)\n",
    "\n",
    "紫杉醇剂量['紫杉醇剂量'] = np.where(紫杉醇剂量['紫杉醇剂量'] <= 794, 0, 1)\n",
    "\n",
    "统计['紫杉醇剂量']=紫杉醇剂量\n",
    "\n",
    "\n"
   ]
  },
  {
   "cell_type": "code",
   "execution_count": null,
   "metadata": {},
   "outputs": [
    {
     "name": "stdout",
     "output_type": "stream",
     "text": [
      "0     334.6\n",
      "1       0.0\n",
      "2     419.8\n",
      "3     150.0\n",
      "4       0.0\n",
      "      ...  \n",
      "95      0.0\n",
      "96      0.0\n",
      "97      0.0\n",
      "98     68.8\n",
      "99     48.4\n",
      "Name: df_time, Length: 100, dtype: float64\n"
     ]
    }
   ],
   "source": [
    "print(统计['df_time'])"
   ]
  },
  {
   "cell_type": "code",
   "execution_count": null,
   "metadata": {},
   "outputs": [
    {
     "ename": "ValueError",
     "evalue": "all the input arrays must have same number of dimensions, but the array at index 0 has 2 dimension(s) and the array at index 1 has 1 dimension(s)",
     "output_type": "error",
     "traceback": [
      "\u001b[1;31m---------------------------------------------------------------------------\u001b[0m",
      "\u001b[1;31mValueError\u001b[0m                                Traceback (most recent call last)",
      "Cell \u001b[1;32mIn[74], line 34\u001b[0m\n\u001b[0;32m     31\u001b[0m ci \u001b[39m=\u001b[39m cph\u001b[39m.\u001b[39mconfidence_intervals_\u001b[39m.\u001b[39mapply(np\u001b[39m.\u001b[39mexp)\n\u001b[0;32m     32\u001b[0m \u001b[39m#print(\"95% CI:\", ci)\u001b[39;00m\n\u001b[1;32m---> 34\u001b[0m results \u001b[39m=\u001b[39m logrank_test (df, df[\u001b[39m'\u001b[39;49m\u001b[39mevent\u001b[39;49m\u001b[39m'\u001b[39;49m], df[\u001b[39m'\u001b[39;49m\u001b[39mtime\u001b[39;49m\u001b[39m'\u001b[39;49m])\n\u001b[0;32m     36\u001b[0m \u001b[39m# Extract the p-value from the test results\u001b[39;00m\n\u001b[0;32m     37\u001b[0m p_value \u001b[39m=\u001b[39m results\u001b[39m.\u001b[39mp_value\n",
      "File \u001b[1;32mc:\\Users\\NC-O10\\AppData\\Local\\Programs\\Python\\Python310\\lib\\site-packages\\lifelines\\statistics.py:577\u001b[0m, in \u001b[0;36mlogrank_test\u001b[1;34m(durations_A, durations_B, event_observed_A, event_observed_B, t_0, weights_A, weights_B, weightings, **kwargs)\u001b[0m\n\u001b[0;32m    574\u001b[0m \u001b[39mif\u001b[39;00m weights_B \u001b[39mis\u001b[39;00m \u001b[39mNone\u001b[39;00m:\n\u001b[0;32m    575\u001b[0m     weights_B \u001b[39m=\u001b[39m np\u001b[39m.\u001b[39mones(event_times_B\u001b[39m.\u001b[39mshape[\u001b[39m0\u001b[39m])\n\u001b[1;32m--> 577\u001b[0m event_times \u001b[39m=\u001b[39m np\u001b[39m.\u001b[39;49mr_[event_times_A, event_times_B]\n\u001b[0;32m    578\u001b[0m groups \u001b[39m=\u001b[39m np\u001b[39m.\u001b[39mr_[np\u001b[39m.\u001b[39mzeros(event_times_A\u001b[39m.\u001b[39mshape[\u001b[39m0\u001b[39m], dtype\u001b[39m=\u001b[39m\u001b[39mint\u001b[39m), np\u001b[39m.\u001b[39mones(event_times_B\u001b[39m.\u001b[39mshape[\u001b[39m0\u001b[39m], dtype\u001b[39m=\u001b[39m\u001b[39mint\u001b[39m)]\n\u001b[0;32m    579\u001b[0m event_observed \u001b[39m=\u001b[39m np\u001b[39m.\u001b[39mr_[event_observed_A, event_observed_B]\n",
      "File \u001b[1;32mc:\\Users\\NC-O10\\AppData\\Local\\Programs\\Python\\Python310\\lib\\site-packages\\numpy\\lib\\index_tricks.py:419\u001b[0m, in \u001b[0;36mAxisConcatenator.__getitem__\u001b[1;34m(self, key)\u001b[0m\n\u001b[0;32m    416\u001b[0m     \u001b[39mfor\u001b[39;00m k \u001b[39min\u001b[39;00m scalars:\n\u001b[0;32m    417\u001b[0m         objs[k] \u001b[39m=\u001b[39m objs[k]\u001b[39m.\u001b[39mastype(final_dtype)\n\u001b[1;32m--> 419\u001b[0m res \u001b[39m=\u001b[39m \u001b[39mself\u001b[39;49m\u001b[39m.\u001b[39;49mconcatenate(\u001b[39mtuple\u001b[39;49m(objs), axis\u001b[39m=\u001b[39;49maxis)\n\u001b[0;32m    421\u001b[0m \u001b[39mif\u001b[39;00m matrix:\n\u001b[0;32m    422\u001b[0m     oldndim \u001b[39m=\u001b[39m res\u001b[39m.\u001b[39mndim\n",
      "File \u001b[1;32m<__array_function__ internals>:200\u001b[0m, in \u001b[0;36mconcatenate\u001b[1;34m(*args, **kwargs)\u001b[0m\n",
      "\u001b[1;31mValueError\u001b[0m: all the input arrays must have same number of dimensions, but the array at index 0 has 2 dimension(s) and the array at index 1 has 1 dimension(s)"
     ]
    }
   ],
   "source": [
    "import pandas as pd\n",
    "from lifelines import CoxPHFitter\n",
    "from lifelines.statistics import logrank_test\n",
    "\n",
    "# Create a sample dataset\n",
    "data = {\n",
    "    'time': 统计['PFS时间'],\n",
    "    'event': 统计['有无PFS事件'],\n",
    "    'age': 统计['age'],\n",
    "    'sex': 统计['sex'],\n",
    "    'bingli': 统计['bingli'],\n",
    "    'tnm': 统计['tnm'] ,\n",
    "    'orr': 统计['orr'],\n",
    "    '最大用药': 统计['最大用药'],\n",
    "    '紫杉醇剂量': 统计['紫杉醇剂量'],\n",
    "    '联合免疫': 统计['联合免疫'],\n",
    "    'kabo': 统计['kabo']\n",
    "}\n",
    "\n",
    "df = pd.DataFrame(data)\n",
    "\n",
    "# Fit Cox proportional hazards model\n",
    "cph = CoxPHFitter()\n",
    "cph.fit(df, 'time', event_col='event', show_progress=False)\n",
    "\n",
    "# Get the hazard ratios\n",
    "hr = cph.hazard_ratios_\n",
    "#print(hr)\n",
    "# 95%CI and logrank\n",
    "# Print the hazard ratios\n",
    "ci = cph.confidence_intervals_.apply(np.exp)\n",
    "#print(\"95% CI:\", ci)\n",
    "\n",
    "results = logrank_test (df['time'], df['event'], df['time'])\n",
    "\n",
    "# Extract the p-value from the test results\n",
    "p_value = results.p_value\n",
    "\n",
    "#Print the log-rank p-value\n",
    "print(\"Log-rank p-value:\", p_value)\n",
    "\n",
    "#print(cph.summary['p'])\n",
    "#print(cph.summary)\n"
   ]
  },
  {
   "cell_type": "code",
   "execution_count": null,
   "metadata": {},
   "outputs": [],
   "source": [
    "## 三. 疗效评估"
   ]
  },
  {
   "cell_type": "code",
   "execution_count": null,
   "metadata": {},
   "outputs": [
    {
     "name": "stdout",
     "output_type": "stream",
     "text": [
      "Count of 'PR' is 43\n",
      "Count of 'SD' is 28\n",
      "Count of 'PD' is 3\n",
      "Count of 'CR' is 4\n",
      "PR='0.5512820512820513'\n",
      "SD='0.358974358974359'\n",
      "PD='0.038461538461538464'\n",
      "CR='0.05128205128205128'\n",
      "ORR='0.6025641025641026'\n",
      "DCR='0.9615384615384617'\n"
     ]
    }
   ],
   "source": [
    "疗效评价=统计['最佳疗效']\n",
    "\n",
    "# number of PR\n",
    "# Count the occurrences of a specific string in a column\n",
    "PR = 'PR'\n",
    "count = (统计['最佳疗效'] == PR).sum()\n",
    "# Print the count\n",
    "print(\"Count of '{}' is {}\".format(PR, count))\n",
    "\n",
    "# number of SD\n",
    "# Count the occurrences of a specific string in a column\n",
    "SD = 'SD'\n",
    "count = (统计['最佳疗效'] == SD).sum()\n",
    "# Print the count\n",
    "print(\"Count of '{}' is {}\".format(SD, count))\n",
    "\n",
    "# number of PD\n",
    "# Count the occurrences of a specific string in a column\n",
    "PD = 'PD'\n",
    "count = (统计['最佳疗效'] == PD).sum()\n",
    "# Print the count\n",
    "print(\"Count of '{}' is {}\".format(PD, count))\n",
    "# number of CR\n",
    "# Count the occurrences of a specific string in a column\n",
    "CR = 'CR'\n",
    "count = (统计['最佳疗效'] == CR).sum()\n",
    "# Print the count\n",
    "print(\"Count of '{}' is {}\".format(CR, count))\n",
    "\n",
    "#PR SD PD CR\n",
    "PR=43/(43+28+4+3)\n",
    "print(\"PR='{}'\".format(PR))\n",
    "SD=28/(43+28+4+3)\n",
    "print(\"SD='{}'\".format(SD))\n",
    "PD=3/(43+28+4+3)\n",
    "print(\"PD='{}'\".format(PD))\n",
    "CR=4/(43+28+4+3)\n",
    "print(\"CR='{}'\".format(CR))\n",
    "\n",
    "#ORR DCR\n",
    "ORR=CR+PR\n",
    "print(\"ORR='{}'\".format(ORR))\n",
    "DCR=ORR+SD\n",
    "print(\"DCR='{}'\".format(DCR))"
   ]
  },
  {
   "cell_type": "code",
   "execution_count": null,
   "metadata": {},
   "outputs": [
    {
     "name": "stdout",
     "output_type": "stream",
     "text": [
      "95% CI for ORR: (0.5020025867910618, 0.6905987135675411)\n",
      "95% CI for DCR: (0.8377378714728368, 0.9519274599974349)\n"
     ]
    }
   ],
   "source": [
    "from statsmodels.stats.proportion import proportion_confint\n",
    "\n",
    "# Calculate 95% CI for ORR\n",
    "orr_count = int(0.602 * 100)  # Convert percentage to count\n",
    "orr_total = 100  # Total sample size for ORR\n",
    "orr_ci = proportion_confint(orr_count, orr_total, alpha=0.05, method='wilson')\n",
    "\n",
    "print(\"95% CI for ORR:\", orr_ci)\n",
    "\n",
    "# Calculate 95% CI for DCR\n",
    "dcr_count = int(0.915 * 100)  # Convert percentage to count\n",
    "dcr_total = 100  # Total sample size for DCR\n",
    "dcr_ci = proportion_confint(dcr_count, dcr_total, alpha=0.05, method='wilson')\n",
    "\n",
    "print(\"95% CI for DCR:\", dcr_ci)"
   ]
  },
  {
   "cell_type": "code",
   "execution_count": null,
   "metadata": {},
   "outputs": [
    {
     "data": {
      "image/png": "[encoded data removed]",
      "text/plain": [
       "<Figure size 640x480 with 1 Axes>"
      ]
     },
     "metadata": {},
     "output_type": "display_data"
    }
   ],
   "source": [
    "import pandas as pd\n",
    "from lifelines import KaplanMeierFitter\n",
    "import matplotlib.pyplot as plt\n",
    "\n",
    "# Example PFS data\n",
    "data = {'Time': [2, 4, 5, 8, 10, 12, 15, 20],\n",
    "        'Event': [1, 1, 1, 0, 1, 1, 0, 1]}\n",
    "\n",
    "df = pd.DataFrame(data)\n",
    "\n",
    "# Compute Kaplan-Meier estimates\n",
    "kmf = KaplanMeierFitter()\n",
    "kmf.fit(df['Time'], event_observed=df['Event'])\n",
    "\n",
    "# Create the survival table by month\n",
    "timeline = range(0, df['Time'].max() + 1)\n",
    "survival_prob = kmf.survival_function_\n",
    "\n",
    "# Plot the PFS curve\n",
    "plt.step(survival_prob.index, survival_prob['KM_estimate'], where=\"post\")\n",
    "plt.xlabel('Months')\n",
    "plt.ylabel('PFS Probability')\n",
    "plt.title('Progression-Free Survival')\n",
    "plt.show()\n"
   ]
  }
 ],
 "metadata": {
  "kernelspec": {
   "display_name": "Python 3",
   "language": "python",
   "name": "python3"
  },
  "language_info": {
   "codemirror_mode": {
    "name": "ipython",
    "version": 3
   },
   "file_extension": ".py",
   "mimetype": "text/x-python",
   "name": "python",
   "nbconvert_exporter": "python",
   "pygments_lexer": "ipython3",
   "version": "3.10.8"
  },
  "orig_nbformat": 4
 },
 "nbformat": 4,
 "nbformat_minor": 2
}
